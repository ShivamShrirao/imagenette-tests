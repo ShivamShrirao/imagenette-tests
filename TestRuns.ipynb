{
  "nbformat": 4,
  "nbformat_minor": 0,
  "metadata": {
    "colab": {
      "name": "TestRuns.ipynb",
      "provenance": [],
      "collapsed_sections": []
    },
    "kernelspec": {
      "name": "python3",
      "display_name": "Python 3"
    },
    "language_info": {
      "name": "python"
    },
    "accelerator": "GPU"
  },
  "cells": [
    {
      "cell_type": "code",
      "metadata": {
        "colab": {
          "base_uri": "https://localhost:8080/"
        },
        "id": "c-4tdfJhMHc2",
        "outputId": "1fb5aaa5-5264-4f86-f470-285d5b269252"
      },
      "source": [
        "!nvidia-smi"
      ],
      "execution_count": 1,
      "outputs": [
        {
          "output_type": "stream",
          "text": [
            "Sun Apr 11 15:53:26 2021       \n",
            "+-----------------------------------------------------------------------------+\n",
            "| NVIDIA-SMI 460.67       Driver Version: 460.32.03    CUDA Version: 11.2     |\n",
            "|-------------------------------+----------------------+----------------------+\n",
            "| GPU  Name        Persistence-M| Bus-Id        Disp.A | Volatile Uncorr. ECC |\n",
            "| Fan  Temp  Perf  Pwr:Usage/Cap|         Memory-Usage | GPU-Util  Compute M. |\n",
            "|                               |                      |               MIG M. |\n",
            "|===============================+======================+======================|\n",
            "|   0  Tesla T4            Off  | 00000000:00:04.0 Off |                    0 |\n",
            "| N/A   55C    P8    11W /  70W |      0MiB / 15109MiB |      0%      Default |\n",
            "|                               |                      |                  N/A |\n",
            "+-------------------------------+----------------------+----------------------+\n",
            "                                                                               \n",
            "+-----------------------------------------------------------------------------+\n",
            "| Processes:                                                                  |\n",
            "|  GPU   GI   CI        PID   Type   Process name                  GPU Memory |\n",
            "|        ID   ID                                                   Usage      |\n",
            "|=============================================================================|\n",
            "|  No running processes found                                                 |\n",
            "+-----------------------------------------------------------------------------+\n"
          ],
          "name": "stdout"
        }
      ]
    },
    {
      "cell_type": "code",
      "metadata": {
        "colab": {
          "base_uri": "https://localhost:8080/"
        },
        "id": "IPmXPNOwMQxw",
        "outputId": "1bc16e61-d634-4251-d40e-0a2f9fc66c28"
      },
      "source": [
        "%cd /content"
      ],
      "execution_count": 2,
      "outputs": [
        {
          "output_type": "stream",
          "text": [
            "/content\n"
          ],
          "name": "stdout"
        }
      ]
    },
    {
      "cell_type": "code",
      "metadata": {
        "colab": {
          "base_uri": "https://localhost:8080/"
        },
        "id": "bJ5lUwfiMuY5",
        "outputId": "b6fe4f09-c47c-4d93-dfb5-ab1754085d90"
      },
      "source": [
        "%pip install -q tensorflow-addons[tensorflow]\n",
        "%pip install -q wandb"
      ],
      "execution_count": 3,
      "outputs": [
        {
          "output_type": "stream",
          "text": [
            "\u001b[K     |████████████████████████████████| 706kB 7.8MB/s \n",
            "\u001b[K     |████████████████████████████████| 2.1MB 7.5MB/s \n",
            "\u001b[K     |████████████████████████████████| 163kB 35.0MB/s \n",
            "\u001b[K     |████████████████████████████████| 133kB 37.7MB/s \n",
            "\u001b[K     |████████████████████████████████| 102kB 12.3MB/s \n",
            "\u001b[K     |████████████████████████████████| 71kB 10.7MB/s \n",
            "\u001b[?25h  Building wheel for pathtools (setup.py) ... \u001b[?25l\u001b[?25hdone\n",
            "  Building wheel for subprocess32 (setup.py) ... \u001b[?25l\u001b[?25hdone\n"
          ],
          "name": "stdout"
        }
      ]
    },
    {
      "cell_type": "code",
      "metadata": {
        "colab": {
          "base_uri": "https://localhost:8080/"
        },
        "id": "aDfb4WAQMy6y",
        "outputId": "010a9604-3ff0-470f-f66f-ef64157a06c5"
      },
      "source": [
        "!git clone https://github.com/ShivamShrirao/tiny-imagenet-test"
      ],
      "execution_count": 4,
      "outputs": [
        {
          "output_type": "stream",
          "text": [
            "Cloning into 'tiny-imagenet-test'...\n",
            "remote: Enumerating objects: 115, done.\u001b[K\n",
            "remote: Counting objects: 100% (115/115), done.\u001b[K\n",
            "remote: Compressing objects: 100% (78/78), done.\u001b[K\n",
            "remote: Total 115 (delta 67), reused 82 (delta 34), pack-reused 0\u001b[K\n",
            "Receiving objects: 100% (115/115), 192.28 KiB | 6.87 MiB/s, done.\n",
            "Resolving deltas: 100% (67/67), done.\n"
          ],
          "name": "stdout"
        }
      ]
    },
    {
      "cell_type": "code",
      "metadata": {
        "colab": {
          "base_uri": "https://localhost:8080/"
        },
        "id": "uM_hVbwHM0QN",
        "outputId": "50e46be7-c271-40a5-9de8-0f767127b3cf"
      },
      "source": [
        "%cd tiny-imagenet-test"
      ],
      "execution_count": 5,
      "outputs": [
        {
          "output_type": "stream",
          "text": [
            "/content/tiny-imagenet-test\n"
          ],
          "name": "stdout"
        }
      ]
    },
    {
      "cell_type": "code",
      "metadata": {
        "colab": {
          "base_uri": "https://localhost:8080/"
        },
        "id": "CS8zl5weM1T3",
        "outputId": "79a3e3f2-2d72-42b3-964e-d6a68d932bf1"
      },
      "source": [
        "!git pull"
      ],
      "execution_count": 6,
      "outputs": [
        {
          "output_type": "stream",
          "text": [
            "Already up to date.\n"
          ],
          "name": "stdout"
        }
      ]
    },
    {
      "cell_type": "code",
      "metadata": {
        "id": "605_JIh1M3Um"
      },
      "source": [
        "%load_ext autoreload\n",
        "%autoreload 2"
      ],
      "execution_count": 7,
      "outputs": []
    },
    {
      "cell_type": "code",
      "metadata": {
        "id": "81FT4N_uM4IE"
      },
      "source": [
        "import tensorflow as tf\n",
        "from tensorflow.keras import layers\n",
        "import numpy as np\n",
        "import matplotlib.pyplot as plt\n",
        "import PIL.Image\n",
        "import glob\n",
        "import os\n",
        "import csv\n",
        "from tqdm.notebook import tqdm\n",
        "from time import time\n",
        "import random\n",
        "%matplotlib inline"
      ],
      "execution_count": 8,
      "outputs": []
    },
    {
      "cell_type": "code",
      "metadata": {
        "id": "R1Arklj6M5VF"
      },
      "source": [
        "import tensorflow_addons as tfa\n",
        "import tensorflow_datasets as tfds"
      ],
      "execution_count": 9,
      "outputs": []
    },
    {
      "cell_type": "code",
      "metadata": {
        "id": "fJqf5pRYM8AY"
      },
      "source": [
        "import wandb\n",
        "from wandb.keras import WandbCallback"
      ],
      "execution_count": 10,
      "outputs": []
    },
    {
      "cell_type": "code",
      "metadata": {
        "id": "S3C_z2OIM83T"
      },
      "source": [
        "tf.keras.backend.set_image_data_format('channels_first')"
      ],
      "execution_count": 11,
      "outputs": []
    },
    {
      "cell_type": "code",
      "metadata": {
        "colab": {
          "base_uri": "https://localhost:8080/"
        },
        "id": "xnejQYczM-EL",
        "outputId": "fa528d8b-f40b-4870-e83c-1eea8010cf2a"
      },
      "source": [
        "from tensorflow.keras.mixed_precision import experimental as mixed_precision\n",
        "policy = mixed_precision.Policy('mixed_float16')\n",
        "mixed_precision.set_policy(policy)"
      ],
      "execution_count": 12,
      "outputs": [
        {
          "output_type": "stream",
          "text": [
            "INFO:tensorflow:Mixed precision compatibility check (mixed_float16): OK\n",
            "Your GPU will likely run quickly with dtype policy mixed_float16 as it has compute capability of at least 7.0. Your GPU: Tesla T4, compute capability 7.5\n",
            "WARNING:tensorflow:From /usr/local/lib/python3.7/dist-packages/tensorflow/python/keras/mixed_precision/loss_scale.py:56: DynamicLossScale.__init__ (from tensorflow.python.training.experimental.loss_scale) is deprecated and will be removed in a future version.\n",
            "Instructions for updating:\n",
            "Use tf.keras.mixed_precision.LossScaleOptimizer instead. LossScaleOptimizer now has all the functionality of DynamicLossScale\n"
          ],
          "name": "stdout"
        }
      ]
    },
    {
      "cell_type": "code",
      "metadata": {
        "id": "UbIGpqPLfTY9"
      },
      "source": [
        "train_inpds = tfds.load(\"imagenette/320px-v2\", split='train', shuffle_files=True)\n",
        "val_inpds = tfds.load(\"imagenette/320px-v2\", split='validation')"
      ],
      "execution_count": 15,
      "outputs": []
    },
    {
      "cell_type": "code",
      "metadata": {
        "id": "7vDzcQ1xsppz"
      },
      "source": [
        "BATCH_SIZE = 192\n",
        "img_height, img_width = 224, 224"
      ],
      "execution_count": 16,
      "outputs": []
    },
    {
      "cell_type": "code",
      "metadata": {
        "id": "mcm1rw9op3aK"
      },
      "source": [
        "AUTOTUNE = tf.data.AUTOTUNE"
      ],
      "execution_count": 17,
      "outputs": []
    },
    {
      "cell_type": "code",
      "metadata": {
        "id": "qHpfnjk3sR4K"
      },
      "source": [
        "rng = tf.random.Generator.from_seed(123, alg='philox')\n",
        "def preproc_train(inp):         # per image\n",
        "    img, lbl = inp['image'], inp['label']\n",
        "    img = tf.image.stateless_random_crop(img, (320, 320, 3), seed=rng.make_seeds(2)[0])\n",
        "    img = img/255\n",
        "    return img, lbl\n",
        "\n",
        "def preproc_val(inp):           # per image\n",
        "    img, lbl = inp['image'], inp['label']\n",
        "    img = tf.image.resize(img, (320, 320))\n",
        "    img = img/255\n",
        "    return img, lbl\n",
        "\n",
        "def augment(img, lbl):          # over batches\n",
        "    if tf.random.uniform(shape=[]) > 0.2:\n",
        "        seed = rng.make_seeds(2)[0]\n",
        "        img = tf.image.stateless_random_saturation(img, 0.3, 3, seed)\n",
        "        img = tf.image.stateless_random_hue(img, 0.08, seed)\n",
        "        img = tf.image.stateless_random_contrast(img, 0.4, 1, seed)\n",
        "        img = tf.image.stateless_random_brightness(img, 0.3, seed)\n",
        "        img = tf.clip_by_value(img, 0, 1)\n",
        "    return img, lbl\n",
        "\n",
        "augmentation_layers = tf.keras.Sequential([                     # over batches\n",
        "    layers.experimental.preprocessing.RandomFlip(\"horizontal\"),\n",
        "    layers.experimental.preprocessing.RandomHeight(0.3),\n",
        "    layers.experimental.preprocessing.RandomWidth(0.3),\n",
        "    layers.experimental.preprocessing.RandomTranslation(0.3,0.3),\n",
        "    layers.experimental.preprocessing.RandomRotation(0.15),     # 0.12 * 2pi = 43.2 deg\n",
        "    layers.experimental.preprocessing.Resizing(img_height, img_width)\n",
        "])\n",
        "def augmentation_layers_wrapper(x, y):\n",
        "    with tf.device('/device:GPU:0'):\n",
        "        if tf.random.uniform(shape=[]) > 0.2:\n",
        "            x, y = augmentation_layers(x, training=True), y\n",
        "        return x, y\n",
        "\n",
        "def channel_first(img, lbl):    # over batches\n",
        "    with tf.device('/device:GPU:0'):\n",
        "        img = tf.image.resize(img, (img_height, img_width))\n",
        "        img = tf.transpose(img, perm=[0,3,1,2])\n",
        "    return img, lbl"
      ],
      "execution_count": 40,
      "outputs": []
    },
    {
      "cell_type": "code",
      "metadata": {
        "id": "2GYTyhCKvaWF"
      },
      "source": [
        "train_ds = (\n",
        "    train_inpds\n",
        "    .map(preproc_train, num_parallel_calls=AUTOTUNE)\n",
        "    .batch(BATCH_SIZE)\n",
        "    .map(augment, num_parallel_calls=AUTOTUNE)\n",
        "    .map(augmentation_layers_wrapper, num_parallel_calls=AUTOTUNE)\n",
        "    .map(channel_first, num_parallel_calls=AUTOTUNE)\n",
        "    .prefetch(AUTOTUNE)\n",
        "    )"
      ],
      "execution_count": 41,
      "outputs": []
    },
    {
      "cell_type": "code",
      "metadata": {
        "id": "4Gf_80_qk2WB"
      },
      "source": [
        "val_ds = (\n",
        "    val_inpds\n",
        "    .map(preproc_val, num_parallel_calls=AUTOTUNE)\n",
        "    .batch(BATCH_SIZE)\n",
        "    .map(channel_first, num_parallel_calls=AUTOTUNE)\n",
        "    .prefetch(AUTOTUNE)\n",
        "    )"
      ],
      "execution_count": 42,
      "outputs": []
    },
    {
      "cell_type": "code",
      "metadata": {
        "colab": {
          "base_uri": "https://localhost:8080/",
          "height": 286
        },
        "id": "-n1w2RypsVgU",
        "outputId": "1e6a089a-af24-42df-d012-735c122fdf6f"
      },
      "source": [
        "a, b = next(iter(train_ds))\n",
        "plt.imshow(a[0].numpy().transpose(1,2,0))"
      ],
      "execution_count": 57,
      "outputs": [
        {
          "output_type": "execute_result",
          "data": {
            "text/plain": [
              "<matplotlib.image.AxesImage at 0x7f1f8f3c2fd0>"
            ]
          },
          "metadata": {
            "tags": []
          },
          "execution_count": 57
        },
        {
          "output_type": "display_data",
          "data": {
            "image/png": "[encoded data removed]",
            "text/plain": [
              "<Figure size 432x288 with 1 Axes>"
            ]
          },
          "metadata": {
            "tags": [],
            "needs_background": "light"
          }
        }
      ]
    },
    {
      "cell_type": "code",
      "metadata": {
        "id": "mZpFBajCsasx",
        "colab": {
          "base_uri": "https://localhost:8080/",
          "height": 68
        },
        "outputId": "8b01dedb-f2fb-4876-beb8-1481826d546c"
      },
      "source": [
        "wandb.login()"
      ],
      "execution_count": 63,
      "outputs": [
        {
          "output_type": "display_data",
          "data": {
            "application/javascript": [
              "\n",
              "        window._wandbApiKey = new Promise((resolve, reject) => {\n",
              "            function loadScript(url) {\n",
              "            return new Promise(function(resolve, reject) {\n",
              "                let newScript = document.createElement(\"script\");\n",
              "                newScript.onerror = reject;\n",
              "                newScript.onload = resolve;\n",
              "                document.body.appendChild(newScript);\n",
              "                newScript.src = url;\n",
              "            });\n",
              "            }\n",
              "            loadScript(\"https://cdn.jsdelivr.net/npm/postmate/build/postmate.min.js\").then(() => {\n",
              "            const iframe = document.createElement('iframe')\n",
              "            iframe.style.cssText = \"width:0;height:0;border:none\"\n",
              "            document.body.appendChild(iframe)\n",
              "            const handshake = new Postmate({\n",
              "                container: iframe,\n",
              "                url: 'https://wandb.ai/authorize'\n",
              "            });\n",
              "            const timeout = setTimeout(() => reject(\"Couldn't auto authenticate\"), 5000)\n",
              "            handshake.then(function(child) {\n",
              "                child.on('authorize', data => {\n",
              "                    clearTimeout(timeout)\n",
              "                    resolve(data)\n",
              "                });\n",
              "            });\n",
              "            })\n",
              "        });\n",
              "    "
            ],
            "text/plain": [
              "<IPython.core.display.Javascript object>"
            ]
          },
          "metadata": {
            "tags": []
          }
        },
        {
          "output_type": "stream",
          "text": [
            "\u001b[34m\u001b[1mwandb\u001b[0m: Appending key for api.wandb.ai to your netrc file: /root/.netrc\n"
          ],
          "name": "stderr"
        },
        {
          "output_type": "execute_result",
          "data": {
            "text/plain": [
              "True"
            ]
          },
          "metadata": {
            "tags": []
          },
          "execution_count": 63
        }
      ]
    },
    {
      "cell_type": "code",
      "metadata": {
        "id": "K6U3Nbb2sbov"
      },
      "source": [
        "config_defaults = {\n",
        "    'activation'            : 'relu',\n",
        "    'batch_size'            : BATCH_SIZE,\n",
        "    'dp_rate'               : 0,\n",
        "    'optimizer'             : 'adamw',\n",
        "    'lr'                    : 8e-4,\n",
        "    'weight_decay'          : 2e-6,\n",
        "    'squeeze_reduce'        : 0,\n",
        "    'loss_function'         : 'cce',\n",
        "    'model'                 : 'Resnet50',\n",
        "    'z_data'                : ['strides: 1,2,2,2']\n",
        "}"
      ],
      "execution_count": 64,
      "outputs": []
    },
    {
      "cell_type": "code",
      "metadata": {
        "colab": {
          "base_uri": "https://localhost:8080/",
          "height": 136
        },
        "id": "WKzlcwTPq8XU",
        "outputId": "0280bba3-f023-4c09-e2c2-a189e70b5fa8"
      },
      "source": [
        "run = wandb.init(project=\"imagenette-tests\", entity=\"shivamshrirao\", config=config_defaults)\n",
        "CONFIG = wandb.config"
      ],
      "execution_count": 65,
      "outputs": [
        {
          "output_type": "stream",
          "text": [
            "\u001b[34m\u001b[1mwandb\u001b[0m: Currently logged in as: \u001b[33mshivamshrirao\u001b[0m (use `wandb login --relogin` to force relogin)\n"
          ],
          "name": "stderr"
        },
        {
          "output_type": "display_data",
          "data": {
            "text/html": [
              "\n",
              "                Tracking run with wandb version 0.10.25<br/>\n",
              "                Syncing run <strong style=\"color:#cdcd00\">jolly-planet-1</strong> to <a href=\"https://wandb.ai\" target=\"_blank\">Weights & Biases</a> <a href=\"https://docs.wandb.com/integrations/jupyter.html\" target=\"_blank\">(Documentation)</a>.<br/>\n",
              "                Project page: <a href=\"https://wandb.ai/shivamshrirao/imagenette-tests\" target=\"_blank\">https://wandb.ai/shivamshrirao/imagenette-tests</a><br/>\n",
              "                Run page: <a href=\"https://wandb.ai/shivamshrirao/imagenette-tests/runs/14cj0m9c\" target=\"_blank\">https://wandb.ai/shivamshrirao/imagenette-tests/runs/14cj0m9c</a><br/>\n",
              "                Run data is saved locally in <code>/content/tiny-imagenet-test/wandb/run-20210411_160735-14cj0m9c</code><br/><br/>\n",
              "            "
            ],
            "text/plain": [
              "<IPython.core.display.HTML object>"
            ]
          },
          "metadata": {
            "tags": []
          }
        }
      ]
    },
    {
      "cell_type": "code",
      "metadata": {
        "id": "Dye82pMssfpX"
      },
      "source": [
        "CONFIG = config_defaults"
      ],
      "execution_count": 66,
      "outputs": []
    },
    {
      "cell_type": "code",
      "metadata": {
        "id": "6ZPflb0u2_KL"
      },
      "source": [
        "# def ResAttnnet50(inputs=None,\n",
        "#              input_shape=(3,224,224),\n",
        "#              num_classes=1000,\n",
        "#              dp_rate=0,\n",
        "#              activation=tf.nn.relu):\n",
        "\n",
        "#     return Resnet(AttnBottleneck, num_repeats=[3,4,6,3], inputs=inputs, input_shape=input_shape, num_classes=num_classes,\n",
        "#                   dp_rate=dp_rate, activation=activation, self_attn=[False,False,True,True], nheads=8, pos_emb=True, frac_dk=1, frac_dv=1)"
      ],
      "execution_count": 67,
      "outputs": []
    },
    {
      "cell_type": "code",
      "metadata": {
        "id": "r4dHJMVHM_MJ"
      },
      "source": [
        "from resnet import *"
      ],
      "execution_count": 68,
      "outputs": []
    },
    {
      "cell_type": "code",
      "metadata": {
        "id": "Mx36csxaNjPD"
      },
      "source": [
        "model = Resnet50(input_shape=(3,224,224),\n",
        "                 num_classes=10,\n",
        "                 squeeze_reduce=CONFIG[\"squeeze_reduce\"],\n",
        "                 activation=CONFIG[\"activation\"],\n",
        "                 dp_rate=CONFIG[\"dp_rate\"]\n",
        "                 ).get_model()"
      ],
      "execution_count": 69,
      "outputs": []
    },
    {
      "cell_type": "code",
      "metadata": {
        "colab": {
          "base_uri": "https://localhost:8080/"
        },
        "id": "uIEmUBPoXgMy",
        "outputId": "7b8bd4f3-5e7a-4e41-9a3a-8497180d6d6f"
      },
      "source": [
        "model.summary()"
      ],
      "execution_count": 70,
      "outputs": [
        {
          "output_type": "stream",
          "text": [
            "Model: \"model_1\"\n",
            "__________________________________________________________________________________________________\n",
            "Layer (type)                    Output Shape         Param #     Connected to                     \n",
            "==================================================================================================\n",
            "input_2 (InputLayer)            [(None, 3, 224, 224) 0                                            \n",
            "__________________________________________________________________________________________________\n",
            "conv2d_1 (Conv2D)               (None, 64, 112, 112) 9472        input_2[0][0]                    \n",
            "__________________________________________________________________________________________________\n",
            "max_pooling2d_4 (MaxPooling2D)  (None, 64, 56, 56)   0           conv2d_1[0][0]                   \n",
            "__________________________________________________________________________________________________\n",
            "batch_normalization_49 (BatchNo (None, 64, 56, 56)   256         max_pooling2d_4[0][0]            \n",
            "__________________________________________________________________________________________________\n",
            "activation_49 (Activation)      (None, 64, 56, 56)   0           batch_normalization_49[0][0]     \n",
            "__________________________________________________________________________________________________\n",
            "conv1x1_in_0_block0 (Conv2D)    (None, 128, 56, 56)  8192        activation_49[0][0]              \n",
            "__________________________________________________________________________________________________\n",
            "batch_normalization_50 (BatchNo (None, 128, 56, 56)  512         conv1x1_in_0_block0[0][0]        \n",
            "__________________________________________________________________________________________________\n",
            "activation_50 (Activation)      (None, 128, 56, 56)  0           batch_normalization_50[0][0]     \n",
            "__________________________________________________________________________________________________\n",
            "conv3x3_0_block0 (Conv2D)       (None, 128, 56, 56)  4608        activation_50[0][0]              \n",
            "__________________________________________________________________________________________________\n",
            "batch_normalization_51 (BatchNo (None, 128, 56, 56)  512         conv3x3_0_block0[0][0]           \n",
            "__________________________________________________________________________________________________\n",
            "activation_51 (Activation)      (None, 128, 56, 56)  0           batch_normalization_51[0][0]     \n",
            "__________________________________________________________________________________________________\n",
            "conv1x1_identity_0_block0 (Conv (None, 256, 56, 56)  16640       activation_49[0][0]              \n",
            "__________________________________________________________________________________________________\n",
            "conv1x1_out_0_block0 (Conv2D)   (None, 256, 56, 56)  33024       activation_51[0][0]              \n",
            "__________________________________________________________________________________________________\n",
            "add_16 (Add)                    (None, 256, 56, 56)  0           conv1x1_identity_0_block0[0][0]  \n",
            "                                                                 conv1x1_out_0_block0[0][0]       \n",
            "__________________________________________________________________________________________________\n",
            "batch_normalization_52 (BatchNo (None, 256, 56, 56)  1024        add_16[0][0]                     \n",
            "__________________________________________________________________________________________________\n",
            "activation_52 (Activation)      (None, 256, 56, 56)  0           batch_normalization_52[0][0]     \n",
            "__________________________________________________________________________________________________\n",
            "conv1x1_in_0_block1 (Conv2D)    (None, 128, 56, 56)  32768       activation_52[0][0]              \n",
            "__________________________________________________________________________________________________\n",
            "batch_normalization_53 (BatchNo (None, 128, 56, 56)  512         conv1x1_in_0_block1[0][0]        \n",
            "__________________________________________________________________________________________________\n",
            "activation_53 (Activation)      (None, 128, 56, 56)  0           batch_normalization_53[0][0]     \n",
            "__________________________________________________________________________________________________\n",
            "conv3x3_0_block1 (Conv2D)       (None, 128, 56, 56)  4608        activation_53[0][0]              \n",
            "__________________________________________________________________________________________________\n",
            "batch_normalization_54 (BatchNo (None, 128, 56, 56)  512         conv3x3_0_block1[0][0]           \n",
            "__________________________________________________________________________________________________\n",
            "activation_54 (Activation)      (None, 128, 56, 56)  0           batch_normalization_54[0][0]     \n",
            "__________________________________________________________________________________________________\n",
            "conv1x1_out_0_block1 (Conv2D)   (None, 256, 56, 56)  33024       activation_54[0][0]              \n",
            "__________________________________________________________________________________________________\n",
            "add_17 (Add)                    (None, 256, 56, 56)  0           add_16[0][0]                     \n",
            "                                                                 conv1x1_out_0_block1[0][0]       \n",
            "__________________________________________________________________________________________________\n",
            "batch_normalization_55 (BatchNo (None, 256, 56, 56)  1024        add_17[0][0]                     \n",
            "__________________________________________________________________________________________________\n",
            "activation_55 (Activation)      (None, 256, 56, 56)  0           batch_normalization_55[0][0]     \n",
            "__________________________________________________________________________________________________\n",
            "conv1x1_in_0_block2 (Conv2D)    (None, 128, 56, 56)  32768       activation_55[0][0]              \n",
            "__________________________________________________________________________________________________\n",
            "batch_normalization_56 (BatchNo (None, 128, 56, 56)  512         conv1x1_in_0_block2[0][0]        \n",
            "__________________________________________________________________________________________________\n",
            "activation_56 (Activation)      (None, 128, 56, 56)  0           batch_normalization_56[0][0]     \n",
            "__________________________________________________________________________________________________\n",
            "conv3x3_0_block2 (Conv2D)       (None, 128, 56, 56)  4608        activation_56[0][0]              \n",
            "__________________________________________________________________________________________________\n",
            "batch_normalization_57 (BatchNo (None, 128, 56, 56)  512         conv3x3_0_block2[0][0]           \n",
            "__________________________________________________________________________________________________\n",
            "activation_57 (Activation)      (None, 128, 56, 56)  0           batch_normalization_57[0][0]     \n",
            "__________________________________________________________________________________________________\n",
            "conv1x1_out_0_block2 (Conv2D)   (None, 256, 56, 56)  33024       activation_57[0][0]              \n",
            "__________________________________________________________________________________________________\n",
            "add_18 (Add)                    (None, 256, 56, 56)  0           add_17[0][0]                     \n",
            "                                                                 conv1x1_out_0_block2[0][0]       \n",
            "__________________________________________________________________________________________________\n",
            "batch_normalization_58 (BatchNo (None, 256, 56, 56)  1024        add_18[0][0]                     \n",
            "__________________________________________________________________________________________________\n",
            "activation_58 (Activation)      (None, 256, 56, 56)  0           batch_normalization_58[0][0]     \n",
            "__________________________________________________________________________________________________\n",
            "conv1x1_in_1_block0 (Conv2D)    (None, 256, 56, 56)  65536       activation_58[0][0]              \n",
            "__________________________________________________________________________________________________\n",
            "batch_normalization_59 (BatchNo (None, 256, 56, 56)  1024        conv1x1_in_1_block0[0][0]        \n",
            "__________________________________________________________________________________________________\n",
            "activation_59 (Activation)      (None, 256, 56, 56)  0           batch_normalization_59[0][0]     \n",
            "__________________________________________________________________________________________________\n",
            "conv3x3_1_block0 (Conv2D)       (None, 256, 28, 28)  18432       activation_59[0][0]              \n",
            "__________________________________________________________________________________________________\n",
            "batch_normalization_60 (BatchNo (None, 256, 28, 28)  1024        conv3x3_1_block0[0][0]           \n",
            "__________________________________________________________________________________________________\n",
            "conv1x1_identity_1_block0 (Conv (None, 512, 56, 56)  131584      activation_58[0][0]              \n",
            "__________________________________________________________________________________________________\n",
            "activation_60 (Activation)      (None, 256, 28, 28)  0           batch_normalization_60[0][0]     \n",
            "__________________________________________________________________________________________________\n",
            "max_pooling2d_5 (MaxPooling2D)  (None, 512, 28, 28)  0           conv1x1_identity_1_block0[0][0]  \n",
            "__________________________________________________________________________________________________\n",
            "conv1x1_out_1_block0 (Conv2D)   (None, 512, 28, 28)  131584      activation_60[0][0]              \n",
            "__________________________________________________________________________________________________\n",
            "add_19 (Add)                    (None, 512, 28, 28)  0           max_pooling2d_5[0][0]            \n",
            "                                                                 conv1x1_out_1_block0[0][0]       \n",
            "__________________________________________________________________________________________________\n",
            "batch_normalization_61 (BatchNo (None, 512, 28, 28)  2048        add_19[0][0]                     \n",
            "__________________________________________________________________________________________________\n",
            "activation_61 (Activation)      (None, 512, 28, 28)  0           batch_normalization_61[0][0]     \n",
            "__________________________________________________________________________________________________\n",
            "conv1x1_in_1_block1 (Conv2D)    (None, 256, 28, 28)  131072      activation_61[0][0]              \n",
            "__________________________________________________________________________________________________\n",
            "batch_normalization_62 (BatchNo (None, 256, 28, 28)  1024        conv1x1_in_1_block1[0][0]        \n",
            "__________________________________________________________________________________________________\n",
            "activation_62 (Activation)      (None, 256, 28, 28)  0           batch_normalization_62[0][0]     \n",
            "__________________________________________________________________________________________________\n",
            "conv3x3_1_block1 (Conv2D)       (None, 256, 28, 28)  18432       activation_62[0][0]              \n",
            "__________________________________________________________________________________________________\n",
            "batch_normalization_63 (BatchNo (None, 256, 28, 28)  1024        conv3x3_1_block1[0][0]           \n",
            "__________________________________________________________________________________________________\n",
            "activation_63 (Activation)      (None, 256, 28, 28)  0           batch_normalization_63[0][0]     \n",
            "__________________________________________________________________________________________________\n",
            "conv1x1_out_1_block1 (Conv2D)   (None, 512, 28, 28)  131584      activation_63[0][0]              \n",
            "__________________________________________________________________________________________________\n",
            "add_20 (Add)                    (None, 512, 28, 28)  0           add_19[0][0]                     \n",
            "                                                                 conv1x1_out_1_block1[0][0]       \n",
            "__________________________________________________________________________________________________\n",
            "batch_normalization_64 (BatchNo (None, 512, 28, 28)  2048        add_20[0][0]                     \n",
            "__________________________________________________________________________________________________\n",
            "activation_64 (Activation)      (None, 512, 28, 28)  0           batch_normalization_64[0][0]     \n",
            "__________________________________________________________________________________________________\n",
            "conv1x1_in_1_block2 (Conv2D)    (None, 256, 28, 28)  131072      activation_64[0][0]              \n",
            "__________________________________________________________________________________________________\n",
            "batch_normalization_65 (BatchNo (None, 256, 28, 28)  1024        conv1x1_in_1_block2[0][0]        \n",
            "__________________________________________________________________________________________________\n",
            "activation_65 (Activation)      (None, 256, 28, 28)  0           batch_normalization_65[0][0]     \n",
            "__________________________________________________________________________________________________\n",
            "conv3x3_1_block2 (Conv2D)       (None, 256, 28, 28)  18432       activation_65[0][0]              \n",
            "__________________________________________________________________________________________________\n",
            "batch_normalization_66 (BatchNo (None, 256, 28, 28)  1024        conv3x3_1_block2[0][0]           \n",
            "__________________________________________________________________________________________________\n",
            "activation_66 (Activation)      (None, 256, 28, 28)  0           batch_normalization_66[0][0]     \n",
            "__________________________________________________________________________________________________\n",
            "conv1x1_out_1_block2 (Conv2D)   (None, 512, 28, 28)  131584      activation_66[0][0]              \n",
            "__________________________________________________________________________________________________\n",
            "add_21 (Add)                    (None, 512, 28, 28)  0           add_20[0][0]                     \n",
            "                                                                 conv1x1_out_1_block2[0][0]       \n",
            "__________________________________________________________________________________________________\n",
            "batch_normalization_67 (BatchNo (None, 512, 28, 28)  2048        add_21[0][0]                     \n",
            "__________________________________________________________________________________________________\n",
            "activation_67 (Activation)      (None, 512, 28, 28)  0           batch_normalization_67[0][0]     \n",
            "__________________________________________________________________________________________________\n",
            "conv1x1_in_1_block3 (Conv2D)    (None, 256, 28, 28)  131072      activation_67[0][0]              \n",
            "__________________________________________________________________________________________________\n",
            "batch_normalization_68 (BatchNo (None, 256, 28, 28)  1024        conv1x1_in_1_block3[0][0]        \n",
            "__________________________________________________________________________________________________\n",
            "activation_68 (Activation)      (None, 256, 28, 28)  0           batch_normalization_68[0][0]     \n",
            "__________________________________________________________________________________________________\n",
            "conv3x3_1_block3 (Conv2D)       (None, 256, 28, 28)  18432       activation_68[0][0]              \n",
            "__________________________________________________________________________________________________\n",
            "batch_normalization_69 (BatchNo (None, 256, 28, 28)  1024        conv3x3_1_block3[0][0]           \n",
            "__________________________________________________________________________________________________\n",
            "activation_69 (Activation)      (None, 256, 28, 28)  0           batch_normalization_69[0][0]     \n",
            "__________________________________________________________________________________________________\n",
            "conv1x1_out_1_block3 (Conv2D)   (None, 512, 28, 28)  131584      activation_69[0][0]              \n",
            "__________________________________________________________________________________________________\n",
            "add_22 (Add)                    (None, 512, 28, 28)  0           add_21[0][0]                     \n",
            "                                                                 conv1x1_out_1_block3[0][0]       \n",
            "__________________________________________________________________________________________________\n",
            "batch_normalization_70 (BatchNo (None, 512, 28, 28)  2048        add_22[0][0]                     \n",
            "__________________________________________________________________________________________________\n",
            "activation_70 (Activation)      (None, 512, 28, 28)  0           batch_normalization_70[0][0]     \n",
            "__________________________________________________________________________________________________\n",
            "conv1x1_in_2_block0 (Conv2D)    (None, 512, 28, 28)  262144      activation_70[0][0]              \n",
            "__________________________________________________________________________________________________\n",
            "batch_normalization_71 (BatchNo (None, 512, 28, 28)  2048        conv1x1_in_2_block0[0][0]        \n",
            "__________________________________________________________________________________________________\n",
            "activation_71 (Activation)      (None, 512, 28, 28)  0           batch_normalization_71[0][0]     \n",
            "__________________________________________________________________________________________________\n",
            "conv3x3_2_block0 (Conv2D)       (None, 512, 14, 14)  73728       activation_71[0][0]              \n",
            "__________________________________________________________________________________________________\n",
            "batch_normalization_72 (BatchNo (None, 512, 14, 14)  2048        conv3x3_2_block0[0][0]           \n",
            "__________________________________________________________________________________________________\n",
            "conv1x1_identity_2_block0 (Conv (None, 1024, 28, 28) 525312      activation_70[0][0]              \n",
            "__________________________________________________________________________________________________\n",
            "activation_72 (Activation)      (None, 512, 14, 14)  0           batch_normalization_72[0][0]     \n",
            "__________________________________________________________________________________________________\n",
            "max_pooling2d_6 (MaxPooling2D)  (None, 1024, 14, 14) 0           conv1x1_identity_2_block0[0][0]  \n",
            "__________________________________________________________________________________________________\n",
            "conv1x1_out_2_block0 (Conv2D)   (None, 1024, 14, 14) 525312      activation_72[0][0]              \n",
            "__________________________________________________________________________________________________\n",
            "add_23 (Add)                    (None, 1024, 14, 14) 0           max_pooling2d_6[0][0]            \n",
            "                                                                 conv1x1_out_2_block0[0][0]       \n",
            "__________________________________________________________________________________________________\n",
            "batch_normalization_73 (BatchNo (None, 1024, 14, 14) 4096        add_23[0][0]                     \n",
            "__________________________________________________________________________________________________\n",
            "activation_73 (Activation)      (None, 1024, 14, 14) 0           batch_normalization_73[0][0]     \n",
            "__________________________________________________________________________________________________\n",
            "conv1x1_in_2_block1 (Conv2D)    (None, 512, 14, 14)  524288      activation_73[0][0]              \n",
            "__________________________________________________________________________________________________\n",
            "batch_normalization_74 (BatchNo (None, 512, 14, 14)  2048        conv1x1_in_2_block1[0][0]        \n",
            "__________________________________________________________________________________________________\n",
            "activation_74 (Activation)      (None, 512, 14, 14)  0           batch_normalization_74[0][0]     \n",
            "__________________________________________________________________________________________________\n",
            "conv3x3_2_block1 (Conv2D)       (None, 512, 14, 14)  73728       activation_74[0][0]              \n",
            "__________________________________________________________________________________________________\n",
            "batch_normalization_75 (BatchNo (None, 512, 14, 14)  2048        conv3x3_2_block1[0][0]           \n",
            "__________________________________________________________________________________________________\n",
            "activation_75 (Activation)      (None, 512, 14, 14)  0           batch_normalization_75[0][0]     \n",
            "__________________________________________________________________________________________________\n",
            "conv1x1_out_2_block1 (Conv2D)   (None, 1024, 14, 14) 525312      activation_75[0][0]              \n",
            "__________________________________________________________________________________________________\n",
            "add_24 (Add)                    (None, 1024, 14, 14) 0           add_23[0][0]                     \n",
            "                                                                 conv1x1_out_2_block1[0][0]       \n",
            "__________________________________________________________________________________________________\n",
            "batch_normalization_76 (BatchNo (None, 1024, 14, 14) 4096        add_24[0][0]                     \n",
            "__________________________________________________________________________________________________\n",
            "activation_76 (Activation)      (None, 1024, 14, 14) 0           batch_normalization_76[0][0]     \n",
            "__________________________________________________________________________________________________\n",
            "conv1x1_in_2_block2 (Conv2D)    (None, 512, 14, 14)  524288      activation_76[0][0]              \n",
            "__________________________________________________________________________________________________\n",
            "batch_normalization_77 (BatchNo (None, 512, 14, 14)  2048        conv1x1_in_2_block2[0][0]        \n",
            "__________________________________________________________________________________________________\n",
            "activation_77 (Activation)      (None, 512, 14, 14)  0           batch_normalization_77[0][0]     \n",
            "__________________________________________________________________________________________________\n",
            "conv3x3_2_block2 (Conv2D)       (None, 512, 14, 14)  73728       activation_77[0][0]              \n",
            "__________________________________________________________________________________________________\n",
            "batch_normalization_78 (BatchNo (None, 512, 14, 14)  2048        conv3x3_2_block2[0][0]           \n",
            "__________________________________________________________________________________________________\n",
            "activation_78 (Activation)      (None, 512, 14, 14)  0           batch_normalization_78[0][0]     \n",
            "__________________________________________________________________________________________________\n",
            "conv1x1_out_2_block2 (Conv2D)   (None, 1024, 14, 14) 525312      activation_78[0][0]              \n",
            "__________________________________________________________________________________________________\n",
            "add_25 (Add)                    (None, 1024, 14, 14) 0           add_24[0][0]                     \n",
            "                                                                 conv1x1_out_2_block2[0][0]       \n",
            "__________________________________________________________________________________________________\n",
            "batch_normalization_79 (BatchNo (None, 1024, 14, 14) 4096        add_25[0][0]                     \n",
            "__________________________________________________________________________________________________\n",
            "activation_79 (Activation)      (None, 1024, 14, 14) 0           batch_normalization_79[0][0]     \n",
            "__________________________________________________________________________________________________\n",
            "conv1x1_in_2_block3 (Conv2D)    (None, 512, 14, 14)  524288      activation_79[0][0]              \n",
            "__________________________________________________________________________________________________\n",
            "batch_normalization_80 (BatchNo (None, 512, 14, 14)  2048        conv1x1_in_2_block3[0][0]        \n",
            "__________________________________________________________________________________________________\n",
            "activation_80 (Activation)      (None, 512, 14, 14)  0           batch_normalization_80[0][0]     \n",
            "__________________________________________________________________________________________________\n",
            "conv3x3_2_block3 (Conv2D)       (None, 512, 14, 14)  73728       activation_80[0][0]              \n",
            "__________________________________________________________________________________________________\n",
            "batch_normalization_81 (BatchNo (None, 512, 14, 14)  2048        conv3x3_2_block3[0][0]           \n",
            "__________________________________________________________________________________________________\n",
            "activation_81 (Activation)      (None, 512, 14, 14)  0           batch_normalization_81[0][0]     \n",
            "__________________________________________________________________________________________________\n",
            "conv1x1_out_2_block3 (Conv2D)   (None, 1024, 14, 14) 525312      activation_81[0][0]              \n",
            "__________________________________________________________________________________________________\n",
            "add_26 (Add)                    (None, 1024, 14, 14) 0           add_25[0][0]                     \n",
            "                                                                 conv1x1_out_2_block3[0][0]       \n",
            "__________________________________________________________________________________________________\n",
            "batch_normalization_82 (BatchNo (None, 1024, 14, 14) 4096        add_26[0][0]                     \n",
            "__________________________________________________________________________________________________\n",
            "activation_82 (Activation)      (None, 1024, 14, 14) 0           batch_normalization_82[0][0]     \n",
            "__________________________________________________________________________________________________\n",
            "conv1x1_in_2_block4 (Conv2D)    (None, 512, 14, 14)  524288      activation_82[0][0]              \n",
            "__________________________________________________________________________________________________\n",
            "batch_normalization_83 (BatchNo (None, 512, 14, 14)  2048        conv1x1_in_2_block4[0][0]        \n",
            "__________________________________________________________________________________________________\n",
            "activation_83 (Activation)      (None, 512, 14, 14)  0           batch_normalization_83[0][0]     \n",
            "__________________________________________________________________________________________________\n",
            "conv3x3_2_block4 (Conv2D)       (None, 512, 14, 14)  73728       activation_83[0][0]              \n",
            "__________________________________________________________________________________________________\n",
            "batch_normalization_84 (BatchNo (None, 512, 14, 14)  2048        conv3x3_2_block4[0][0]           \n",
            "__________________________________________________________________________________________________\n",
            "activation_84 (Activation)      (None, 512, 14, 14)  0           batch_normalization_84[0][0]     \n",
            "__________________________________________________________________________________________________\n",
            "conv1x1_out_2_block4 (Conv2D)   (None, 1024, 14, 14) 525312      activation_84[0][0]              \n",
            "__________________________________________________________________________________________________\n",
            "add_27 (Add)                    (None, 1024, 14, 14) 0           add_26[0][0]                     \n",
            "                                                                 conv1x1_out_2_block4[0][0]       \n",
            "__________________________________________________________________________________________________\n",
            "batch_normalization_85 (BatchNo (None, 1024, 14, 14) 4096        add_27[0][0]                     \n",
            "__________________________________________________________________________________________________\n",
            "activation_85 (Activation)      (None, 1024, 14, 14) 0           batch_normalization_85[0][0]     \n",
            "__________________________________________________________________________________________________\n",
            "conv1x1_in_2_block5 (Conv2D)    (None, 512, 14, 14)  524288      activation_85[0][0]              \n",
            "__________________________________________________________________________________________________\n",
            "batch_normalization_86 (BatchNo (None, 512, 14, 14)  2048        conv1x1_in_2_block5[0][0]        \n",
            "__________________________________________________________________________________________________\n",
            "activation_86 (Activation)      (None, 512, 14, 14)  0           batch_normalization_86[0][0]     \n",
            "__________________________________________________________________________________________________\n",
            "conv3x3_2_block5 (Conv2D)       (None, 512, 14, 14)  73728       activation_86[0][0]              \n",
            "__________________________________________________________________________________________________\n",
            "batch_normalization_87 (BatchNo (None, 512, 14, 14)  2048        conv3x3_2_block5[0][0]           \n",
            "__________________________________________________________________________________________________\n",
            "activation_87 (Activation)      (None, 512, 14, 14)  0           batch_normalization_87[0][0]     \n",
            "__________________________________________________________________________________________________\n",
            "conv1x1_out_2_block5 (Conv2D)   (None, 1024, 14, 14) 525312      activation_87[0][0]              \n",
            "__________________________________________________________________________________________________\n",
            "add_28 (Add)                    (None, 1024, 14, 14) 0           add_27[0][0]                     \n",
            "                                                                 conv1x1_out_2_block5[0][0]       \n",
            "__________________________________________________________________________________________________\n",
            "batch_normalization_88 (BatchNo (None, 1024, 14, 14) 4096        add_28[0][0]                     \n",
            "__________________________________________________________________________________________________\n",
            "activation_88 (Activation)      (None, 1024, 14, 14) 0           batch_normalization_88[0][0]     \n",
            "__________________________________________________________________________________________________\n",
            "conv1x1_in_3_block0 (Conv2D)    (None, 1024, 14, 14) 1048576     activation_88[0][0]              \n",
            "__________________________________________________________________________________________________\n",
            "batch_normalization_89 (BatchNo (None, 1024, 14, 14) 4096        conv1x1_in_3_block0[0][0]        \n",
            "__________________________________________________________________________________________________\n",
            "activation_89 (Activation)      (None, 1024, 14, 14) 0           batch_normalization_89[0][0]     \n",
            "__________________________________________________________________________________________________\n",
            "conv3x3_3_block0 (Conv2D)       (None, 1024, 7, 7)   294912      activation_89[0][0]              \n",
            "__________________________________________________________________________________________________\n",
            "batch_normalization_90 (BatchNo (None, 1024, 7, 7)   4096        conv3x3_3_block0[0][0]           \n",
            "__________________________________________________________________________________________________\n",
            "conv1x1_identity_3_block0 (Conv (None, 2048, 14, 14) 2099200     activation_88[0][0]              \n",
            "__________________________________________________________________________________________________\n",
            "activation_90 (Activation)      (None, 1024, 7, 7)   0           batch_normalization_90[0][0]     \n",
            "__________________________________________________________________________________________________\n",
            "max_pooling2d_7 (MaxPooling2D)  (None, 2048, 7, 7)   0           conv1x1_identity_3_block0[0][0]  \n",
            "__________________________________________________________________________________________________\n",
            "conv1x1_out_3_block0 (Conv2D)   (None, 2048, 7, 7)   2099200     activation_90[0][0]              \n",
            "__________________________________________________________________________________________________\n",
            "add_29 (Add)                    (None, 2048, 7, 7)   0           max_pooling2d_7[0][0]            \n",
            "                                                                 conv1x1_out_3_block0[0][0]       \n",
            "__________________________________________________________________________________________________\n",
            "batch_normalization_91 (BatchNo (None, 2048, 7, 7)   8192        add_29[0][0]                     \n",
            "__________________________________________________________________________________________________\n",
            "activation_91 (Activation)      (None, 2048, 7, 7)   0           batch_normalization_91[0][0]     \n",
            "__________________________________________________________________________________________________\n",
            "conv1x1_in_3_block1 (Conv2D)    (None, 1024, 7, 7)   2097152     activation_91[0][0]              \n",
            "__________________________________________________________________________________________________\n",
            "batch_normalization_92 (BatchNo (None, 1024, 7, 7)   4096        conv1x1_in_3_block1[0][0]        \n",
            "__________________________________________________________________________________________________\n",
            "activation_92 (Activation)      (None, 1024, 7, 7)   0           batch_normalization_92[0][0]     \n",
            "__________________________________________________________________________________________________\n",
            "conv3x3_3_block1 (Conv2D)       (None, 1024, 7, 7)   294912      activation_92[0][0]              \n",
            "__________________________________________________________________________________________________\n",
            "batch_normalization_93 (BatchNo (None, 1024, 7, 7)   4096        conv3x3_3_block1[0][0]           \n",
            "__________________________________________________________________________________________________\n",
            "activation_93 (Activation)      (None, 1024, 7, 7)   0           batch_normalization_93[0][0]     \n",
            "__________________________________________________________________________________________________\n",
            "conv1x1_out_3_block1 (Conv2D)   (None, 2048, 7, 7)   2099200     activation_93[0][0]              \n",
            "__________________________________________________________________________________________________\n",
            "add_30 (Add)                    (None, 2048, 7, 7)   0           add_29[0][0]                     \n",
            "                                                                 conv1x1_out_3_block1[0][0]       \n",
            "__________________________________________________________________________________________________\n",
            "batch_normalization_94 (BatchNo (None, 2048, 7, 7)   8192        add_30[0][0]                     \n",
            "__________________________________________________________________________________________________\n",
            "activation_94 (Activation)      (None, 2048, 7, 7)   0           batch_normalization_94[0][0]     \n",
            "__________________________________________________________________________________________________\n",
            "conv1x1_in_3_block2 (Conv2D)    (None, 1024, 7, 7)   2097152     activation_94[0][0]              \n",
            "__________________________________________________________________________________________________\n",
            "batch_normalization_95 (BatchNo (None, 1024, 7, 7)   4096        conv1x1_in_3_block2[0][0]        \n",
            "__________________________________________________________________________________________________\n",
            "activation_95 (Activation)      (None, 1024, 7, 7)   0           batch_normalization_95[0][0]     \n",
            "__________________________________________________________________________________________________\n",
            "conv3x3_3_block2 (Conv2D)       (None, 1024, 7, 7)   294912      activation_95[0][0]              \n",
            "__________________________________________________________________________________________________\n",
            "batch_normalization_96 (BatchNo (None, 1024, 7, 7)   4096        conv3x3_3_block2[0][0]           \n",
            "__________________________________________________________________________________________________\n",
            "activation_96 (Activation)      (None, 1024, 7, 7)   0           batch_normalization_96[0][0]     \n",
            "__________________________________________________________________________________________________\n",
            "conv1x1_out_3_block2 (Conv2D)   (None, 2048, 7, 7)   2099200     activation_96[0][0]              \n",
            "__________________________________________________________________________________________________\n",
            "add_31 (Add)                    (None, 2048, 7, 7)   0           add_30[0][0]                     \n",
            "                                                                 conv1x1_out_3_block2[0][0]       \n",
            "__________________________________________________________________________________________________\n",
            "batch_normalization_97 (BatchNo (None, 2048, 7, 7)   8192        add_31[0][0]                     \n",
            "__________________________________________________________________________________________________\n",
            "activation_97 (Activation)      (None, 2048, 7, 7)   0           batch_normalization_97[0][0]     \n",
            "__________________________________________________________________________________________________\n",
            "global_average_pooling2d_1 (Glo (None, 2048)         0           activation_97[0][0]              \n",
            "__________________________________________________________________________________________________\n",
            "dense_1 (Dense)                 (None, 10)           20490       global_average_pooling2d_1[0][0] \n",
            "__________________________________________________________________________________________________\n",
            "softmax_1 (Softmax)             (None, 10)           0           dense_1[0][0]                    \n",
            "==================================================================================================\n",
            "Total params: 23,072,266\n",
            "Trainable params: 23,011,722\n",
            "Non-trainable params: 60,544\n",
            "__________________________________________________________________________________________________\n"
          ],
          "name": "stdout"
        }
      ]
    },
    {
      "cell_type": "code",
      "metadata": {
        "id": "S5lVqcbLtB6T"
      },
      "source": [
        "if CONFIG[\"optimizer\"] == 'adamw':\n",
        "    opt = tfa.optimizers.AdamW(learning_rate=CONFIG[\"lr\"], weight_decay=CONFIG[\"weight_decay\"])\n",
        "opt = tf.keras.mixed_precision.LossScaleOptimizer(opt)"
      ],
      "execution_count": 71,
      "outputs": []
    },
    {
      "cell_type": "code",
      "metadata": {
        "id": "gdmXP4uftDqd"
      },
      "source": [
        "if CONFIG[\"loss_function\"] == 'cce':\n",
        "    loss_function = tf.keras.losses.SparseCategoricalCrossentropy()"
      ],
      "execution_count": 72,
      "outputs": []
    },
    {
      "cell_type": "code",
      "metadata": {
        "id": "0eAiHQBctE4F"
      },
      "source": [
        "model.compile(optimizer=opt, loss=loss_function, metrics=['accuracy'])"
      ],
      "execution_count": 73,
      "outputs": []
    },
    {
      "cell_type": "code",
      "metadata": {
        "colab": {
          "base_uri": "https://localhost:8080/"
        },
        "id": "_napcMLcie5A",
        "outputId": "77bb1e8e-3215-4575-e08d-fb397a1d32b9"
      },
      "source": [
        "history = model.fit(train_ds,\n",
        "                    epochs=100,\n",
        "                    validation_data=val_ds,\n",
        "                    workers=4,\n",
        "                    use_multiprocessing=True,\n",
        "                    callbacks=[])"
      ],
      "execution_count": null,
      "outputs": [
        {
          "output_type": "stream",
          "text": [
            "Epoch 1/100\n"
          ],
          "name": "stdout"
        }
      ]
    },
    {
      "cell_type": "code",
      "metadata": {
        "id": "sO3Vo8gbt84z"
      },
      "source": [
        "# decisive_depth\n",
        "# x = block(args)(x)\n",
        "# gp = globalpool(x)\n",
        "# gamma = dense(1)(gp) # sigmoid or simply relu\n",
        "# next_block = block(args)\n",
        "# def call(args):         # or process in batch and mask with 0\n",
        "#     x, next_block, gamma = args\n",
        "#     if gamma > 0.5:\n",
        "#         x = next_block(x)\n",
        "#     else:\n",
        "#         x = pool(x) (if stride>1 else x) or pointwise(x)\n",
        "# x = tf.map_fn(call, (x, next_block, gamma))\n",
        "# x = block(args)(x)"
      ],
      "execution_count": null,
      "outputs": []
    }
  ]
}