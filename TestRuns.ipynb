{
  "nbformat": 4,
  "nbformat_minor": 0,
  "metadata": {
    "colab": {
      "name": "TestRuns.ipynb",
      "provenance": [],
      "collapsed_sections": []
    },
    "kernelspec": {
      "name": "python3",
      "display_name": "Python 3"
    },
    "language_info": {
      "name": "python"
    },
    "accelerator": "GPU"
  },
  "cells": [
    {
      "cell_type": "code",
      "metadata": {
        "colab": {
          "base_uri": "https://localhost:8080/"
        },
        "id": "c-4tdfJhMHc2",
        "outputId": "3d7200ec-e018-4cb9-e45f-8e0b5fc0ab31"
      },
      "source": [
        "!nvidia-smi"
      ],
      "execution_count": 1,
      "outputs": [
        {
          "output_type": "stream",
          "text": [
            "Sun Apr 11 16:48:20 2021       \n",
            "+-----------------------------------------------------------------------------+\n",
            "| NVIDIA-SMI 460.67       Driver Version: 460.32.03    CUDA Version: 11.2     |\n",
            "|-------------------------------+----------------------+----------------------+\n",
            "| GPU  Name        Persistence-M| Bus-Id        Disp.A | Volatile Uncorr. ECC |\n",
            "| Fan  Temp  Perf  Pwr:Usage/Cap|         Memory-Usage | GPU-Util  Compute M. |\n",
            "|                               |                      |               MIG M. |\n",
            "|===============================+======================+======================|\n",
            "|   0  Tesla T4            Off  | 00000000:00:04.0 Off |                    0 |\n",
            "| N/A   46C    P8    10W /  70W |      0MiB / 15109MiB |      0%      Default |\n",
            "|                               |                      |                  N/A |\n",
            "+-------------------------------+----------------------+----------------------+\n",
            "                                                                               \n",
            "+-----------------------------------------------------------------------------+\n",
            "| Processes:                                                                  |\n",
            "|  GPU   GI   CI        PID   Type   Process name                  GPU Memory |\n",
            "|        ID   ID                                                   Usage      |\n",
            "|=============================================================================|\n",
            "|  No running processes found                                                 |\n",
            "+-----------------------------------------------------------------------------+\n"
          ],
          "name": "stdout"
        }
      ]
    },
    {
      "cell_type": "code",
      "metadata": {
        "colab": {
          "base_uri": "https://localhost:8080/"
        },
        "id": "IPmXPNOwMQxw",
        "outputId": "6e7986b4-78b0-4076-d48a-40df9ad94b83"
      },
      "source": [
        "%cd /content"
      ],
      "execution_count": 2,
      "outputs": [
        {
          "output_type": "stream",
          "text": [
            "/content\n"
          ],
          "name": "stdout"
        }
      ]
    },
    {
      "cell_type": "code",
      "metadata": {
        "colab": {
          "base_uri": "https://localhost:8080/"
        },
        "id": "bJ5lUwfiMuY5",
        "outputId": "899709c5-3547-492a-e73e-1c57993ad907"
      },
      "source": [
        "%pip install -q tensorflow-addons[tensorflow]\n",
        "%pip install -q wandb"
      ],
      "execution_count": 3,
      "outputs": [
        {
          "output_type": "stream",
          "text": [
            "\u001b[K     |████████████████████████████████| 706kB 17.4MB/s \n",
            "\u001b[K     |████████████████████████████████| 2.1MB 21.5MB/s \n",
            "\u001b[K     |████████████████████████████████| 133kB 58.3MB/s \n",
            "\u001b[K     |████████████████████████████████| 102kB 12.9MB/s \n",
            "\u001b[K     |████████████████████████████████| 163kB 55.0MB/s \n",
            "\u001b[K     |████████████████████████████████| 71kB 10.9MB/s \n",
            "\u001b[?25h  Building wheel for pathtools (setup.py) ... \u001b[?25l\u001b[?25hdone\n",
            "  Building wheel for subprocess32 (setup.py) ... \u001b[?25l\u001b[?25hdone\n"
          ],
          "name": "stdout"
        }
      ]
    },
    {
      "cell_type": "code",
      "metadata": {
        "colab": {
          "base_uri": "https://localhost:8080/"
        },
        "id": "aDfb4WAQMy6y",
        "outputId": "d39321c6-92d7-4513-a349-3e058a3701ae"
      },
      "source": [
        "!git clone https://github.com/ShivamShrirao/tiny-imagenet-test"
      ],
      "execution_count": 4,
      "outputs": [
        {
          "output_type": "stream",
          "text": [
            "Cloning into 'tiny-imagenet-test'...\n",
            "remote: Enumerating objects: 121, done.\u001b[K\n",
            "remote: Counting objects: 100% (121/121), done.\u001b[K\n",
            "remote: Compressing objects: 100% (84/84), done.\u001b[K\n",
            "remote: Total 121 (delta 70), reused 85 (delta 34), pack-reused 0\u001b[K\n",
            "Receiving objects: 100% (121/121), 270.95 KiB | 16.93 MiB/s, done.\n",
            "Resolving deltas: 100% (70/70), done.\n"
          ],
          "name": "stdout"
        }
      ]
    },
    {
      "cell_type": "code",
      "metadata": {
        "colab": {
          "base_uri": "https://localhost:8080/"
        },
        "id": "uM_hVbwHM0QN",
        "outputId": "d80f8b81-2069-466c-a89b-3be333f32af0"
      },
      "source": [
        "%cd tiny-imagenet-test"
      ],
      "execution_count": 5,
      "outputs": [
        {
          "output_type": "stream",
          "text": [
            "/content/tiny-imagenet-test\n"
          ],
          "name": "stdout"
        }
      ]
    },
    {
      "cell_type": "code",
      "metadata": {
        "colab": {
          "base_uri": "https://localhost:8080/"
        },
        "id": "CS8zl5weM1T3",
        "outputId": "0af101c1-f99f-493c-b4db-90cd9f4ba640"
      },
      "source": [
        "!git pull"
      ],
      "execution_count": 6,
      "outputs": [
        {
          "output_type": "stream",
          "text": [
            "Already up to date.\n"
          ],
          "name": "stdout"
        }
      ]
    },
    {
      "cell_type": "code",
      "metadata": {
        "id": "605_JIh1M3Um"
      },
      "source": [
        "%load_ext autoreload\n",
        "%autoreload 2"
      ],
      "execution_count": 7,
      "outputs": []
    },
    {
      "cell_type": "code",
      "metadata": {
        "id": "81FT4N_uM4IE"
      },
      "source": [
        "import tensorflow as tf\n",
        "from tensorflow.keras import layers\n",
        "import numpy as np\n",
        "import matplotlib.pyplot as plt\n",
        "import PIL.Image\n",
        "import glob\n",
        "import os\n",
        "import csv\n",
        "from tqdm.notebook import tqdm\n",
        "from time import time\n",
        "import random\n",
        "%matplotlib inline"
      ],
      "execution_count": 8,
      "outputs": []
    },
    {
      "cell_type": "code",
      "metadata": {
        "id": "R1Arklj6M5VF"
      },
      "source": [
        "import tensorflow_addons as tfa\n",
        "import tensorflow_datasets as tfds"
      ],
      "execution_count": 9,
      "outputs": []
    },
    {
      "cell_type": "code",
      "metadata": {
        "id": "fJqf5pRYM8AY"
      },
      "source": [
        "import wandb\n",
        "from wandb.keras import WandbCallback"
      ],
      "execution_count": 10,
      "outputs": []
    },
    {
      "cell_type": "code",
      "metadata": {
        "id": "S3C_z2OIM83T"
      },
      "source": [
        "tf.keras.backend.set_image_data_format('channels_first')"
      ],
      "execution_count": 11,
      "outputs": []
    },
    {
      "cell_type": "code",
      "metadata": {
        "colab": {
          "base_uri": "https://localhost:8080/"
        },
        "id": "xnejQYczM-EL",
        "outputId": "61ade7ae-c628-4575-9da0-af71740856ba"
      },
      "source": [
        "from tensorflow.keras.mixed_precision import experimental as mixed_precision\n",
        "policy = mixed_precision.Policy('mixed_float16')\n",
        "mixed_precision.set_policy(policy)"
      ],
      "execution_count": 12,
      "outputs": [
        {
          "output_type": "stream",
          "text": [
            "INFO:tensorflow:Mixed precision compatibility check (mixed_float16): OK\n",
            "Your GPU will likely run quickly with dtype policy mixed_float16 as it has compute capability of at least 7.0. Your GPU: Tesla T4, compute capability 7.5\n",
            "WARNING:tensorflow:From /usr/local/lib/python3.7/dist-packages/tensorflow/python/keras/mixed_precision/loss_scale.py:56: DynamicLossScale.__init__ (from tensorflow.python.training.experimental.loss_scale) is deprecated and will be removed in a future version.\n",
            "Instructions for updating:\n",
            "Use tf.keras.mixed_precision.LossScaleOptimizer instead. LossScaleOptimizer now has all the functionality of DynamicLossScale\n"
          ],
          "name": "stdout"
        }
      ]
    },
    {
      "cell_type": "code",
      "metadata": {
        "id": "UbIGpqPLfTY9",
        "colab": {
          "base_uri": "https://localhost:8080/"
        },
        "outputId": "63baaccb-919f-4ffc-81ba-cc2f53384bd4"
      },
      "source": [
        "train_inpds = tfds.load(\"imagenette/320px-v2\", split='train', shuffle_files=True)\n",
        "val_inpds = tfds.load(\"imagenette/320px-v2\", split='validation')"
      ],
      "execution_count": 15,
      "outputs": [
        {
          "output_type": "stream",
          "text": [
            "\r"
          ],
          "name": "stdout"
        }
      ]
    },
    {
      "cell_type": "code",
      "metadata": {
        "id": "7vDzcQ1xsppz"
      },
      "source": [
        "BATCH_SIZE = 192\n",
        "img_height, img_width = 224, 224"
      ],
      "execution_count": 16,
      "outputs": []
    },
    {
      "cell_type": "code",
      "metadata": {
        "id": "mcm1rw9op3aK"
      },
      "source": [
        "AUTOTUNE = tf.data.AUTOTUNE"
      ],
      "execution_count": 17,
      "outputs": []
    },
    {
      "cell_type": "code",
      "metadata": {
        "id": "qHpfnjk3sR4K"
      },
      "source": [
        "rng = tf.random.Generator.from_seed(123, alg='philox')\n",
        "def preproc_train(inp):         # per image\n",
        "    img, lbl = inp['image'], inp['label']\n",
        "    img = tf.image.stateless_random_crop(img, (320, 320, 3), seed=rng.make_seeds(2)[0])\n",
        "    img = img/255\n",
        "    return img, lbl\n",
        "\n",
        "def preproc_val(inp):           # per image\n",
        "    img, lbl = inp['image'], inp['label']\n",
        "    img = tf.image.resize(img, (320, 320))\n",
        "    img = img/255\n",
        "    return img, lbl\n",
        "\n",
        "def augment(img, lbl):          # over batches\n",
        "    if tf.random.uniform(shape=[]) > 0.1:\n",
        "        seed = rng.make_seeds(2)[0]\n",
        "        img = tf.image.stateless_random_saturation(img, 0.3, 3, seed)\n",
        "        img = tf.image.stateless_random_hue(img, 0.08, seed)\n",
        "        img = tf.image.stateless_random_contrast(img, 0.4, 1, seed)\n",
        "        img = tf.image.stateless_random_brightness(img, 0.3, seed)\n",
        "        img = tf.clip_by_value(img, 0, 1)\n",
        "    return img, lbl\n",
        "\n",
        "augmentation_layers = tf.keras.Sequential([                     # over batches\n",
        "    layers.experimental.preprocessing.RandomFlip(\"horizontal\"),\n",
        "    layers.experimental.preprocessing.RandomHeight(0.3),\n",
        "    layers.experimental.preprocessing.RandomWidth(0.3),\n",
        "    layers.experimental.preprocessing.RandomTranslation(0.3,0.3),\n",
        "    layers.experimental.preprocessing.RandomRotation(0.15),     # 0.12 * 2pi = 43.2 deg\n",
        "    layers.experimental.preprocessing.Resizing(img_height, img_width)\n",
        "])\n",
        "def augmentation_layers_wrapper(x, y):\n",
        "    with tf.device('/device:GPU:0'):\n",
        "        if tf.random.uniform(shape=[]) > 0.1:\n",
        "            x, y = augmentation_layers(x, training=True), y\n",
        "        return x, y\n",
        "\n",
        "def channel_first(img, lbl):    # over batches\n",
        "    with tf.device('/device:GPU:0'):\n",
        "        img = tf.image.resize(img, (img_height, img_width))\n",
        "        img = tf.transpose(img, perm=[0,3,1,2])\n",
        "    return img, lbl"
      ],
      "execution_count": 18,
      "outputs": []
    },
    {
      "cell_type": "code",
      "metadata": {
        "id": "2GYTyhCKvaWF"
      },
      "source": [
        "train_ds = (\n",
        "    train_inpds\n",
        "    .map(preproc_train, num_parallel_calls=AUTOTUNE)\n",
        "    .batch(BATCH_SIZE)\n",
        "    .map(augment, num_parallel_calls=AUTOTUNE)\n",
        "    .map(augmentation_layers_wrapper, num_parallel_calls=AUTOTUNE)\n",
        "    .map(channel_first, num_parallel_calls=AUTOTUNE)\n",
        "    .prefetch(AUTOTUNE)\n",
        "    )"
      ],
      "execution_count": 19,
      "outputs": []
    },
    {
      "cell_type": "code",
      "metadata": {
        "id": "4Gf_80_qk2WB"
      },
      "source": [
        "val_ds = (\n",
        "    val_inpds\n",
        "    .map(preproc_val, num_parallel_calls=AUTOTUNE)\n",
        "    .batch(BATCH_SIZE)\n",
        "    .map(channel_first, num_parallel_calls=AUTOTUNE)\n",
        "    .prefetch(AUTOTUNE)\n",
        "    )"
      ],
      "execution_count": 20,
      "outputs": []
    },
    {
      "cell_type": "code",
      "metadata": {
        "colab": {
          "base_uri": "https://localhost:8080/",
          "height": 286
        },
        "id": "-n1w2RypsVgU",
        "outputId": "72829091-2acb-41d4-fe1d-9152581f6e23"
      },
      "source": [
        "a, b = next(iter(train_ds))\n",
        "plt.imshow(a[0].numpy().transpose(1,2,0))"
      ],
      "execution_count": 21,
      "outputs": [
        {
          "output_type": "execute_result",
          "data": {
            "text/plain": [
              "<matplotlib.image.AxesImage at 0x7f09ea6effd0>"
            ]
          },
          "metadata": {
            "tags": []
          },
          "execution_count": 21
        },
        {
          "output_type": "display_data",
          "data": {
            "image/png": "[encoded data removed]",
            "text/plain": [
              "<Figure size 432x288 with 1 Axes>"
            ]
          },
          "metadata": {
            "tags": [],
            "needs_background": "light"
          }
        }
      ]
    },
    {
      "cell_type": "code",
      "metadata": {
        "id": "mZpFBajCsasx",
        "colab": {
          "base_uri": "https://localhost:8080/",
          "height": 68
        },
        "outputId": "bdc0c9ef-7d5b-46ca-cd9b-9739030d8967"
      },
      "source": [
        "wandb.login()"
      ],
      "execution_count": 22,
      "outputs": [
        {
          "output_type": "display_data",
          "data": {
            "application/javascript": [
              "\n",
              "        window._wandbApiKey = new Promise((resolve, reject) => {\n",
              "            function loadScript(url) {\n",
              "            return new Promise(function(resolve, reject) {\n",
              "                let newScript = document.createElement(\"script\");\n",
              "                newScript.onerror = reject;\n",
              "                newScript.onload = resolve;\n",
              "                document.body.appendChild(newScript);\n",
              "                newScript.src = url;\n",
              "            });\n",
              "            }\n",
              "            loadScript(\"https://cdn.jsdelivr.net/npm/postmate/build/postmate.min.js\").then(() => {\n",
              "            const iframe = document.createElement('iframe')\n",
              "            iframe.style.cssText = \"width:0;height:0;border:none\"\n",
              "            document.body.appendChild(iframe)\n",
              "            const handshake = new Postmate({\n",
              "                container: iframe,\n",
              "                url: 'https://wandb.ai/authorize'\n",
              "            });\n",
              "            const timeout = setTimeout(() => reject(\"Couldn't auto authenticate\"), 5000)\n",
              "            handshake.then(function(child) {\n",
              "                child.on('authorize', data => {\n",
              "                    clearTimeout(timeout)\n",
              "                    resolve(data)\n",
              "                });\n",
              "            });\n",
              "            })\n",
              "        });\n",
              "    "
            ],
            "text/plain": [
              "<IPython.core.display.Javascript object>"
            ]
          },
          "metadata": {
            "tags": []
          }
        },
        {
          "output_type": "stream",
          "text": [
            "\u001b[34m\u001b[1mwandb\u001b[0m: Appending key for api.wandb.ai to your netrc file: /root/.netrc\n"
          ],
          "name": "stderr"
        },
        {
          "output_type": "execute_result",
          "data": {
            "text/plain": [
              "True"
            ]
          },
          "metadata": {
            "tags": []
          },
          "execution_count": 22
        }
      ]
    },
    {
      "cell_type": "code",
      "metadata": {
        "id": "K6U3Nbb2sbov"
      },
      "source": [
        "config_defaults = {\n",
        "    'activation'            : 'relu',\n",
        "    'batch_size'            : BATCH_SIZE,\n",
        "    'dp_rate'               : 0,\n",
        "    'optimizer'             : 'adamw',\n",
        "    'lr'                    : 8e-4,\n",
        "    'weight_decay'          : 2e-6,\n",
        "    'squeeze_reduce'        : 16,\n",
        "    'loss_function'         : 'cce',\n",
        "    'model'                 : 'Resnet50',\n",
        "    'z_data'                : ['strides: 2,2,2,1']\n",
        "}"
      ],
      "execution_count": 24,
      "outputs": []
    },
    {
      "cell_type": "code",
      "metadata": {
        "colab": {
          "base_uri": "https://localhost:8080/",
          "height": 136
        },
        "id": "WKzlcwTPq8XU",
        "outputId": "cd675fbb-c9a4-4552-aa84-bcc1a9b99b57"
      },
      "source": [
        "run = wandb.init(project=\"imagenette-tests\", entity=\"shivamshrirao\", config=config_defaults)\n",
        "CONFIG = wandb.config"
      ],
      "execution_count": 25,
      "outputs": [
        {
          "output_type": "stream",
          "text": [
            "\u001b[34m\u001b[1mwandb\u001b[0m: Currently logged in as: \u001b[33mshivamshrirao\u001b[0m (use `wandb login --relogin` to force relogin)\n"
          ],
          "name": "stderr"
        },
        {
          "output_type": "display_data",
          "data": {
            "text/html": [
              "\n",
              "                Tracking run with wandb version 0.10.25<br/>\n",
              "                Syncing run <strong style=\"color:#cdcd00\">polar-firebrand-5</strong> to <a href=\"https://wandb.ai\" target=\"_blank\">Weights & Biases</a> <a href=\"https://docs.wandb.com/integrations/jupyter.html\" target=\"_blank\">(Documentation)</a>.<br/>\n",
              "                Project page: <a href=\"https://wandb.ai/shivamshrirao/imagenette-tests\" target=\"_blank\">https://wandb.ai/shivamshrirao/imagenette-tests</a><br/>\n",
              "                Run page: <a href=\"https://wandb.ai/shivamshrirao/imagenette-tests/runs/2j57xaum\" target=\"_blank\">https://wandb.ai/shivamshrirao/imagenette-tests/runs/2j57xaum</a><br/>\n",
              "                Run data is saved locally in <code>/content/tiny-imagenet-test/wandb/run-20210411_165407-2j57xaum</code><br/><br/>\n",
              "            "
            ],
            "text/plain": [
              "<IPython.core.display.HTML object>"
            ]
          },
          "metadata": {
            "tags": []
          }
        }
      ]
    },
    {
      "cell_type": "code",
      "metadata": {
        "id": "6ZPflb0u2_KL"
      },
      "source": [
        "# def ResAttnnet50(inputs=None,\n",
        "#              input_shape=(3,224,224),\n",
        "#              num_classes=1000,\n",
        "#              dp_rate=0,\n",
        "#              activation=tf.nn.relu):\n",
        "\n",
        "#     return Resnet(AttnBottleneck, num_repeats=[3,4,6,3], inputs=inputs, input_shape=input_shape, num_classes=num_classes,\n",
        "#                   dp_rate=dp_rate, activation=activation, self_attn=[False,False,True,True], nheads=8, pos_emb=True, frac_dk=1, frac_dv=1)"
      ],
      "execution_count": 26,
      "outputs": []
    },
    {
      "cell_type": "code",
      "metadata": {
        "id": "r4dHJMVHM_MJ"
      },
      "source": [
        "from resnet import *"
      ],
      "execution_count": 27,
      "outputs": []
    },
    {
      "cell_type": "code",
      "metadata": {
        "id": "Mx36csxaNjPD"
      },
      "source": [
        "model = Resnet50(input_shape=(3,224,224),\n",
        "                 num_classes=10,\n",
        "                 squeeze_reduce=CONFIG[\"squeeze_reduce\"],\n",
        "                 activation=CONFIG[\"activation\"],\n",
        "                 dp_rate=CONFIG[\"dp_rate\"]\n",
        "                 ).get_model()"
      ],
      "execution_count": 28,
      "outputs": []
    },
    {
      "cell_type": "code",
      "metadata": {
        "colab": {
          "base_uri": "https://localhost:8080/"
        },
        "id": "uIEmUBPoXgMy",
        "outputId": "86d3653c-fdaf-4f34-dc21-b08bc8e99b64"
      },
      "source": [
        "model.summary()"
      ],
      "execution_count": 29,
      "outputs": [
        {
          "output_type": "stream",
          "text": [
            "Model: \"model\"\n",
            "__________________________________________________________________________________________________\n",
            "Layer (type)                    Output Shape         Param #     Connected to                     \n",
            "==================================================================================================\n",
            "input_1 (InputLayer)            [(None, 3, 224, 224) 0                                            \n",
            "__________________________________________________________________________________________________\n",
            "conv2d (Conv2D)                 (None, 64, 112, 112) 9472        input_1[0][0]                    \n",
            "__________________________________________________________________________________________________\n",
            "max_pooling2d (MaxPooling2D)    (None, 64, 56, 56)   0           conv2d[0][0]                     \n",
            "__________________________________________________________________________________________________\n",
            "batch_normalization (BatchNorma (None, 64, 56, 56)   256         max_pooling2d[0][0]              \n",
            "__________________________________________________________________________________________________\n",
            "activation (Activation)         (None, 64, 56, 56)   0           batch_normalization[0][0]        \n",
            "__________________________________________________________________________________________________\n",
            "conv1x1_in_0_block0 (Conv2D)    (None, 128, 56, 56)  8192        activation[0][0]                 \n",
            "__________________________________________________________________________________________________\n",
            "batch_normalization_1 (BatchNor (None, 128, 56, 56)  512         conv1x1_in_0_block0[0][0]        \n",
            "__________________________________________________________________________________________________\n",
            "activation_1 (Activation)       (None, 128, 56, 56)  0           batch_normalization_1[0][0]      \n",
            "__________________________________________________________________________________________________\n",
            "conv3x3_0_block0 (Conv2D)       (None, 128, 56, 56)  4608        activation_1[0][0]               \n",
            "__________________________________________________________________________________________________\n",
            "batch_normalization_2 (BatchNor (None, 128, 56, 56)  512         conv3x3_0_block0[0][0]           \n",
            "__________________________________________________________________________________________________\n",
            "activation_2 (Activation)       (None, 128, 56, 56)  0           batch_normalization_2[0][0]      \n",
            "__________________________________________________________________________________________________\n",
            "conv1x1_out_0_block0 (Conv2D)   (None, 256, 56, 56)  33024       activation_2[0][0]               \n",
            "__________________________________________________________________________________________________\n",
            "conv1x1_identity_0_block0 (Conv (None, 256, 56, 56)  16640       activation[0][0]                 \n",
            "__________________________________________________________________________________________________\n",
            "squeeze_attention2d (SqueezeAtt (None, 256, 56, 56)  8464        conv1x1_out_0_block0[0][0]       \n",
            "__________________________________________________________________________________________________\n",
            "add (Add)                       (None, 256, 56, 56)  0           conv1x1_identity_0_block0[0][0]  \n",
            "                                                                 squeeze_attention2d[0][0]        \n",
            "__________________________________________________________________________________________________\n",
            "batch_normalization_3 (BatchNor (None, 256, 56, 56)  1024        add[0][0]                        \n",
            "__________________________________________________________________________________________________\n",
            "activation_3 (Activation)       (None, 256, 56, 56)  0           batch_normalization_3[0][0]      \n",
            "__________________________________________________________________________________________________\n",
            "conv1x1_in_0_block1 (Conv2D)    (None, 128, 56, 56)  32768       activation_3[0][0]               \n",
            "__________________________________________________________________________________________________\n",
            "batch_normalization_4 (BatchNor (None, 128, 56, 56)  512         conv1x1_in_0_block1[0][0]        \n",
            "__________________________________________________________________________________________________\n",
            "activation_4 (Activation)       (None, 128, 56, 56)  0           batch_normalization_4[0][0]      \n",
            "__________________________________________________________________________________________________\n",
            "conv3x3_0_block1 (Conv2D)       (None, 128, 56, 56)  4608        activation_4[0][0]               \n",
            "__________________________________________________________________________________________________\n",
            "batch_normalization_5 (BatchNor (None, 128, 56, 56)  512         conv3x3_0_block1[0][0]           \n",
            "__________________________________________________________________________________________________\n",
            "activation_5 (Activation)       (None, 128, 56, 56)  0           batch_normalization_5[0][0]      \n",
            "__________________________________________________________________________________________________\n",
            "conv1x1_out_0_block1 (Conv2D)   (None, 256, 56, 56)  33024       activation_5[0][0]               \n",
            "__________________________________________________________________________________________________\n",
            "squeeze_attention2d_1 (SqueezeA (None, 256, 56, 56)  8464        conv1x1_out_0_block1[0][0]       \n",
            "__________________________________________________________________________________________________\n",
            "add_1 (Add)                     (None, 256, 56, 56)  0           add[0][0]                        \n",
            "                                                                 squeeze_attention2d_1[0][0]      \n",
            "__________________________________________________________________________________________________\n",
            "batch_normalization_6 (BatchNor (None, 256, 56, 56)  1024        add_1[0][0]                      \n",
            "__________________________________________________________________________________________________\n",
            "activation_6 (Activation)       (None, 256, 56, 56)  0           batch_normalization_6[0][0]      \n",
            "__________________________________________________________________________________________________\n",
            "conv1x1_in_0_block2 (Conv2D)    (None, 128, 56, 56)  32768       activation_6[0][0]               \n",
            "__________________________________________________________________________________________________\n",
            "batch_normalization_7 (BatchNor (None, 128, 56, 56)  512         conv1x1_in_0_block2[0][0]        \n",
            "__________________________________________________________________________________________________\n",
            "activation_7 (Activation)       (None, 128, 56, 56)  0           batch_normalization_7[0][0]      \n",
            "__________________________________________________________________________________________________\n",
            "conv3x3_0_block2 (Conv2D)       (None, 128, 28, 28)  4608        activation_7[0][0]               \n",
            "__________________________________________________________________________________________________\n",
            "batch_normalization_8 (BatchNor (None, 128, 28, 28)  512         conv3x3_0_block2[0][0]           \n",
            "__________________________________________________________________________________________________\n",
            "activation_8 (Activation)       (None, 128, 28, 28)  0           batch_normalization_8[0][0]      \n",
            "__________________________________________________________________________________________________\n",
            "conv1x1_out_0_block2 (Conv2D)   (None, 256, 28, 28)  33024       activation_8[0][0]               \n",
            "__________________________________________________________________________________________________\n",
            "max_pooling2d_1 (MaxPooling2D)  (None, 256, 28, 28)  0           add_1[0][0]                      \n",
            "__________________________________________________________________________________________________\n",
            "squeeze_attention2d_2 (SqueezeA (None, 256, 28, 28)  8464        conv1x1_out_0_block2[0][0]       \n",
            "__________________________________________________________________________________________________\n",
            "add_2 (Add)                     (None, 256, 28, 28)  0           max_pooling2d_1[0][0]            \n",
            "                                                                 squeeze_attention2d_2[0][0]      \n",
            "__________________________________________________________________________________________________\n",
            "batch_normalization_9 (BatchNor (None, 256, 28, 28)  1024        add_2[0][0]                      \n",
            "__________________________________________________________________________________________________\n",
            "activation_9 (Activation)       (None, 256, 28, 28)  0           batch_normalization_9[0][0]      \n",
            "__________________________________________________________________________________________________\n",
            "conv1x1_in_1_block0 (Conv2D)    (None, 256, 28, 28)  65536       activation_9[0][0]               \n",
            "__________________________________________________________________________________________________\n",
            "batch_normalization_10 (BatchNo (None, 256, 28, 28)  1024        conv1x1_in_1_block0[0][0]        \n",
            "__________________________________________________________________________________________________\n",
            "activation_10 (Activation)      (None, 256, 28, 28)  0           batch_normalization_10[0][0]     \n",
            "__________________________________________________________________________________________________\n",
            "conv3x3_1_block0 (Conv2D)       (None, 256, 28, 28)  18432       activation_10[0][0]              \n",
            "__________________________________________________________________________________________________\n",
            "batch_normalization_11 (BatchNo (None, 256, 28, 28)  1024        conv3x3_1_block0[0][0]           \n",
            "__________________________________________________________________________________________________\n",
            "activation_11 (Activation)      (None, 256, 28, 28)  0           batch_normalization_11[0][0]     \n",
            "__________________________________________________________________________________________________\n",
            "conv1x1_out_1_block0 (Conv2D)   (None, 512, 28, 28)  131584      activation_11[0][0]              \n",
            "__________________________________________________________________________________________________\n",
            "conv1x1_identity_1_block0 (Conv (None, 512, 28, 28)  131584      activation_9[0][0]               \n",
            "__________________________________________________________________________________________________\n",
            "squeeze_attention2d_3 (SqueezeA (None, 512, 28, 28)  33312       conv1x1_out_1_block0[0][0]       \n",
            "__________________________________________________________________________________________________\n",
            "add_3 (Add)                     (None, 512, 28, 28)  0           conv1x1_identity_1_block0[0][0]  \n",
            "                                                                 squeeze_attention2d_3[0][0]      \n",
            "__________________________________________________________________________________________________\n",
            "batch_normalization_12 (BatchNo (None, 512, 28, 28)  2048        add_3[0][0]                      \n",
            "__________________________________________________________________________________________________\n",
            "activation_12 (Activation)      (None, 512, 28, 28)  0           batch_normalization_12[0][0]     \n",
            "__________________________________________________________________________________________________\n",
            "conv1x1_in_1_block1 (Conv2D)    (None, 256, 28, 28)  131072      activation_12[0][0]              \n",
            "__________________________________________________________________________________________________\n",
            "batch_normalization_13 (BatchNo (None, 256, 28, 28)  1024        conv1x1_in_1_block1[0][0]        \n",
            "__________________________________________________________________________________________________\n",
            "activation_13 (Activation)      (None, 256, 28, 28)  0           batch_normalization_13[0][0]     \n",
            "__________________________________________________________________________________________________\n",
            "conv3x3_1_block1 (Conv2D)       (None, 256, 28, 28)  18432       activation_13[0][0]              \n",
            "__________________________________________________________________________________________________\n",
            "batch_normalization_14 (BatchNo (None, 256, 28, 28)  1024        conv3x3_1_block1[0][0]           \n",
            "__________________________________________________________________________________________________\n",
            "activation_14 (Activation)      (None, 256, 28, 28)  0           batch_normalization_14[0][0]     \n",
            "__________________________________________________________________________________________________\n",
            "conv1x1_out_1_block1 (Conv2D)   (None, 512, 28, 28)  131584      activation_14[0][0]              \n",
            "__________________________________________________________________________________________________\n",
            "squeeze_attention2d_4 (SqueezeA (None, 512, 28, 28)  33312       conv1x1_out_1_block1[0][0]       \n",
            "__________________________________________________________________________________________________\n",
            "add_4 (Add)                     (None, 512, 28, 28)  0           add_3[0][0]                      \n",
            "                                                                 squeeze_attention2d_4[0][0]      \n",
            "__________________________________________________________________________________________________\n",
            "batch_normalization_15 (BatchNo (None, 512, 28, 28)  2048        add_4[0][0]                      \n",
            "__________________________________________________________________________________________________\n",
            "activation_15 (Activation)      (None, 512, 28, 28)  0           batch_normalization_15[0][0]     \n",
            "__________________________________________________________________________________________________\n",
            "conv1x1_in_1_block2 (Conv2D)    (None, 256, 28, 28)  131072      activation_15[0][0]              \n",
            "__________________________________________________________________________________________________\n",
            "batch_normalization_16 (BatchNo (None, 256, 28, 28)  1024        conv1x1_in_1_block2[0][0]        \n",
            "__________________________________________________________________________________________________\n",
            "activation_16 (Activation)      (None, 256, 28, 28)  0           batch_normalization_16[0][0]     \n",
            "__________________________________________________________________________________________________\n",
            "conv3x3_1_block2 (Conv2D)       (None, 256, 28, 28)  18432       activation_16[0][0]              \n",
            "__________________________________________________________________________________________________\n",
            "batch_normalization_17 (BatchNo (None, 256, 28, 28)  1024        conv3x3_1_block2[0][0]           \n",
            "__________________________________________________________________________________________________\n",
            "activation_17 (Activation)      (None, 256, 28, 28)  0           batch_normalization_17[0][0]     \n",
            "__________________________________________________________________________________________________\n",
            "conv1x1_out_1_block2 (Conv2D)   (None, 512, 28, 28)  131584      activation_17[0][0]              \n",
            "__________________________________________________________________________________________________\n",
            "squeeze_attention2d_5 (SqueezeA (None, 512, 28, 28)  33312       conv1x1_out_1_block2[0][0]       \n",
            "__________________________________________________________________________________________________\n",
            "add_5 (Add)                     (None, 512, 28, 28)  0           add_4[0][0]                      \n",
            "                                                                 squeeze_attention2d_5[0][0]      \n",
            "__________________________________________________________________________________________________\n",
            "batch_normalization_18 (BatchNo (None, 512, 28, 28)  2048        add_5[0][0]                      \n",
            "__________________________________________________________________________________________________\n",
            "activation_18 (Activation)      (None, 512, 28, 28)  0           batch_normalization_18[0][0]     \n",
            "__________________________________________________________________________________________________\n",
            "conv1x1_in_1_block3 (Conv2D)    (None, 256, 28, 28)  131072      activation_18[0][0]              \n",
            "__________________________________________________________________________________________________\n",
            "batch_normalization_19 (BatchNo (None, 256, 28, 28)  1024        conv1x1_in_1_block3[0][0]        \n",
            "__________________________________________________________________________________________________\n",
            "activation_19 (Activation)      (None, 256, 28, 28)  0           batch_normalization_19[0][0]     \n",
            "__________________________________________________________________________________________________\n",
            "conv3x3_1_block3 (Conv2D)       (None, 256, 14, 14)  18432       activation_19[0][0]              \n",
            "__________________________________________________________________________________________________\n",
            "batch_normalization_20 (BatchNo (None, 256, 14, 14)  1024        conv3x3_1_block3[0][0]           \n",
            "__________________________________________________________________________________________________\n",
            "activation_20 (Activation)      (None, 256, 14, 14)  0           batch_normalization_20[0][0]     \n",
            "__________________________________________________________________________________________________\n",
            "conv1x1_out_1_block3 (Conv2D)   (None, 512, 14, 14)  131584      activation_20[0][0]              \n",
            "__________________________________________________________________________________________________\n",
            "max_pooling2d_2 (MaxPooling2D)  (None, 512, 14, 14)  0           add_5[0][0]                      \n",
            "__________________________________________________________________________________________________\n",
            "squeeze_attention2d_6 (SqueezeA (None, 512, 14, 14)  33312       conv1x1_out_1_block3[0][0]       \n",
            "__________________________________________________________________________________________________\n",
            "add_6 (Add)                     (None, 512, 14, 14)  0           max_pooling2d_2[0][0]            \n",
            "                                                                 squeeze_attention2d_6[0][0]      \n",
            "__________________________________________________________________________________________________\n",
            "batch_normalization_21 (BatchNo (None, 512, 14, 14)  2048        add_6[0][0]                      \n",
            "__________________________________________________________________________________________________\n",
            "activation_21 (Activation)      (None, 512, 14, 14)  0           batch_normalization_21[0][0]     \n",
            "__________________________________________________________________________________________________\n",
            "conv1x1_in_2_block0 (Conv2D)    (None, 512, 14, 14)  262144      activation_21[0][0]              \n",
            "__________________________________________________________________________________________________\n",
            "batch_normalization_22 (BatchNo (None, 512, 14, 14)  2048        conv1x1_in_2_block0[0][0]        \n",
            "__________________________________________________________________________________________________\n",
            "activation_22 (Activation)      (None, 512, 14, 14)  0           batch_normalization_22[0][0]     \n",
            "__________________________________________________________________________________________________\n",
            "conv3x3_2_block0 (Conv2D)       (None, 512, 14, 14)  73728       activation_22[0][0]              \n",
            "__________________________________________________________________________________________________\n",
            "batch_normalization_23 (BatchNo (None, 512, 14, 14)  2048        conv3x3_2_block0[0][0]           \n",
            "__________________________________________________________________________________________________\n",
            "activation_23 (Activation)      (None, 512, 14, 14)  0           batch_normalization_23[0][0]     \n",
            "__________________________________________________________________________________________________\n",
            "conv1x1_out_2_block0 (Conv2D)   (None, 1024, 14, 14) 525312      activation_23[0][0]              \n",
            "__________________________________________________________________________________________________\n",
            "conv1x1_identity_2_block0 (Conv (None, 1024, 14, 14) 525312      activation_21[0][0]              \n",
            "__________________________________________________________________________________________________\n",
            "squeeze_attention2d_7 (SqueezeA (None, 1024, 14, 14) 132160      conv1x1_out_2_block0[0][0]       \n",
            "__________________________________________________________________________________________________\n",
            "add_7 (Add)                     (None, 1024, 14, 14) 0           conv1x1_identity_2_block0[0][0]  \n",
            "                                                                 squeeze_attention2d_7[0][0]      \n",
            "__________________________________________________________________________________________________\n",
            "batch_normalization_24 (BatchNo (None, 1024, 14, 14) 4096        add_7[0][0]                      \n",
            "__________________________________________________________________________________________________\n",
            "activation_24 (Activation)      (None, 1024, 14, 14) 0           batch_normalization_24[0][0]     \n",
            "__________________________________________________________________________________________________\n",
            "conv1x1_in_2_block1 (Conv2D)    (None, 512, 14, 14)  524288      activation_24[0][0]              \n",
            "__________________________________________________________________________________________________\n",
            "batch_normalization_25 (BatchNo (None, 512, 14, 14)  2048        conv1x1_in_2_block1[0][0]        \n",
            "__________________________________________________________________________________________________\n",
            "activation_25 (Activation)      (None, 512, 14, 14)  0           batch_normalization_25[0][0]     \n",
            "__________________________________________________________________________________________________\n",
            "conv3x3_2_block1 (Conv2D)       (None, 512, 14, 14)  73728       activation_25[0][0]              \n",
            "__________________________________________________________________________________________________\n",
            "batch_normalization_26 (BatchNo (None, 512, 14, 14)  2048        conv3x3_2_block1[0][0]           \n",
            "__________________________________________________________________________________________________\n",
            "activation_26 (Activation)      (None, 512, 14, 14)  0           batch_normalization_26[0][0]     \n",
            "__________________________________________________________________________________________________\n",
            "conv1x1_out_2_block1 (Conv2D)   (None, 1024, 14, 14) 525312      activation_26[0][0]              \n",
            "__________________________________________________________________________________________________\n",
            "squeeze_attention2d_8 (SqueezeA (None, 1024, 14, 14) 132160      conv1x1_out_2_block1[0][0]       \n",
            "__________________________________________________________________________________________________\n",
            "add_8 (Add)                     (None, 1024, 14, 14) 0           add_7[0][0]                      \n",
            "                                                                 squeeze_attention2d_8[0][0]      \n",
            "__________________________________________________________________________________________________\n",
            "batch_normalization_27 (BatchNo (None, 1024, 14, 14) 4096        add_8[0][0]                      \n",
            "__________________________________________________________________________________________________\n",
            "activation_27 (Activation)      (None, 1024, 14, 14) 0           batch_normalization_27[0][0]     \n",
            "__________________________________________________________________________________________________\n",
            "conv1x1_in_2_block2 (Conv2D)    (None, 512, 14, 14)  524288      activation_27[0][0]              \n",
            "__________________________________________________________________________________________________\n",
            "batch_normalization_28 (BatchNo (None, 512, 14, 14)  2048        conv1x1_in_2_block2[0][0]        \n",
            "__________________________________________________________________________________________________\n",
            "activation_28 (Activation)      (None, 512, 14, 14)  0           batch_normalization_28[0][0]     \n",
            "__________________________________________________________________________________________________\n",
            "conv3x3_2_block2 (Conv2D)       (None, 512, 14, 14)  73728       activation_28[0][0]              \n",
            "__________________________________________________________________________________________________\n",
            "batch_normalization_29 (BatchNo (None, 512, 14, 14)  2048        conv3x3_2_block2[0][0]           \n",
            "__________________________________________________________________________________________________\n",
            "activation_29 (Activation)      (None, 512, 14, 14)  0           batch_normalization_29[0][0]     \n",
            "__________________________________________________________________________________________________\n",
            "conv1x1_out_2_block2 (Conv2D)   (None, 1024, 14, 14) 525312      activation_29[0][0]              \n",
            "__________________________________________________________________________________________________\n",
            "squeeze_attention2d_9 (SqueezeA (None, 1024, 14, 14) 132160      conv1x1_out_2_block2[0][0]       \n",
            "__________________________________________________________________________________________________\n",
            "add_9 (Add)                     (None, 1024, 14, 14) 0           add_8[0][0]                      \n",
            "                                                                 squeeze_attention2d_9[0][0]      \n",
            "__________________________________________________________________________________________________\n",
            "batch_normalization_30 (BatchNo (None, 1024, 14, 14) 4096        add_9[0][0]                      \n",
            "__________________________________________________________________________________________________\n",
            "activation_30 (Activation)      (None, 1024, 14, 14) 0           batch_normalization_30[0][0]     \n",
            "__________________________________________________________________________________________________\n",
            "conv1x1_in_2_block3 (Conv2D)    (None, 512, 14, 14)  524288      activation_30[0][0]              \n",
            "__________________________________________________________________________________________________\n",
            "batch_normalization_31 (BatchNo (None, 512, 14, 14)  2048        conv1x1_in_2_block3[0][0]        \n",
            "__________________________________________________________________________________________________\n",
            "activation_31 (Activation)      (None, 512, 14, 14)  0           batch_normalization_31[0][0]     \n",
            "__________________________________________________________________________________________________\n",
            "conv3x3_2_block3 (Conv2D)       (None, 512, 14, 14)  73728       activation_31[0][0]              \n",
            "__________________________________________________________________________________________________\n",
            "batch_normalization_32 (BatchNo (None, 512, 14, 14)  2048        conv3x3_2_block3[0][0]           \n",
            "__________________________________________________________________________________________________\n",
            "activation_32 (Activation)      (None, 512, 14, 14)  0           batch_normalization_32[0][0]     \n",
            "__________________________________________________________________________________________________\n",
            "conv1x1_out_2_block3 (Conv2D)   (None, 1024, 14, 14) 525312      activation_32[0][0]              \n",
            "__________________________________________________________________________________________________\n",
            "squeeze_attention2d_10 (Squeeze (None, 1024, 14, 14) 132160      conv1x1_out_2_block3[0][0]       \n",
            "__________________________________________________________________________________________________\n",
            "add_10 (Add)                    (None, 1024, 14, 14) 0           add_9[0][0]                      \n",
            "                                                                 squeeze_attention2d_10[0][0]     \n",
            "__________________________________________________________________________________________________\n",
            "batch_normalization_33 (BatchNo (None, 1024, 14, 14) 4096        add_10[0][0]                     \n",
            "__________________________________________________________________________________________________\n",
            "activation_33 (Activation)      (None, 1024, 14, 14) 0           batch_normalization_33[0][0]     \n",
            "__________________________________________________________________________________________________\n",
            "conv1x1_in_2_block4 (Conv2D)    (None, 512, 14, 14)  524288      activation_33[0][0]              \n",
            "__________________________________________________________________________________________________\n",
            "batch_normalization_34 (BatchNo (None, 512, 14, 14)  2048        conv1x1_in_2_block4[0][0]        \n",
            "__________________________________________________________________________________________________\n",
            "activation_34 (Activation)      (None, 512, 14, 14)  0           batch_normalization_34[0][0]     \n",
            "__________________________________________________________________________________________________\n",
            "conv3x3_2_block4 (Conv2D)       (None, 512, 14, 14)  73728       activation_34[0][0]              \n",
            "__________________________________________________________________________________________________\n",
            "batch_normalization_35 (BatchNo (None, 512, 14, 14)  2048        conv3x3_2_block4[0][0]           \n",
            "__________________________________________________________________________________________________\n",
            "activation_35 (Activation)      (None, 512, 14, 14)  0           batch_normalization_35[0][0]     \n",
            "__________________________________________________________________________________________________\n",
            "conv1x1_out_2_block4 (Conv2D)   (None, 1024, 14, 14) 525312      activation_35[0][0]              \n",
            "__________________________________________________________________________________________________\n",
            "squeeze_attention2d_11 (Squeeze (None, 1024, 14, 14) 132160      conv1x1_out_2_block4[0][0]       \n",
            "__________________________________________________________________________________________________\n",
            "add_11 (Add)                    (None, 1024, 14, 14) 0           add_10[0][0]                     \n",
            "                                                                 squeeze_attention2d_11[0][0]     \n",
            "__________________________________________________________________________________________________\n",
            "batch_normalization_36 (BatchNo (None, 1024, 14, 14) 4096        add_11[0][0]                     \n",
            "__________________________________________________________________________________________________\n",
            "activation_36 (Activation)      (None, 1024, 14, 14) 0           batch_normalization_36[0][0]     \n",
            "__________________________________________________________________________________________________\n",
            "conv1x1_in_2_block5 (Conv2D)    (None, 512, 14, 14)  524288      activation_36[0][0]              \n",
            "__________________________________________________________________________________________________\n",
            "batch_normalization_37 (BatchNo (None, 512, 14, 14)  2048        conv1x1_in_2_block5[0][0]        \n",
            "__________________________________________________________________________________________________\n",
            "activation_37 (Activation)      (None, 512, 14, 14)  0           batch_normalization_37[0][0]     \n",
            "__________________________________________________________________________________________________\n",
            "conv3x3_2_block5 (Conv2D)       (None, 512, 7, 7)    73728       activation_37[0][0]              \n",
            "__________________________________________________________________________________________________\n",
            "batch_normalization_38 (BatchNo (None, 512, 7, 7)    2048        conv3x3_2_block5[0][0]           \n",
            "__________________________________________________________________________________________________\n",
            "activation_38 (Activation)      (None, 512, 7, 7)    0           batch_normalization_38[0][0]     \n",
            "__________________________________________________________________________________________________\n",
            "conv1x1_out_2_block5 (Conv2D)   (None, 1024, 7, 7)   525312      activation_38[0][0]              \n",
            "__________________________________________________________________________________________________\n",
            "max_pooling2d_3 (MaxPooling2D)  (None, 1024, 7, 7)   0           add_11[0][0]                     \n",
            "__________________________________________________________________________________________________\n",
            "squeeze_attention2d_12 (Squeeze (None, 1024, 7, 7)   132160      conv1x1_out_2_block5[0][0]       \n",
            "__________________________________________________________________________________________________\n",
            "add_12 (Add)                    (None, 1024, 7, 7)   0           max_pooling2d_3[0][0]            \n",
            "                                                                 squeeze_attention2d_12[0][0]     \n",
            "__________________________________________________________________________________________________\n",
            "batch_normalization_39 (BatchNo (None, 1024, 7, 7)   4096        add_12[0][0]                     \n",
            "__________________________________________________________________________________________________\n",
            "activation_39 (Activation)      (None, 1024, 7, 7)   0           batch_normalization_39[0][0]     \n",
            "__________________________________________________________________________________________________\n",
            "conv1x1_in_3_block0 (Conv2D)    (None, 1024, 7, 7)   1048576     activation_39[0][0]              \n",
            "__________________________________________________________________________________________________\n",
            "batch_normalization_40 (BatchNo (None, 1024, 7, 7)   4096        conv1x1_in_3_block0[0][0]        \n",
            "__________________________________________________________________________________________________\n",
            "activation_40 (Activation)      (None, 1024, 7, 7)   0           batch_normalization_40[0][0]     \n",
            "__________________________________________________________________________________________________\n",
            "conv3x3_3_block0 (Conv2D)       (None, 1024, 7, 7)   294912      activation_40[0][0]              \n",
            "__________________________________________________________________________________________________\n",
            "batch_normalization_41 (BatchNo (None, 1024, 7, 7)   4096        conv3x3_3_block0[0][0]           \n",
            "__________________________________________________________________________________________________\n",
            "activation_41 (Activation)      (None, 1024, 7, 7)   0           batch_normalization_41[0][0]     \n",
            "__________________________________________________________________________________________________\n",
            "conv1x1_out_3_block0 (Conv2D)   (None, 2048, 7, 7)   2099200     activation_41[0][0]              \n",
            "__________________________________________________________________________________________________\n",
            "conv1x1_identity_3_block0 (Conv (None, 2048, 7, 7)   2099200     activation_39[0][0]              \n",
            "__________________________________________________________________________________________________\n",
            "squeeze_attention2d_13 (Squeeze (None, 2048, 7, 7)   526464      conv1x1_out_3_block0[0][0]       \n",
            "__________________________________________________________________________________________________\n",
            "add_13 (Add)                    (None, 2048, 7, 7)   0           conv1x1_identity_3_block0[0][0]  \n",
            "                                                                 squeeze_attention2d_13[0][0]     \n",
            "__________________________________________________________________________________________________\n",
            "batch_normalization_42 (BatchNo (None, 2048, 7, 7)   8192        add_13[0][0]                     \n",
            "__________________________________________________________________________________________________\n",
            "activation_42 (Activation)      (None, 2048, 7, 7)   0           batch_normalization_42[0][0]     \n",
            "__________________________________________________________________________________________________\n",
            "conv1x1_in_3_block1 (Conv2D)    (None, 1024, 7, 7)   2097152     activation_42[0][0]              \n",
            "__________________________________________________________________________________________________\n",
            "batch_normalization_43 (BatchNo (None, 1024, 7, 7)   4096        conv1x1_in_3_block1[0][0]        \n",
            "__________________________________________________________________________________________________\n",
            "activation_43 (Activation)      (None, 1024, 7, 7)   0           batch_normalization_43[0][0]     \n",
            "__________________________________________________________________________________________________\n",
            "conv3x3_3_block1 (Conv2D)       (None, 1024, 7, 7)   294912      activation_43[0][0]              \n",
            "__________________________________________________________________________________________________\n",
            "batch_normalization_44 (BatchNo (None, 1024, 7, 7)   4096        conv3x3_3_block1[0][0]           \n",
            "__________________________________________________________________________________________________\n",
            "activation_44 (Activation)      (None, 1024, 7, 7)   0           batch_normalization_44[0][0]     \n",
            "__________________________________________________________________________________________________\n",
            "conv1x1_out_3_block1 (Conv2D)   (None, 2048, 7, 7)   2099200     activation_44[0][0]              \n",
            "__________________________________________________________________________________________________\n",
            "squeeze_attention2d_14 (Squeeze (None, 2048, 7, 7)   526464      conv1x1_out_3_block1[0][0]       \n",
            "__________________________________________________________________________________________________\n",
            "add_14 (Add)                    (None, 2048, 7, 7)   0           add_13[0][0]                     \n",
            "                                                                 squeeze_attention2d_14[0][0]     \n",
            "__________________________________________________________________________________________________\n",
            "batch_normalization_45 (BatchNo (None, 2048, 7, 7)   8192        add_14[0][0]                     \n",
            "__________________________________________________________________________________________________\n",
            "activation_45 (Activation)      (None, 2048, 7, 7)   0           batch_normalization_45[0][0]     \n",
            "__________________________________________________________________________________________________\n",
            "conv1x1_in_3_block2 (Conv2D)    (None, 1024, 7, 7)   2097152     activation_45[0][0]              \n",
            "__________________________________________________________________________________________________\n",
            "batch_normalization_46 (BatchNo (None, 1024, 7, 7)   4096        conv1x1_in_3_block2[0][0]        \n",
            "__________________________________________________________________________________________________\n",
            "activation_46 (Activation)      (None, 1024, 7, 7)   0           batch_normalization_46[0][0]     \n",
            "__________________________________________________________________________________________________\n",
            "conv3x3_3_block2 (Conv2D)       (None, 1024, 7, 7)   294912      activation_46[0][0]              \n",
            "__________________________________________________________________________________________________\n",
            "batch_normalization_47 (BatchNo (None, 1024, 7, 7)   4096        conv3x3_3_block2[0][0]           \n",
            "__________________________________________________________________________________________________\n",
            "activation_47 (Activation)      (None, 1024, 7, 7)   0           batch_normalization_47[0][0]     \n",
            "__________________________________________________________________________________________________\n",
            "conv1x1_out_3_block2 (Conv2D)   (None, 2048, 7, 7)   2099200     activation_47[0][0]              \n",
            "__________________________________________________________________________________________________\n",
            "squeeze_attention2d_15 (Squeeze (None, 2048, 7, 7)   526464      conv1x1_out_3_block2[0][0]       \n",
            "__________________________________________________________________________________________________\n",
            "add_15 (Add)                    (None, 2048, 7, 7)   0           add_14[0][0]                     \n",
            "                                                                 squeeze_attention2d_15[0][0]     \n",
            "__________________________________________________________________________________________________\n",
            "batch_normalization_48 (BatchNo (None, 2048, 7, 7)   8192        add_15[0][0]                     \n",
            "__________________________________________________________________________________________________\n",
            "activation_48 (Activation)      (None, 2048, 7, 7)   0           batch_normalization_48[0][0]     \n",
            "__________________________________________________________________________________________________\n",
            "global_average_pooling2d_16 (Gl (None, 2048)         0           activation_48[0][0]              \n",
            "__________________________________________________________________________________________________\n",
            "dense (Dense)                   (None, 10)           20490       global_average_pooling2d_16[0][0]\n",
            "__________________________________________________________________________________________________\n",
            "softmax (Softmax)               (None, 10)           0           dense[0][0]                      \n",
            "==================================================================================================\n",
            "Total params: 25,603,258\n",
            "Trainable params: 25,542,714\n",
            "Non-trainable params: 60,544\n",
            "__________________________________________________________________________________________________\n"
          ],
          "name": "stdout"
        }
      ]
    },
    {
      "cell_type": "code",
      "metadata": {
        "id": "S5lVqcbLtB6T"
      },
      "source": [
        "if CONFIG[\"optimizer\"] == 'adamw':\n",
        "    opt = tfa.optimizers.AdamW(learning_rate=CONFIG[\"lr\"], weight_decay=CONFIG[\"weight_decay\"])\n",
        "opt = tf.keras.mixed_precision.LossScaleOptimizer(opt)"
      ],
      "execution_count": 30,
      "outputs": []
    },
    {
      "cell_type": "code",
      "metadata": {
        "id": "gdmXP4uftDqd"
      },
      "source": [
        "if CONFIG[\"loss_function\"] == 'cce':\n",
        "    loss_function = tf.keras.losses.SparseCategoricalCrossentropy()"
      ],
      "execution_count": 31,
      "outputs": []
    },
    {
      "cell_type": "code",
      "metadata": {
        "id": "IYx3tOeMsxuQ"
      },
      "source": [
        "wandb_cb = WandbCallback(monitor='val_accuracy', mode='max', generator=val_ds)"
      ],
      "execution_count": 32,
      "outputs": []
    },
    {
      "cell_type": "code",
      "metadata": {
        "id": "0eAiHQBctE4F"
      },
      "source": [
        "model.compile(optimizer=opt, loss=loss_function, metrics=['accuracy'])"
      ],
      "execution_count": 33,
      "outputs": []
    },
    {
      "cell_type": "code",
      "metadata": {
        "colab": {
          "base_uri": "https://localhost:8080/"
        },
        "id": "_napcMLcie5A",
        "outputId": "99f32f4f-e306-4e76-9a45-93ce0c2798f9"
      },
      "source": [
        "history = model.fit(train_ds,\n",
        "                    epochs=100,\n",
        "                    validation_data=val_ds,\n",
        "                    workers=4,\n",
        "                    use_multiprocessing=True,\n",
        "                    callbacks=[wandb_cb])"
      ],
      "execution_count": null,
      "outputs": [
        {
          "output_type": "stream",
          "text": [
            "Epoch 1/100\n",
            "45/50 [==========================>...] - ETA: 9s - loss: 2.4628 - accuracy: 0.2640 "
          ],
          "name": "stdout"
        }
      ]
    },
    {
      "cell_type": "code",
      "metadata": {
        "id": "sO3Vo8gbt84z"
      },
      "source": [
        "# decisive_depth\n",
        "# x = block(args)(x)\n",
        "# gp = globalpool(x)\n",
        "# gamma = dense(1)(gp) # sigmoid or simply relu\n",
        "# next_block = block(args)\n",
        "# def call(args):         # or process in batch and mask with 0\n",
        "#     x, next_block, gamma = args\n",
        "#     if gamma > 0.5:\n",
        "#         x = next_block(x)\n",
        "#     else:\n",
        "#         x = pool(x) (if stride>1 else x) or pointwise(x)\n",
        "# x = tf.map_fn(call, (x, next_block, gamma))\n",
        "# x = block(args)(x)"
      ],
      "execution_count": null,
      "outputs": []
    }
  ]
}