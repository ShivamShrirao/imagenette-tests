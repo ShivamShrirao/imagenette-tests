{
  "nbformat": 4,
  "nbformat_minor": 0,
  "metadata": {
    "colab": {
      "name": "Tiny-Imagenet-test",
      "provenance": [],
      "collapsed_sections": [],
      "machine_shape": "hm"
    },
    "kernelspec": {
      "display_name": "Python 3",
      "name": "python3"
    },
    "accelerator": "GPU"
  },
  "cells": [
    {
      "cell_type": "code",
      "metadata": {
        "colab": {
          "base_uri": "https://localhost:8080/"
        },
        "id": "pJbYXou6chZf",
        "outputId": "14fc816d-5368-4f59-f453-bc244bb346fb"
      },
      "source": [
        "!nvidia-smi"
      ],
      "execution_count": 1,
      "outputs": [
        {
          "output_type": "stream",
          "text": [
            "Fri Feb 26 22:56:59 2021       \n",
            "+-----------------------------------------------------------------------------+\n",
            "| NVIDIA-SMI 460.39       Driver Version: 460.32.03    CUDA Version: 11.2     |\n",
            "|-------------------------------+----------------------+----------------------+\n",
            "| GPU  Name        Persistence-M| Bus-Id        Disp.A | Volatile Uncorr. ECC |\n",
            "| Fan  Temp  Perf  Pwr:Usage/Cap|         Memory-Usage | GPU-Util  Compute M. |\n",
            "|                               |                      |               MIG M. |\n",
            "|===============================+======================+======================|\n",
            "|   0  Tesla P100-PCIE...  Off  | 00000000:00:04.0 Off |                    0 |\n",
            "| N/A   41C    P0    27W / 250W |      0MiB / 16280MiB |      0%      Default |\n",
            "|                               |                      |                  N/A |\n",
            "+-------------------------------+----------------------+----------------------+\n",
            "                                                                               \n",
            "+-----------------------------------------------------------------------------+\n",
            "| Processes:                                                                  |\n",
            "|  GPU   GI   CI        PID   Type   Process name                  GPU Memory |\n",
            "|        ID   ID                                                   Usage      |\n",
            "|=============================================================================|\n",
            "|  No running processes found                                                 |\n",
            "+-----------------------------------------------------------------------------+\n"
          ],
          "name": "stdout"
        }
      ]
    },
    {
      "cell_type": "code",
      "metadata": {
        "colab": {
          "base_uri": "https://localhost:8080/"
        },
        "id": "VuLVd2r7HA9V",
        "outputId": "a85d30d5-2d27-4d3e-a089-f63d01b56149"
      },
      "source": [
        "%cd /content"
      ],
      "execution_count": 2,
      "outputs": [
        {
          "output_type": "stream",
          "text": [
            "/content\n"
          ],
          "name": "stdout"
        }
      ]
    },
    {
      "cell_type": "code",
      "metadata": {
        "id": "twOQl22KFY1n",
        "colab": {
          "base_uri": "https://localhost:8080/"
        },
        "outputId": "6060e318-e742-4ec0-b2f8-44d0ee9d6290"
      },
      "source": [
        "!wget http://cs231n.stanford.edu/tiny-imagenet-200.zip"
      ],
      "execution_count": 3,
      "outputs": [
        {
          "output_type": "stream",
          "text": [
            "--2021-02-26 22:57:00--  http://cs231n.stanford.edu/tiny-imagenet-200.zip\n",
            "Resolving cs231n.stanford.edu (cs231n.stanford.edu)... 171.64.68.10\n",
            "Connecting to cs231n.stanford.edu (cs231n.stanford.edu)|171.64.68.10|:80... connected.\n",
            "HTTP request sent, awaiting response... 200 OK\n",
            "Length: 248100043 (237M) [application/zip]\n",
            "Saving to: ‘tiny-imagenet-200.zip’\n",
            "\n",
            "tiny-imagenet-200.z 100%[===================>] 236.61M  44.1MB/s    in 6.7s    \n",
            "\n",
            "2021-02-26 22:57:07 (35.5 MB/s) - ‘tiny-imagenet-200.zip’ saved [248100043/248100043]\n",
            "\n"
          ],
          "name": "stdout"
        }
      ]
    },
    {
      "cell_type": "code",
      "metadata": {
        "id": "7wRBn4wJ4Dj1"
      },
      "source": [
        "!unzip -q tiny-imagenet-200.zip"
      ],
      "execution_count": 4,
      "outputs": []
    },
    {
      "cell_type": "code",
      "metadata": {
        "colab": {
          "base_uri": "https://localhost:8080/"
        },
        "id": "SfKlixMWcooW",
        "outputId": "10cc0f7c-762f-4838-8cb3-87ca9fcde59a"
      },
      "source": [
        "%pip install -q tensorflow-addons[tensorflow]\n",
        "%pip install -q wandb"
      ],
      "execution_count": 5,
      "outputs": [
        {
          "output_type": "stream",
          "text": [
            "\u001b[K     |████████████████████████████████| 706kB 6.9MB/s \n",
            "\u001b[K     |████████████████████████████████| 2.0MB 5.4MB/s \n",
            "\u001b[K     |████████████████████████████████| 102kB 9.1MB/s \n",
            "\u001b[K     |████████████████████████████████| 133kB 23.2MB/s \n",
            "\u001b[K     |████████████████████████████████| 163kB 24.3MB/s \n",
            "\u001b[K     |████████████████████████████████| 71kB 7.4MB/s \n",
            "\u001b[?25h  Building wheel for pathtools (setup.py) ... \u001b[?25l\u001b[?25hdone\n",
            "  Building wheel for subprocess32 (setup.py) ... \u001b[?25l\u001b[?25hdone\n"
          ],
          "name": "stdout"
        }
      ]
    },
    {
      "cell_type": "code",
      "metadata": {
        "colab": {
          "base_uri": "https://localhost:8080/"
        },
        "id": "G2F1iqzV4M8c",
        "outputId": "85d37fac-5b60-4549-cb44-d53d9584f375"
      },
      "source": [
        "!git clone https://github.com/ShivamShrirao/tiny-imagenet-test"
      ],
      "execution_count": 6,
      "outputs": [
        {
          "output_type": "stream",
          "text": [
            "Cloning into 'tiny-imagenet-test'...\n",
            "remote: Enumerating objects: 30, done.\u001b[K\n",
            "remote: Counting objects: 100% (30/30), done.\u001b[K\n",
            "remote: Compressing objects: 100% (22/22), done.\u001b[K\n",
            "remote: Total 30 (delta 11), reused 24 (delta 5), pack-reused 0\u001b[K\n",
            "Unpacking objects: 100% (30/30), done.\n"
          ],
          "name": "stdout"
        }
      ]
    },
    {
      "cell_type": "code",
      "metadata": {
        "colab": {
          "base_uri": "https://localhost:8080/"
        },
        "id": "1PjLOoEn4YJn",
        "outputId": "c99bcb63-dbab-4d72-9033-5ed9fcf2ef40"
      },
      "source": [
        "%cd tiny-imagenet-test"
      ],
      "execution_count": 7,
      "outputs": [
        {
          "output_type": "stream",
          "text": [
            "/content/tiny-imagenet-test\n"
          ],
          "name": "stdout"
        }
      ]
    },
    {
      "cell_type": "code",
      "metadata": {
        "id": "xBnheuYT6ctk"
      },
      "source": [
        "!git pull"
      ],
      "execution_count": null,
      "outputs": []
    },
    {
      "cell_type": "code",
      "metadata": {
        "id": "PdzeFNwL1V94"
      },
      "source": [
        "%load_ext autoreload\n",
        "%autoreload 2"
      ],
      "execution_count": 8,
      "outputs": []
    },
    {
      "cell_type": "code",
      "metadata": {
        "id": "axyqhY9PF96o"
      },
      "source": [
        "import tensorflow as tf\n",
        "from tensorflow.keras import layers\n",
        "import numpy as np\n",
        "import matplotlib.pyplot as plt\n",
        "import PIL.Image\n",
        "import glob\n",
        "import os\n",
        "import csv\n",
        "from tqdm.notebook import tqdm\n",
        "from time import time\n",
        "import random\n",
        "%matplotlib inline"
      ],
      "execution_count": 9,
      "outputs": []
    },
    {
      "cell_type": "code",
      "metadata": {
        "id": "ezIEhSfechfS"
      },
      "source": [
        "import tensorflow_addons as tfa"
      ],
      "execution_count": 10,
      "outputs": []
    },
    {
      "cell_type": "code",
      "metadata": {
        "id": "Fs5BiKqTGJsd"
      },
      "source": [
        "import wandb\n",
        "from wandb.keras import WandbCallback"
      ],
      "execution_count": 11,
      "outputs": []
    },
    {
      "cell_type": "code",
      "metadata": {
        "id": "pXklA82Nacy8"
      },
      "source": [
        "tf.keras.backend.set_image_data_format('channels_first')"
      ],
      "execution_count": 12,
      "outputs": []
    },
    {
      "cell_type": "code",
      "metadata": {
        "id": "KA-8kxs3F_Na",
        "colab": {
          "base_uri": "https://localhost:8080/"
        },
        "outputId": "0621b874-f1fd-4860-c6c1-a58d11c7824a"
      },
      "source": [
        "from tensorflow.keras.mixed_precision import experimental as mixed_precision\n",
        "policy = mixed_precision.Policy('mixed_float16')\n",
        "mixed_precision.set_policy(policy)"
      ],
      "execution_count": 13,
      "outputs": [
        {
          "output_type": "stream",
          "text": [
            "WARNING:tensorflow:Mixed precision compatibility check (mixed_float16): WARNING\n",
            "Your GPU may run slowly with dtype policy mixed_float16 because it does not have compute capability of at least 7.0. Your GPU:\n",
            "  Tesla P100-PCIE-16GB, compute capability 6.0\n",
            "See https://developer.nvidia.com/cuda-gpus for a list of GPUs and their compute capabilities.\n",
            "If you will use compatible GPU(s) not attached to this host, e.g. by running a multi-worker model, you can ignore this warning. This message will only be logged once\n",
            "WARNING:tensorflow:From /usr/local/lib/python3.7/dist-packages/tensorflow/python/keras/mixed_precision/loss_scale.py:56: DynamicLossScale.__init__ (from tensorflow.python.training.experimental.loss_scale) is deprecated and will be removed in a future version.\n",
            "Instructions for updating:\n",
            "Use tf.keras.mixed_precision.LossScaleOptimizer instead. LossScaleOptimizer now has all the functionality of DynamicLossScale\n"
          ],
          "name": "stdout"
        }
      ]
    },
    {
      "cell_type": "code",
      "metadata": {
        "id": "blVfKpHTIzAw"
      },
      "source": [
        "import preprocessing"
      ],
      "execution_count": 14,
      "outputs": []
    },
    {
      "cell_type": "code",
      "metadata": {
        "id": "0T3HHJJlExFr"
      },
      "source": [
        "preprocessing.img_height, preprocessing.img_width = 64, 64\n",
        "preprocessing.BATCH_SIZE = 512"
      ],
      "execution_count": 15,
      "outputs": []
    },
    {
      "cell_type": "code",
      "metadata": {
        "id": "TJR9YwMJUUaQ"
      },
      "source": [
        "# MOVE DATA LOADING TO FILES"
      ],
      "execution_count": 16,
      "outputs": []
    },
    {
      "cell_type": "code",
      "metadata": {
        "id": "N0V-TC4tOdzr"
      },
      "source": [
        "TRAIN_PATH = \"../tiny-imagenet-200/train/\"\n",
        "TEST_PATH = \"../tiny-imagenet-200/test/\"\n",
        "VAL_PATH = \"../tiny-imagenet-200/val/\""
      ],
      "execution_count": 17,
      "outputs": []
    },
    {
      "cell_type": "code",
      "metadata": {
        "id": "UZVuqDMKz9_F"
      },
      "source": [
        "AUTOTUNE = tf.data.AUTOTUNE"
      ],
      "execution_count": 18,
      "outputs": []
    },
    {
      "cell_type": "code",
      "metadata": {
        "id": "7k1gaCqwcPm3"
      },
      "source": [
        "preprocessing.class_names = np.array(sorted([fp.split('/')[-1] for fp in glob.glob(TRAIN_PATH+\"*\")]))"
      ],
      "execution_count": 19,
      "outputs": []
    },
    {
      "cell_type": "code",
      "metadata": {
        "id": "75V6qFuo99If"
      },
      "source": [
        "preprocessing.val_labels = {}\n",
        "with open(VAL_PATH+\"val_annotations.txt\") as fIn:\n",
        "    reader = csv.reader(fIn, delimiter='\\t')\n",
        "    for row in reader:\n",
        "        preprocessing.val_labels[row[0]] = row[1]"
      ],
      "execution_count": 20,
      "outputs": []
    },
    {
      "cell_type": "code",
      "metadata": {
        "id": "EOynOo4Rb2_I"
      },
      "source": [
        "train_list_ds = (\n",
        "    tf.data.Dataset.list_files(TRAIN_PATH+\"*/images/*\", shuffle=True)\n",
        "    .map(preprocessing.process_train_path, num_parallel_calls=AUTOTUNE)\n",
        "    .cache()\n",
        ")"
      ],
      "execution_count": 21,
      "outputs": []
    },
    {
      "cell_type": "code",
      "metadata": {
        "id": "HJ7QkS8T2Kg5"
      },
      "source": [
        "val_list_ds = (\n",
        "    tf.data.Dataset.list_files(VAL_PATH+\"images/*\")\n",
        "    .map(preprocessing.process_val_path, num_parallel_calls=AUTOTUNE)\n",
        "    .cache()\n",
        ")"
      ],
      "execution_count": 22,
      "outputs": []
    },
    {
      "cell_type": "code",
      "metadata": {
        "id": "_RFw_6JpFyNC"
      },
      "source": [
        "mean = []\n",
        "std = []\n",
        "for a,b in train_list_ds.take(1024):\n",
        "    mean.append(a.numpy())\n",
        "    std.append(a.numpy())\n",
        "mean = np.asarray(mean).mean(axis=(0,1,2)).reshape(1,3,1,1)\n",
        "std = np.asarray(std).std(axis=(0,1,2)).reshape(1,3,1,1)"
      ],
      "execution_count": 23,
      "outputs": []
    },
    {
      "cell_type": "code",
      "metadata": {
        "colab": {
          "base_uri": "https://localhost:8080/"
        },
        "id": "8Q4fgsU6G2im",
        "outputId": "93c0245c-6d9c-43fe-f9e3-b536cf34fb9f"
      },
      "source": [
        "mean.ravel(), std.ravel()"
      ],
      "execution_count": 24,
      "outputs": [
        {
          "output_type": "execute_result",
          "data": {
            "text/plain": [
              "(array([0.470968  , 0.44205904, 0.38082787], dtype=float32),\n",
              " array([0.27687606, 0.26806986, 0.27593207], dtype=float32))"
            ]
          },
          "metadata": {
            "tags": []
          },
          "execution_count": 24
        }
      ]
    },
    {
      "cell_type": "code",
      "metadata": {
        "id": "P2QO5jISLB-W"
      },
      "source": [
        "mean = tf.convert_to_tensor(mean)\n",
        "std = tf.convert_to_tensor(std)"
      ],
      "execution_count": 25,
      "outputs": []
    },
    {
      "cell_type": "code",
      "metadata": {
        "id": "3XCn8N8wa_e7"
      },
      "source": [
        "augmentation_layers = preprocessing.get_augmentation_layers()\n",
        "def augmentation_layers_wrapper(x, y):\n",
        "    with tf.device('/device:GPU:0'):\n",
        "        return augmentation_layers(x, training=True), y"
      ],
      "execution_count": 26,
      "outputs": []
    },
    {
      "cell_type": "code",
      "metadata": {
        "id": "5qlqkGeMt1kX"
      },
      "source": [
        "train_ds = (\n",
        "    train_list_ds\n",
        "    .batch(preprocessing.BATCH_SIZE)\n",
        "    .map(preprocessing.augment_wrapper, num_parallel_calls=AUTOTUNE)\n",
        "    .map(augmentation_layers_wrapper, num_parallel_calls=AUTOTUNE)\n",
        "    .map(lambda x, y: preprocessing.channel_first_and_normalize(x, y, mean, std), num_parallel_calls=AUTOTUNE)\n",
        "    .prefetch(AUTOTUNE)\n",
        ")"
      ],
      "execution_count": 27,
      "outputs": []
    },
    {
      "cell_type": "code",
      "metadata": {
        "id": "pn9eVO36Jk64"
      },
      "source": [
        "val_ds = (\n",
        "    val_list_ds\n",
        "    .batch(preprocessing.BATCH_SIZE)\n",
        "    .map(lambda x, y: preprocessing.channel_first_and_normalize(x, y, mean, std), num_parallel_calls=AUTOTUNE)\n",
        "    .prefetch(AUTOTUNE)\n",
        ")"
      ],
      "execution_count": 28,
      "outputs": []
    },
    {
      "cell_type": "code",
      "metadata": {
        "colab": {
          "base_uri": "https://localhost:8080/"
        },
        "id": "DBSmxgPeMxNf",
        "outputId": "5a4a7bc3-bff7-427a-f2bd-c671a3c3a73c"
      },
      "source": [
        "a, b = next(iter(train_ds))\n",
        "a.shape"
      ],
      "execution_count": 29,
      "outputs": [
        {
          "output_type": "execute_result",
          "data": {
            "text/plain": [
              "TensorShape([512, 3, 64, 64])"
            ]
          },
          "metadata": {
            "tags": []
          },
          "execution_count": 29
        }
      ]
    },
    {
      "cell_type": "code",
      "metadata": {
        "colab": {
          "base_uri": "https://localhost:8080/",
          "height": 35
        },
        "id": "ZB4ZTQxbMxI1",
        "outputId": "782a883d-4682-4f8d-d5a7-163685e260bc"
      },
      "source": [
        "idx = np.random.randint(0,128)\n",
        "x = a.numpy()[idx]\n",
        "z = (x-x.min())/(x.max()-x.min())\n",
        "z = z.transpose(1,2,0)\n",
        "preprocessing.class_names[b[idx]]"
      ],
      "execution_count": 30,
      "outputs": [
        {
          "output_type": "execute_result",
          "data": {
            "application/vnd.google.colaboratory.intrinsic+json": {
              "type": "string"
            },
            "text/plain": [
              "'n02094433'"
            ]
          },
          "metadata": {
            "tags": []
          },
          "execution_count": 30
        }
      ]
    },
    {
      "cell_type": "code",
      "metadata": {
        "id": "ERq3KyCzfIAi",
        "colab": {
          "base_uri": "https://localhost:8080/",
          "height": 81
        },
        "outputId": "39973dd2-259b-4407-84fa-1e5176a80dc4"
      },
      "source": [
        "PIL.Image.fromarray((z*255).astype(np.uint8))"
      ],
      "execution_count": 31,
      "outputs": [
        {
          "output_type": "execute_result",
          "data": {
            "image/png": "[encoded data removed]",
            "text/plain": [
              "<PIL.Image.Image image mode=RGB size=64x64 at 0x7FB41F72E950>"
            ]
          },
          "metadata": {
            "tags": []
          },
          "execution_count": 31
        }
      ]
    },
    {
      "cell_type": "code",
      "metadata": {
        "id": "ieZR_Zwq5fZE"
      },
      "source": [
        "class AttributeDict(dict):\n",
        "    __slots__ = () \n",
        "    __getattr__ = dict.__getitem__\n",
        "    __setattr__ = dict.__setitem__"
      ],
      "execution_count": 32,
      "outputs": []
    },
    {
      "cell_type": "code",
      "metadata": {
        "id": "AtNLrP0hGJzm",
        "colab": {
          "base_uri": "https://localhost:8080/",
          "height": 68
        },
        "outputId": "4a380f07-fa43-464f-bdf5-6aaa2e482643"
      },
      "source": [
        "wandb.login()"
      ],
      "execution_count": 33,
      "outputs": [
        {
          "output_type": "display_data",
          "data": {
            "application/javascript": [
              "\n",
              "        window._wandbApiKey = new Promise((resolve, reject) => {\n",
              "            function loadScript(url) {\n",
              "            return new Promise(function(resolve, reject) {\n",
              "                let newScript = document.createElement(\"script\");\n",
              "                newScript.onerror = reject;\n",
              "                newScript.onload = resolve;\n",
              "                document.body.appendChild(newScript);\n",
              "                newScript.src = url;\n",
              "            });\n",
              "            }\n",
              "            loadScript(\"https://cdn.jsdelivr.net/npm/postmate/build/postmate.min.js\").then(() => {\n",
              "            const iframe = document.createElement('iframe')\n",
              "            iframe.style.cssText = \"width:0;height:0;border:none\"\n",
              "            document.body.appendChild(iframe)\n",
              "            const handshake = new Postmate({\n",
              "                container: iframe,\n",
              "                url: 'https://wandb.ai/authorize'\n",
              "            });\n",
              "            const timeout = setTimeout(() => reject(\"Couldn't auto authenticate\"), 5000)\n",
              "            handshake.then(function(child) {\n",
              "                child.on('authorize', data => {\n",
              "                    clearTimeout(timeout)\n",
              "                    resolve(data)\n",
              "                });\n",
              "            });\n",
              "            })\n",
              "        });\n",
              "    "
            ],
            "text/plain": [
              "<IPython.core.display.Javascript object>"
            ]
          },
          "metadata": {
            "tags": []
          }
        },
        {
          "output_type": "stream",
          "text": [
            "\u001b[34m\u001b[1mwandb\u001b[0m: Appending key for api.wandb.ai to your netrc file: /root/.netrc\n"
          ],
          "name": "stderr"
        },
        {
          "output_type": "execute_result",
          "data": {
            "text/plain": [
              "True"
            ]
          },
          "metadata": {
            "tags": []
          },
          "execution_count": 33
        }
      ]
    },
    {
      "cell_type": "code",
      "metadata": {
        "id": "IKexFaR-GJ6A"
      },
      "source": [
        "config_defaults = {\n",
        "    'activation'            : 'relu',\n",
        "    'dp_rate'               : 0.25,\n",
        "    'batch_size'            : preprocessing.BATCH_SIZE,\n",
        "    'norm'                  : 'bn',\n",
        "    'self_attn'             : True,\n",
        "    'frac_dk'               : 0.5,\n",
        "    'frac_dv'               : 0.25,\n",
        "    'pos_emb'               : True,\n",
        "    'optimizer'             : 'adamw',\n",
        "    'lr_type'               : 'clr',\n",
        "    'min_lr'                : 1e-4,\n",
        "    'max_lr'                : 1e-3,\n",
        "    'weight_decay'          : 2e-5,     #maximum\n",
        "    'vary_weight_decay'     : True,\n",
        "    'clr_step_size'         : 8,\n",
        "    'loss_function'         : 'cce',\n",
        "}"
      ],
      "execution_count": 34,
      "outputs": []
    },
    {
      "cell_type": "code",
      "metadata": {
        "id": "OXAKFpPqGJ_e",
        "colab": {
          "base_uri": "https://localhost:8080/",
          "height": 136
        },
        "outputId": "c5a3645d-7086-4b44-aaa8-b279dff1efaf"
      },
      "source": [
        "run = wandb.init(project=\"tiny-imagenet-test\", entity=\"shivamshrirao\", config=config_defaults)\n",
        "CONFIG = wandb.config"
      ],
      "execution_count": 35,
      "outputs": [
        {
          "output_type": "stream",
          "text": [
            "\u001b[34m\u001b[1mwandb\u001b[0m: Currently logged in as: \u001b[33mshivamshrirao\u001b[0m (use `wandb login --relogin` to force relogin)\n"
          ],
          "name": "stderr"
        },
        {
          "output_type": "display_data",
          "data": {
            "text/html": [
              "\n",
              "                Tracking run with wandb version 0.10.20<br/>\n",
              "                Syncing run <strong style=\"color:#cdcd00\">lilac-feather-1</strong> to <a href=\"https://wandb.ai\" target=\"_blank\">Weights & Biases</a> <a href=\"https://docs.wandb.com/integrations/jupyter.html\" target=\"_blank\">(Documentation)</a>.<br/>\n",
              "                Project page: <a href=\"https://wandb.ai/shivamshrirao/tiny-imagenet-test\" target=\"_blank\">https://wandb.ai/shivamshrirao/tiny-imagenet-test</a><br/>\n",
              "                Run page: <a href=\"https://wandb.ai/shivamshrirao/tiny-imagenet-test/runs/2eoz9auq\" target=\"_blank\">https://wandb.ai/shivamshrirao/tiny-imagenet-test/runs/2eoz9auq</a><br/>\n",
              "                Run data is saved locally in <code>/content/tiny-imagenet-test/wandb/run-20210226_225748-2eoz9auq</code><br/><br/>\n",
              "            "
            ],
            "text/plain": [
              "<IPython.core.display.HTML object>"
            ]
          },
          "metadata": {
            "tags": []
          }
        }
      ]
    },
    {
      "cell_type": "code",
      "metadata": {
        "id": "bTdSfqgL52JZ"
      },
      "source": [
        "# CONFIG = AttributeDict(config_defaults)"
      ],
      "execution_count": 36,
      "outputs": []
    },
    {
      "cell_type": "code",
      "metadata": {
        "id": "SgMX_ZXm4JPO"
      },
      "source": [
        "import conv_utils"
      ],
      "execution_count": 37,
      "outputs": []
    },
    {
      "cell_type": "code",
      "metadata": {
        "id": "aPugCFtx4JMp"
      },
      "source": [
        "conv_utils.CONFIG = CONFIG"
      ],
      "execution_count": 38,
      "outputs": []
    },
    {
      "cell_type": "code",
      "metadata": {
        "id": "lchAuU1s4JKO"
      },
      "source": [
        "inp = layers.Input(shape=(3,preprocessing.img_height, preprocessing.img_width))"
      ],
      "execution_count": 44,
      "outputs": []
    },
    {
      "cell_type": "code",
      "metadata": {
        "id": "n06t0Tyt78g1"
      },
      "source": [
        "x = conv_utils.conv_norm(inp, 16, kernel_size=5, strides=1, activation=CONFIG.activation)\n",
        "x = conv_utils.conv_norm(x, 64, kernel_size=3, strides=2, activation=CONFIG.activation,\n",
        "                    do_norm_act=False)"
      ],
      "execution_count": 45,
      "outputs": []
    },
    {
      "cell_type": "code",
      "metadata": {
        "id": "n1JHkNIt4JIH"
      },
      "source": [
        "x = conv_utils.down_stack(x, fltrs=[16, 32, 32], self_attn=False, dp_rate=CONFIG.dp_rate)   # (128, 16, 16)\n",
        "x = conv_utils.down_stack(x, fltrs=[32, 64, 64], self_attn=[False, True, True], dp_rate=CONFIG.dp_rate)   # (256, 8, 8)\n",
        "x = conv_utils.down_stack(x, fltrs=[64,128,128], self_attn=True, dp_rate=CONFIG.dp_rate)   # (512, 4, 4)"
      ],
      "execution_count": 46,
      "outputs": []
    },
    {
      "cell_type": "code",
      "metadata": {
        "id": "q7kCNvw4D-bk"
      },
      "source": [
        "x = conv_utils.conv_norm(x, 1024, kernel_size=3, strides=1, activation=CONFIG.activation)\n",
        "x = layers.GlobalAveragePooling2D(data_format=\"channels_first\")(x)\n",
        "if CONFIG.dp_rate:\n",
        "    x = layers.Dropout(CONFIG.dp_rate)(x)\n",
        "x = layers.Dense(len(preprocessing.class_names))(x)\n",
        "x = layers.Softmax(axis=1)(x)"
      ],
      "execution_count": 47,
      "outputs": []
    },
    {
      "cell_type": "code",
      "metadata": {
        "colab": {
          "base_uri": "https://localhost:8080/"
        },
        "id": "Dw9aIc5c4JFQ",
        "outputId": "febd61ce-d84f-4b7e-f8d3-3beaf1c7dfcf"
      },
      "source": [
        "model = tf.keras.Model(inputs=inp, outputs=x)\n",
        "model.summary()"
      ],
      "execution_count": 48,
      "outputs": [
        {
          "output_type": "stream",
          "text": [
            "Model: \"model_1\"\n",
            "__________________________________________________________________________________________________\n",
            "Layer (type)                    Output Shape         Param #     Connected to                     \n",
            "==================================================================================================\n",
            "input_2 (InputLayer)            [(None, 3, 64, 64)]  0                                            \n",
            "__________________________________________________________________________________________________\n",
            "conv2d_46 (Conv2D)              (None, 16, 64, 64)   1216        input_2[0][0]                    \n",
            "__________________________________________________________________________________________________\n",
            "batch_normalization_29 (BatchNo (None, 16, 64, 64)   64          conv2d_46[0][0]                  \n",
            "__________________________________________________________________________________________________\n",
            "activation_29 (Activation)      (None, 16, 64, 64)   0           batch_normalization_29[0][0]     \n",
            "__________________________________________________________________________________________________\n",
            "conv2d_47 (Conv2D)              (None, 64, 32, 32)   9280        activation_29[0][0]              \n",
            "__________________________________________________________________________________________________\n",
            "batch_normalization_30 (BatchNo (None, 64, 32, 32)   256         conv2d_47[0][0]                  \n",
            "__________________________________________________________________________________________________\n",
            "activation_30 (Activation)      (None, 64, 32, 32)   0           batch_normalization_30[0][0]     \n",
            "__________________________________________________________________________________________________\n",
            "conv2d_48 (Conv2D)              (None, 16, 32, 32)   1040        activation_30[0][0]              \n",
            "__________________________________________________________________________________________________\n",
            "batch_normalization_31 (BatchNo (None, 16, 32, 32)   64          conv2d_48[0][0]                  \n",
            "__________________________________________________________________________________________________\n",
            "activation_31 (Activation)      (None, 16, 32, 32)   0           batch_normalization_31[0][0]     \n",
            "__________________________________________________________________________________________________\n",
            "conv2d_49 (Conv2D)              (None, 16, 16, 16)   2320        activation_31[0][0]              \n",
            "__________________________________________________________________________________________________\n",
            "batch_normalization_32 (BatchNo (None, 16, 16, 16)   64          conv2d_49[0][0]                  \n",
            "__________________________________________________________________________________________________\n",
            "activation_32 (Activation)      (None, 16, 16, 16)   0           batch_normalization_32[0][0]     \n",
            "__________________________________________________________________________________________________\n",
            "conv2d_50 (Conv2D)              (None, 64, 16, 16)   1088        activation_32[0][0]              \n",
            "__________________________________________________________________________________________________\n",
            "squeeze_attention2d_9 (SqueezeA (None, 64, 16, 16)   2128        conv2d_50[0][0]                  \n",
            "__________________________________________________________________________________________________\n",
            "max_pooling2d_3 (MaxPooling2D)  (None, 64, 16, 16)   0           conv2d_47[0][0]                  \n",
            "__________________________________________________________________________________________________\n",
            "dropout_10 (Dropout)            (None, 64, 16, 16)   0           squeeze_attention2d_9[0][0]      \n",
            "__________________________________________________________________________________________________\n",
            "add_9 (Add)                     (None, 64, 16, 16)   0           max_pooling2d_3[0][0]            \n",
            "                                                                 dropout_10[0][0]                 \n",
            "__________________________________________________________________________________________________\n",
            "batch_normalization_33 (BatchNo (None, 64, 16, 16)   256         add_9[0][0]                      \n",
            "__________________________________________________________________________________________________\n",
            "activation_33 (Activation)      (None, 64, 16, 16)   0           batch_normalization_33[0][0]     \n",
            "__________________________________________________________________________________________________\n",
            "conv2d_52 (Conv2D)              (None, 32, 16, 16)   2080        activation_33[0][0]              \n",
            "__________________________________________________________________________________________________\n",
            "batch_normalization_34 (BatchNo (None, 32, 16, 16)   128         conv2d_52[0][0]                  \n",
            "__________________________________________________________________________________________________\n",
            "activation_34 (Activation)      (None, 32, 16, 16)   0           batch_normalization_34[0][0]     \n",
            "__________________________________________________________________________________________________\n",
            "conv2d_53 (Conv2D)              (None, 32, 16, 16)   9248        activation_34[0][0]              \n",
            "__________________________________________________________________________________________________\n",
            "batch_normalization_35 (BatchNo (None, 32, 16, 16)   128         conv2d_53[0][0]                  \n",
            "__________________________________________________________________________________________________\n",
            "activation_35 (Activation)      (None, 32, 16, 16)   0           batch_normalization_35[0][0]     \n",
            "__________________________________________________________________________________________________\n",
            "conv2d_54 (Conv2D)              (None, 128, 16, 16)  4224        activation_35[0][0]              \n",
            "__________________________________________________________________________________________________\n",
            "squeeze_attention2d_10 (Squeeze (None, 128, 16, 16)  8352        conv2d_54[0][0]                  \n",
            "__________________________________________________________________________________________________\n",
            "conv2d_51 (Conv2D)              (None, 128, 16, 16)  8320        activation_33[0][0]              \n",
            "__________________________________________________________________________________________________\n",
            "dropout_11 (Dropout)            (None, 128, 16, 16)  0           squeeze_attention2d_10[0][0]     \n",
            "__________________________________________________________________________________________________\n",
            "add_10 (Add)                    (None, 128, 16, 16)  0           conv2d_51[0][0]                  \n",
            "                                                                 dropout_11[0][0]                 \n",
            "__________________________________________________________________________________________________\n",
            "batch_normalization_36 (BatchNo (None, 128, 16, 16)  512         add_10[0][0]                     \n",
            "__________________________________________________________________________________________________\n",
            "activation_36 (Activation)      (None, 128, 16, 16)  0           batch_normalization_36[0][0]     \n",
            "__________________________________________________________________________________________________\n",
            "conv2d_56 (Conv2D)              (None, 32, 16, 16)   4128        activation_36[0][0]              \n",
            "__________________________________________________________________________________________________\n",
            "batch_normalization_37 (BatchNo (None, 32, 16, 16)   128         conv2d_56[0][0]                  \n",
            "__________________________________________________________________________________________________\n",
            "activation_37 (Activation)      (None, 32, 16, 16)   0           batch_normalization_37[0][0]     \n",
            "__________________________________________________________________________________________________\n",
            "conv2d_57 (Conv2D)              (None, 32, 16, 16)   9248        activation_37[0][0]              \n",
            "__________________________________________________________________________________________________\n",
            "batch_normalization_38 (BatchNo (None, 32, 16, 16)   128         conv2d_57[0][0]                  \n",
            "__________________________________________________________________________________________________\n",
            "activation_38 (Activation)      (None, 32, 16, 16)   0           batch_normalization_38[0][0]     \n",
            "__________________________________________________________________________________________________\n",
            "conv2d_58 (Conv2D)              (None, 128, 16, 16)  4224        activation_38[0][0]              \n",
            "__________________________________________________________________________________________________\n",
            "squeeze_attention2d_11 (Squeeze (None, 128, 16, 16)  8352        conv2d_58[0][0]                  \n",
            "__________________________________________________________________________________________________\n",
            "conv2d_55 (Conv2D)              (None, 128, 16, 16)  16512       activation_36[0][0]              \n",
            "__________________________________________________________________________________________________\n",
            "dropout_12 (Dropout)            (None, 128, 16, 16)  0           squeeze_attention2d_11[0][0]     \n",
            "__________________________________________________________________________________________________\n",
            "add_11 (Add)                    (None, 128, 16, 16)  0           conv2d_55[0][0]                  \n",
            "                                                                 dropout_12[0][0]                 \n",
            "__________________________________________________________________________________________________\n",
            "batch_normalization_39 (BatchNo (None, 128, 16, 16)  512         add_11[0][0]                     \n",
            "__________________________________________________________________________________________________\n",
            "activation_39 (Activation)      (None, 128, 16, 16)  0           batch_normalization_39[0][0]     \n",
            "__________________________________________________________________________________________________\n",
            "conv2d_59 (Conv2D)              (None, 32, 16, 16)   4128        activation_39[0][0]              \n",
            "__________________________________________________________________________________________________\n",
            "batch_normalization_40 (BatchNo (None, 32, 16, 16)   128         conv2d_59[0][0]                  \n",
            "__________________________________________________________________________________________________\n",
            "activation_40 (Activation)      (None, 32, 16, 16)   0           batch_normalization_40[0][0]     \n",
            "__________________________________________________________________________________________________\n",
            "conv2d_60 (Conv2D)              (None, 32, 8, 8)     9248        activation_40[0][0]              \n",
            "__________________________________________________________________________________________________\n",
            "batch_normalization_41 (BatchNo (None, 32, 8, 8)     128         conv2d_60[0][0]                  \n",
            "__________________________________________________________________________________________________\n",
            "activation_41 (Activation)      (None, 32, 8, 8)     0           batch_normalization_41[0][0]     \n",
            "__________________________________________________________________________________________________\n",
            "conv2d_61 (Conv2D)              (None, 128, 8, 8)    4224        activation_41[0][0]              \n",
            "__________________________________________________________________________________________________\n",
            "squeeze_attention2d_12 (Squeeze (None, 128, 8, 8)    8352        conv2d_61[0][0]                  \n",
            "__________________________________________________________________________________________________\n",
            "max_pooling2d_4 (MaxPooling2D)  (None, 128, 8, 8)    0           add_11[0][0]                     \n",
            "__________________________________________________________________________________________________\n",
            "dropout_13 (Dropout)            (None, 128, 8, 8)    0           squeeze_attention2d_12[0][0]     \n",
            "__________________________________________________________________________________________________\n",
            "add_12 (Add)                    (None, 128, 8, 8)    0           max_pooling2d_4[0][0]            \n",
            "                                                                 dropout_13[0][0]                 \n",
            "__________________________________________________________________________________________________\n",
            "batch_normalization_42 (BatchNo (None, 128, 8, 8)    512         add_12[0][0]                     \n",
            "__________________________________________________________________________________________________\n",
            "activation_42 (Activation)      (None, 128, 8, 8)    0           batch_normalization_42[0][0]     \n",
            "__________________________________________________________________________________________________\n",
            "conv2d_63 (Conv2D)              (None, 64, 8, 8)     8256        activation_42[0][0]              \n",
            "__________________________________________________________________________________________________\n",
            "batch_normalization_43 (BatchNo (None, 64, 8, 8)     256         conv2d_63[0][0]                  \n",
            "__________________________________________________________________________________________________\n",
            "activation_43 (Activation)      (None, 64, 8, 8)     0           batch_normalization_43[0][0]     \n",
            "__________________________________________________________________________________________________\n",
            "conv2d_65 (Conv2D)              (None, 80, 8, 8)     5200        activation_43[0][0]              \n",
            "__________________________________________________________________________________________________\n",
            "tf.split_5 (TFOpLambda)         [(None, 32, 8, 8), ( 0           conv2d_65[0][0]                  \n",
            "__________________________________________________________________________________________________\n",
            "lambda_5 (Lambda)               (None, 32, 8, 8)     0           tf.split_5[0][1]                 \n",
            "__________________________________________________________________________________________________\n",
            "reshape_20 (Reshape)            (None, 8, 4, 64)     0           tf.split_5[0][0]                 \n",
            "__________________________________________________________________________________________________\n",
            "reshape_21 (Reshape)            (None, 8, 4, 64)     0           lambda_5[0][0]                   \n",
            "__________________________________________________________________________________________________\n",
            "mat_mul_layer_10 (MatMulLayer)  (None, 8, 64, 64)    0           reshape_20[0][0]                 \n",
            "                                                                 reshape_21[0][0]                 \n",
            "__________________________________________________________________________________________________\n",
            "add_positional_embeddings_5 (Ad (None, 8, 64, 64)    128         mat_mul_layer_10[0][0]           \n",
            "__________________________________________________________________________________________________\n",
            "reshape_22 (Reshape)            (None, 8, 2, 64)     0           tf.split_5[0][2]                 \n",
            "__________________________________________________________________________________________________\n",
            "softmax_6 (Softmax)             (None, 8, 64, 64)    0           add_positional_embeddings_5[0][0]\n",
            "__________________________________________________________________________________________________\n",
            "mat_mul_layer_11 (MatMulLayer)  (None, 8, 2, 64)     0           reshape_22[0][0]                 \n",
            "                                                                 softmax_6[0][0]                  \n",
            "__________________________________________________________________________________________________\n",
            "reshape_23 (Reshape)            (None, 16, 8, 8)     0           mat_mul_layer_11[0][0]           \n",
            "__________________________________________________________________________________________________\n",
            "conv2d_66 (Conv2D)              (None, 16, 8, 8)     272         reshape_23[0][0]                 \n",
            "__________________________________________________________________________________________________\n",
            "conv2d_64 (Conv2D)              (None, 48, 8, 8)     27696       activation_43[0][0]              \n",
            "__________________________________________________________________________________________________\n",
            "concatenate_5 (Concatenate)     (None, 64, 8, 8)     0           conv2d_66[0][0]                  \n",
            "                                                                 conv2d_64[0][0]                  \n",
            "__________________________________________________________________________________________________\n",
            "batch_normalization_44 (BatchNo (None, 64, 8, 8)     256         concatenate_5[0][0]              \n",
            "__________________________________________________________________________________________________\n",
            "activation_44 (Activation)      (None, 64, 8, 8)     0           batch_normalization_44[0][0]     \n",
            "__________________________________________________________________________________________________\n",
            "conv2d_67 (Conv2D)              (None, 256, 8, 8)    16640       activation_44[0][0]              \n",
            "__________________________________________________________________________________________________\n",
            "squeeze_attention2d_13 (Squeeze (None, 256, 8, 8)    33088       conv2d_67[0][0]                  \n",
            "__________________________________________________________________________________________________\n",
            "conv2d_62 (Conv2D)              (None, 256, 8, 8)    33024       activation_42[0][0]              \n",
            "__________________________________________________________________________________________________\n",
            "dropout_14 (Dropout)            (None, 256, 8, 8)    0           squeeze_attention2d_13[0][0]     \n",
            "__________________________________________________________________________________________________\n",
            "add_13 (Add)                    (None, 256, 8, 8)    0           conv2d_62[0][0]                  \n",
            "                                                                 dropout_14[0][0]                 \n",
            "__________________________________________________________________________________________________\n",
            "batch_normalization_45 (BatchNo (None, 256, 8, 8)    1024        add_13[0][0]                     \n",
            "__________________________________________________________________________________________________\n",
            "activation_45 (Activation)      (None, 256, 8, 8)    0           batch_normalization_45[0][0]     \n",
            "__________________________________________________________________________________________________\n",
            "conv2d_69 (Conv2D)              (None, 64, 8, 8)     16448       activation_45[0][0]              \n",
            "__________________________________________________________________________________________________\n",
            "batch_normalization_46 (BatchNo (None, 64, 8, 8)     256         conv2d_69[0][0]                  \n",
            "__________________________________________________________________________________________________\n",
            "activation_46 (Activation)      (None, 64, 8, 8)     0           batch_normalization_46[0][0]     \n",
            "__________________________________________________________________________________________________\n",
            "conv2d_71 (Conv2D)              (None, 80, 8, 8)     5200        activation_46[0][0]              \n",
            "__________________________________________________________________________________________________\n",
            "tf.split_6 (TFOpLambda)         [(None, 32, 8, 8), ( 0           conv2d_71[0][0]                  \n",
            "__________________________________________________________________________________________________\n",
            "lambda_6 (Lambda)               (None, 32, 8, 8)     0           tf.split_6[0][1]                 \n",
            "__________________________________________________________________________________________________\n",
            "reshape_24 (Reshape)            (None, 8, 4, 64)     0           tf.split_6[0][0]                 \n",
            "__________________________________________________________________________________________________\n",
            "reshape_25 (Reshape)            (None, 8, 4, 64)     0           lambda_6[0][0]                   \n",
            "__________________________________________________________________________________________________\n",
            "mat_mul_layer_12 (MatMulLayer)  (None, 8, 64, 64)    0           reshape_24[0][0]                 \n",
            "                                                                 reshape_25[0][0]                 \n",
            "__________________________________________________________________________________________________\n",
            "add_positional_embeddings_6 (Ad (None, 8, 64, 64)    128         mat_mul_layer_12[0][0]           \n",
            "__________________________________________________________________________________________________\n",
            "reshape_26 (Reshape)            (None, 8, 2, 64)     0           tf.split_6[0][2]                 \n",
            "__________________________________________________________________________________________________\n",
            "softmax_7 (Softmax)             (None, 8, 64, 64)    0           add_positional_embeddings_6[0][0]\n",
            "__________________________________________________________________________________________________\n",
            "mat_mul_layer_13 (MatMulLayer)  (None, 8, 2, 64)     0           reshape_26[0][0]                 \n",
            "                                                                 softmax_7[0][0]                  \n",
            "__________________________________________________________________________________________________\n",
            "reshape_27 (Reshape)            (None, 16, 8, 8)     0           mat_mul_layer_13[0][0]           \n",
            "__________________________________________________________________________________________________\n",
            "conv2d_72 (Conv2D)              (None, 16, 8, 8)     272         reshape_27[0][0]                 \n",
            "__________________________________________________________________________________________________\n",
            "conv2d_70 (Conv2D)              (None, 48, 8, 8)     27696       activation_46[0][0]              \n",
            "__________________________________________________________________________________________________\n",
            "concatenate_6 (Concatenate)     (None, 64, 8, 8)     0           conv2d_72[0][0]                  \n",
            "                                                                 conv2d_70[0][0]                  \n",
            "__________________________________________________________________________________________________\n",
            "batch_normalization_47 (BatchNo (None, 64, 8, 8)     256         concatenate_6[0][0]              \n",
            "__________________________________________________________________________________________________\n",
            "activation_47 (Activation)      (None, 64, 8, 8)     0           batch_normalization_47[0][0]     \n",
            "__________________________________________________________________________________________________\n",
            "conv2d_73 (Conv2D)              (None, 256, 8, 8)    16640       activation_47[0][0]              \n",
            "__________________________________________________________________________________________________\n",
            "squeeze_attention2d_14 (Squeeze (None, 256, 8, 8)    33088       conv2d_73[0][0]                  \n",
            "__________________________________________________________________________________________________\n",
            "conv2d_68 (Conv2D)              (None, 256, 8, 8)    65792       activation_45[0][0]              \n",
            "__________________________________________________________________________________________________\n",
            "dropout_15 (Dropout)            (None, 256, 8, 8)    0           squeeze_attention2d_14[0][0]     \n",
            "__________________________________________________________________________________________________\n",
            "add_14 (Add)                    (None, 256, 8, 8)    0           conv2d_68[0][0]                  \n",
            "                                                                 dropout_15[0][0]                 \n",
            "__________________________________________________________________________________________________\n",
            "batch_normalization_48 (BatchNo (None, 256, 8, 8)    1024        add_14[0][0]                     \n",
            "__________________________________________________________________________________________________\n",
            "activation_48 (Activation)      (None, 256, 8, 8)    0           batch_normalization_48[0][0]     \n",
            "__________________________________________________________________________________________________\n",
            "conv2d_74 (Conv2D)              (None, 64, 8, 8)     16448       activation_48[0][0]              \n",
            "__________________________________________________________________________________________________\n",
            "batch_normalization_49 (BatchNo (None, 64, 8, 8)     256         conv2d_74[0][0]                  \n",
            "__________________________________________________________________________________________________\n",
            "activation_49 (Activation)      (None, 64, 8, 8)     0           batch_normalization_49[0][0]     \n",
            "__________________________________________________________________________________________________\n",
            "average_pooling2d_1 (AveragePoo (None, 64, 4, 4)     0           activation_49[0][0]              \n",
            "__________________________________________________________________________________________________\n",
            "conv2d_76 (Conv2D)              (None, 80, 4, 4)     5200        average_pooling2d_1[0][0]        \n",
            "__________________________________________________________________________________________________\n",
            "tf.split_7 (TFOpLambda)         [(None, 32, 4, 4), ( 0           conv2d_76[0][0]                  \n",
            "__________________________________________________________________________________________________\n",
            "lambda_7 (Lambda)               (None, 32, 4, 4)     0           tf.split_7[0][1]                 \n",
            "__________________________________________________________________________________________________\n",
            "reshape_28 (Reshape)            (None, 8, 4, 16)     0           tf.split_7[0][0]                 \n",
            "__________________________________________________________________________________________________\n",
            "reshape_29 (Reshape)            (None, 8, 4, 16)     0           lambda_7[0][0]                   \n",
            "__________________________________________________________________________________________________\n",
            "mat_mul_layer_14 (MatMulLayer)  (None, 8, 16, 16)    0           reshape_28[0][0]                 \n",
            "                                                                 reshape_29[0][0]                 \n",
            "__________________________________________________________________________________________________\n",
            "add_positional_embeddings_7 (Ad (None, 8, 16, 16)    32          mat_mul_layer_14[0][0]           \n",
            "__________________________________________________________________________________________________\n",
            "reshape_30 (Reshape)            (None, 8, 2, 16)     0           tf.split_7[0][2]                 \n",
            "__________________________________________________________________________________________________\n",
            "softmax_8 (Softmax)             (None, 8, 16, 16)    0           add_positional_embeddings_7[0][0]\n",
            "__________________________________________________________________________________________________\n",
            "mat_mul_layer_15 (MatMulLayer)  (None, 8, 2, 16)     0           reshape_30[0][0]                 \n",
            "                                                                 softmax_8[0][0]                  \n",
            "__________________________________________________________________________________________________\n",
            "reshape_31 (Reshape)            (None, 16, 4, 4)     0           mat_mul_layer_15[0][0]           \n",
            "__________________________________________________________________________________________________\n",
            "conv2d_77 (Conv2D)              (None, 16, 4, 4)     272         reshape_31[0][0]                 \n",
            "__________________________________________________________________________________________________\n",
            "conv2d_75 (Conv2D)              (None, 48, 4, 4)     27696       activation_49[0][0]              \n",
            "__________________________________________________________________________________________________\n",
            "concatenate_7 (Concatenate)     (None, 64, 4, 4)     0           conv2d_77[0][0]                  \n",
            "                                                                 conv2d_75[0][0]                  \n",
            "__________________________________________________________________________________________________\n",
            "batch_normalization_50 (BatchNo (None, 64, 4, 4)     256         concatenate_7[0][0]              \n",
            "__________________________________________________________________________________________________\n",
            "activation_50 (Activation)      (None, 64, 4, 4)     0           batch_normalization_50[0][0]     \n",
            "__________________________________________________________________________________________________\n",
            "conv2d_78 (Conv2D)              (None, 256, 4, 4)    16640       activation_50[0][0]              \n",
            "__________________________________________________________________________________________________\n",
            "squeeze_attention2d_15 (Squeeze (None, 256, 4, 4)    33088       conv2d_78[0][0]                  \n",
            "__________________________________________________________________________________________________\n",
            "max_pooling2d_5 (MaxPooling2D)  (None, 256, 4, 4)    0           add_14[0][0]                     \n",
            "__________________________________________________________________________________________________\n",
            "dropout_16 (Dropout)            (None, 256, 4, 4)    0           squeeze_attention2d_15[0][0]     \n",
            "__________________________________________________________________________________________________\n",
            "add_15 (Add)                    (None, 256, 4, 4)    0           max_pooling2d_5[0][0]            \n",
            "                                                                 dropout_16[0][0]                 \n",
            "__________________________________________________________________________________________________\n",
            "batch_normalization_51 (BatchNo (None, 256, 4, 4)    1024        add_15[0][0]                     \n",
            "__________________________________________________________________________________________________\n",
            "activation_51 (Activation)      (None, 256, 4, 4)    0           batch_normalization_51[0][0]     \n",
            "__________________________________________________________________________________________________\n",
            "conv2d_80 (Conv2D)              (None, 128, 4, 4)    32896       activation_51[0][0]              \n",
            "__________________________________________________________________________________________________\n",
            "batch_normalization_52 (BatchNo (None, 128, 4, 4)    512         conv2d_80[0][0]                  \n",
            "__________________________________________________________________________________________________\n",
            "activation_52 (Activation)      (None, 128, 4, 4)    0           batch_normalization_52[0][0]     \n",
            "__________________________________________________________________________________________________\n",
            "conv2d_82 (Conv2D)              (None, 160, 4, 4)    20640       activation_52[0][0]              \n",
            "__________________________________________________________________________________________________\n",
            "tf.split_8 (TFOpLambda)         [(None, 64, 4, 4), ( 0           conv2d_82[0][0]                  \n",
            "__________________________________________________________________________________________________\n",
            "lambda_8 (Lambda)               (None, 64, 4, 4)     0           tf.split_8[0][1]                 \n",
            "__________________________________________________________________________________________________\n",
            "reshape_32 (Reshape)            (None, 8, 8, 16)     0           tf.split_8[0][0]                 \n",
            "__________________________________________________________________________________________________\n",
            "reshape_33 (Reshape)            (None, 8, 8, 16)     0           lambda_8[0][0]                   \n",
            "__________________________________________________________________________________________________\n",
            "mat_mul_layer_16 (MatMulLayer)  (None, 8, 16, 16)    0           reshape_32[0][0]                 \n",
            "                                                                 reshape_33[0][0]                 \n",
            "__________________________________________________________________________________________________\n",
            "add_positional_embeddings_8 (Ad (None, 8, 16, 16)    32          mat_mul_layer_16[0][0]           \n",
            "__________________________________________________________________________________________________\n",
            "reshape_34 (Reshape)            (None, 8, 4, 16)     0           tf.split_8[0][2]                 \n",
            "__________________________________________________________________________________________________\n",
            "softmax_9 (Softmax)             (None, 8, 16, 16)    0           add_positional_embeddings_8[0][0]\n",
            "__________________________________________________________________________________________________\n",
            "mat_mul_layer_17 (MatMulLayer)  (None, 8, 4, 16)     0           reshape_34[0][0]                 \n",
            "                                                                 softmax_9[0][0]                  \n",
            "__________________________________________________________________________________________________\n",
            "reshape_35 (Reshape)            (None, 32, 4, 4)     0           mat_mul_layer_17[0][0]           \n",
            "__________________________________________________________________________________________________\n",
            "conv2d_83 (Conv2D)              (None, 32, 4, 4)     1056        reshape_35[0][0]                 \n",
            "__________________________________________________________________________________________________\n",
            "conv2d_81 (Conv2D)              (None, 96, 4, 4)     110688      activation_52[0][0]              \n",
            "__________________________________________________________________________________________________\n",
            "concatenate_8 (Concatenate)     (None, 128, 4, 4)    0           conv2d_83[0][0]                  \n",
            "                                                                 conv2d_81[0][0]                  \n",
            "__________________________________________________________________________________________________\n",
            "batch_normalization_53 (BatchNo (None, 128, 4, 4)    512         concatenate_8[0][0]              \n",
            "__________________________________________________________________________________________________\n",
            "activation_53 (Activation)      (None, 128, 4, 4)    0           batch_normalization_53[0][0]     \n",
            "__________________________________________________________________________________________________\n",
            "conv2d_84 (Conv2D)              (None, 512, 4, 4)    66048       activation_53[0][0]              \n",
            "__________________________________________________________________________________________________\n",
            "squeeze_attention2d_16 (Squeeze (None, 512, 4, 4)    131712      conv2d_84[0][0]                  \n",
            "__________________________________________________________________________________________________\n",
            "conv2d_79 (Conv2D)              (None, 512, 4, 4)    131584      activation_51[0][0]              \n",
            "__________________________________________________________________________________________________\n",
            "dropout_17 (Dropout)            (None, 512, 4, 4)    0           squeeze_attention2d_16[0][0]     \n",
            "__________________________________________________________________________________________________\n",
            "add_16 (Add)                    (None, 512, 4, 4)    0           conv2d_79[0][0]                  \n",
            "                                                                 dropout_17[0][0]                 \n",
            "__________________________________________________________________________________________________\n",
            "batch_normalization_54 (BatchNo (None, 512, 4, 4)    2048        add_16[0][0]                     \n",
            "__________________________________________________________________________________________________\n",
            "activation_54 (Activation)      (None, 512, 4, 4)    0           batch_normalization_54[0][0]     \n",
            "__________________________________________________________________________________________________\n",
            "conv2d_86 (Conv2D)              (None, 128, 4, 4)    65664       activation_54[0][0]              \n",
            "__________________________________________________________________________________________________\n",
            "batch_normalization_55 (BatchNo (None, 128, 4, 4)    512         conv2d_86[0][0]                  \n",
            "__________________________________________________________________________________________________\n",
            "activation_55 (Activation)      (None, 128, 4, 4)    0           batch_normalization_55[0][0]     \n",
            "__________________________________________________________________________________________________\n",
            "conv2d_88 (Conv2D)              (None, 160, 4, 4)    20640       activation_55[0][0]              \n",
            "__________________________________________________________________________________________________\n",
            "tf.split_9 (TFOpLambda)         [(None, 64, 4, 4), ( 0           conv2d_88[0][0]                  \n",
            "__________________________________________________________________________________________________\n",
            "lambda_9 (Lambda)               (None, 64, 4, 4)     0           tf.split_9[0][1]                 \n",
            "__________________________________________________________________________________________________\n",
            "reshape_36 (Reshape)            (None, 8, 8, 16)     0           tf.split_9[0][0]                 \n",
            "__________________________________________________________________________________________________\n",
            "reshape_37 (Reshape)            (None, 8, 8, 16)     0           lambda_9[0][0]                   \n",
            "__________________________________________________________________________________________________\n",
            "mat_mul_layer_18 (MatMulLayer)  (None, 8, 16, 16)    0           reshape_36[0][0]                 \n",
            "                                                                 reshape_37[0][0]                 \n",
            "__________________________________________________________________________________________________\n",
            "add_positional_embeddings_9 (Ad (None, 8, 16, 16)    32          mat_mul_layer_18[0][0]           \n",
            "__________________________________________________________________________________________________\n",
            "reshape_38 (Reshape)            (None, 8, 4, 16)     0           tf.split_9[0][2]                 \n",
            "__________________________________________________________________________________________________\n",
            "softmax_10 (Softmax)            (None, 8, 16, 16)    0           add_positional_embeddings_9[0][0]\n",
            "__________________________________________________________________________________________________\n",
            "mat_mul_layer_19 (MatMulLayer)  (None, 8, 4, 16)     0           reshape_38[0][0]                 \n",
            "                                                                 softmax_10[0][0]                 \n",
            "__________________________________________________________________________________________________\n",
            "reshape_39 (Reshape)            (None, 32, 4, 4)     0           mat_mul_layer_19[0][0]           \n",
            "__________________________________________________________________________________________________\n",
            "conv2d_89 (Conv2D)              (None, 32, 4, 4)     1056        reshape_39[0][0]                 \n",
            "__________________________________________________________________________________________________\n",
            "conv2d_87 (Conv2D)              (None, 96, 4, 4)     110688      activation_55[0][0]              \n",
            "__________________________________________________________________________________________________\n",
            "concatenate_9 (Concatenate)     (None, 128, 4, 4)    0           conv2d_89[0][0]                  \n",
            "                                                                 conv2d_87[0][0]                  \n",
            "__________________________________________________________________________________________________\n",
            "batch_normalization_56 (BatchNo (None, 128, 4, 4)    512         concatenate_9[0][0]              \n",
            "__________________________________________________________________________________________________\n",
            "activation_56 (Activation)      (None, 128, 4, 4)    0           batch_normalization_56[0][0]     \n",
            "__________________________________________________________________________________________________\n",
            "conv2d_90 (Conv2D)              (None, 512, 4, 4)    66048       activation_56[0][0]              \n",
            "__________________________________________________________________________________________________\n",
            "squeeze_attention2d_17 (Squeeze (None, 512, 4, 4)    131712      conv2d_90[0][0]                  \n",
            "__________________________________________________________________________________________________\n",
            "conv2d_85 (Conv2D)              (None, 512, 4, 4)    262656      activation_54[0][0]              \n",
            "__________________________________________________________________________________________________\n",
            "dropout_18 (Dropout)            (None, 512, 4, 4)    0           squeeze_attention2d_17[0][0]     \n",
            "__________________________________________________________________________________________________\n",
            "add_17 (Add)                    (None, 512, 4, 4)    0           conv2d_85[0][0]                  \n",
            "                                                                 dropout_18[0][0]                 \n",
            "__________________________________________________________________________________________________\n",
            "conv2d_91 (Conv2D)              (None, 1024, 4, 4)   4719616     add_17[0][0]                     \n",
            "__________________________________________________________________________________________________\n",
            "batch_normalization_57 (BatchNo (None, 1024, 4, 4)   4096        conv2d_91[0][0]                  \n",
            "__________________________________________________________________________________________________\n",
            "activation_57 (Activation)      (None, 1024, 4, 4)   0           batch_normalization_57[0][0]     \n",
            "__________________________________________________________________________________________________\n",
            "global_average_pooling2d_19 (Gl (None, 1024)         0           activation_57[0][0]              \n",
            "__________________________________________________________________________________________________\n",
            "dropout_19 (Dropout)            (None, 1024)         0           global_average_pooling2d_19[0][0]\n",
            "__________________________________________________________________________________________________\n",
            "dense_1 (Dense)                 (None, 200)          205000      dropout_19[0][0]                 \n",
            "__________________________________________________________________________________________________\n",
            "softmax_11 (Softmax)            (None, 200)          0           dense_1[0][0]                    \n",
            "==================================================================================================\n",
            "Total params: 6,600,232\n",
            "Trainable params: 6,592,328\n",
            "Non-trainable params: 7,904\n",
            "__________________________________________________________________________________________________\n"
          ],
          "name": "stdout"
        }
      ]
    },
    {
      "cell_type": "code",
      "metadata": {
        "id": "DnbTakpi4JC7"
      },
      "source": [
        "model_plot = tf.keras.utils.plot_model(model, to_file='model.png', show_shapes=True, dpi=None)"
      ],
      "execution_count": 49,
      "outputs": []
    },
    {
      "cell_type": "code",
      "metadata": {
        "id": "jYVHG0D5cLQG"
      },
      "source": [
        "wandb.log({\"model\": wandb.Image(\"model.png\")})"
      ],
      "execution_count": 50,
      "outputs": []
    },
    {
      "cell_type": "code",
      "metadata": {
        "id": "OdJakYhxsXIH",
        "colab": {
          "base_uri": "https://localhost:8080/",
          "height": 265
        },
        "outputId": "2c4dae72-ba2a-48e7-b67a-46e46bb4c57b"
      },
      "source": [
        "steps_per_epoch = len(train_ds)\n",
        "clr = tfa.optimizers.Triangular2CyclicalLearningRate(\n",
        "            initial_learning_rate=CONFIG.min_lr,\n",
        "            maximal_learning_rate=CONFIG.max_lr,\n",
        "            step_size=CONFIG.clr_step_size * steps_per_epoch,\n",
        "            scale_mode=\"cycle\")\n",
        "domain = range(0, 50*steps_per_epoch, 32)\n",
        "lr_log = [clr(i).numpy() for i in domain]\n",
        "plt.plot(domain, lr_log)\n",
        "plt.show()"
      ],
      "execution_count": 51,
      "outputs": [
        {
          "output_type": "display_data",
          "data": {
            "image/png": "[encoded data removed]",
            "text/plain": [
              "<Figure size 432x288 with 1 Axes>"
            ]
          },
          "metadata": {
            "tags": [],
            "needs_background": "light"
          }
        }
      ]
    },
    {
      "cell_type": "code",
      "metadata": {
        "colab": {
          "base_uri": "https://localhost:8080/",
          "height": 265
        },
        "id": "EqrS0wpCOWk5",
        "outputId": "1b8a799c-d411-416e-fb37-b297c31cb6df"
      },
      "source": [
        "def get_wdc(i):\n",
        "    wdc = CONFIG.weight_decay*clr(i)/CONFIG.max_lr\n",
        "    if tf.executing_eagerly():\n",
        "        return wdc.numpy()\n",
        "    else:\n",
        "        return wdc\n",
        "wdc_log = [get_wdc(i) for i in domain]\n",
        "plt.plot(domain, wdc_log)\n",
        "plt.show()"
      ],
      "execution_count": 53,
      "outputs": [
        {
          "output_type": "display_data",
          "data": {
            "image/png": "[encoded data removed]",
            "text/plain": [
              "<Figure size 432x288 with 1 Axes>"
            ]
          },
          "metadata": {
            "tags": [],
            "needs_background": "light"
          }
        }
      ]
    },
    {
      "cell_type": "code",
      "metadata": {
        "id": "MYgq5ODJOWY8"
      },
      "source": [
        "if CONFIG.optimizer == 'adamw':\n",
        "    opt = tfa.optimizers.AdamW(learning_rate=clr, weight_decay=lambda : CONFIG.weight_decay)\n",
        "    # wd_schedule = tf.optimizers.schedules.ExponentialDecay(5e-5, 100, 0.9)    # weight_decay=lambda : None\n",
        "    if CONFIG.vary_weight_decay:\n",
        "        opt.weight_decay = lambda : get_wdc(opt.iterations)\n",
        "elif CONFIG.optimizer == 'adam':            # or just make weight_decay=0\n",
        "    opt = tf.keras.optimizers.Adam(learning_rate=clr)\n",
        "opt = tf.keras.mixed_precision.LossScaleOptimizer(opt)"
      ],
      "execution_count": 54,
      "outputs": []
    },
    {
      "cell_type": "code",
      "metadata": {
        "id": "yCo_cnXBYoX9"
      },
      "source": [
        "if CONFIG.loss_function == 'cce':\n",
        "    loss_function = tf.keras.losses.SparseCategoricalCrossentropy()"
      ],
      "execution_count": 55,
      "outputs": []
    },
    {
      "cell_type": "code",
      "metadata": {
        "id": "brIBUNULsXBl"
      },
      "source": [
        "model.compile(optimizer=opt, loss=loss_function, metrics=['accuracy'])"
      ],
      "execution_count": 56,
      "outputs": []
    },
    {
      "cell_type": "code",
      "metadata": {
        "id": "ccNFzZlUe0oG"
      },
      "source": [
        "wandb_cb = WandbCallback(monitor='val_accuracy', mode='max', generator=val_ds)"
      ],
      "execution_count": 57,
      "outputs": []
    },
    {
      "cell_type": "code",
      "metadata": {
        "id": "yHFlgYpjCEQr",
        "colab": {
          "base_uri": "https://localhost:8080/"
        },
        "outputId": "1c5aaa7e-5b03-4cbd-e828-7bf22f5cce6f"
      },
      "source": [
        "history = model.fit(train_ds,\n",
        "                    epochs=50,\n",
        "                    validation_data=val_ds,\n",
        "                    workers=4,\n",
        "                    use_multiprocessing=True,\n",
        "                    callbacks=[wandb_cb])"
      ],
      "execution_count": null,
      "outputs": [
        {
          "output_type": "stream",
          "text": [
            "Epoch 1/50\n",
            "196/196 [==============================] - 210s 958ms/step - loss: 5.2929 - accuracy: 0.0121 - val_loss: 5.4149 - val_accuracy: 0.0108\n",
            "Epoch 2/50\n",
            "196/196 [==============================] - 117s 592ms/step - loss: 4.9001 - accuracy: 0.0356 - val_loss: 5.0242 - val_accuracy: 0.0389\n",
            "Epoch 3/50\n",
            "196/196 [==============================] - 117s 589ms/step - loss: 4.7150 - accuracy: 0.0529 - val_loss: 5.5271 - val_accuracy: 0.0367\n",
            "Epoch 4/50\n",
            "196/196 [==============================] - 116s 588ms/step - loss: 4.5367 - accuracy: 0.0723 - val_loss: 5.7416 - val_accuracy: 0.0393\n",
            "Epoch 5/50\n",
            "196/196 [==============================] - 115s 581ms/step - loss: 4.3558 - accuracy: 0.0947 - val_loss: 5.7707 - val_accuracy: 0.0405\n",
            "Epoch 6/50\n",
            "196/196 [==============================] - 116s 585ms/step - loss: 4.1674 - accuracy: 0.1204 - val_loss: 4.7526 - val_accuracy: 0.0796\n",
            "Epoch 7/50\n",
            "196/196 [==============================] - 116s 588ms/step - loss: 4.0031 - accuracy: 0.1428 - val_loss: 5.0710 - val_accuracy: 0.0641\n",
            "Epoch 8/50\n",
            "196/196 [==============================] - 116s 583ms/step - loss: 3.8557 - accuracy: 0.1674 - val_loss: 5.0709 - val_accuracy: 0.0734\n",
            "Epoch 9/50\n",
            "196/196 [==============================] - 116s 586ms/step - loss: 3.7447 - accuracy: 0.1847 - val_loss: 4.9343 - val_accuracy: 0.0847\n",
            "Epoch 10/50\n",
            "196/196 [==============================] - 117s 587ms/step - loss: 3.5932 - accuracy: 0.2089 - val_loss: 5.0490 - val_accuracy: 0.0735\n",
            "Epoch 11/50\n",
            "196/196 [==============================] - 116s 585ms/step - loss: 3.4697 - accuracy: 0.2285 - val_loss: 4.7286 - val_accuracy: 0.0947\n",
            "Epoch 12/50\n",
            "196/196 [==============================] - 117s 591ms/step - loss: 3.3604 - accuracy: 0.2477 - val_loss: 4.7964 - val_accuracy: 0.0837\n",
            "Epoch 13/50\n",
            "196/196 [==============================] - 114s 573ms/step - loss: 3.2608 - accuracy: 0.2643 - val_loss: 5.0056 - val_accuracy: 0.0802\n",
            "Epoch 14/50\n",
            "196/196 [==============================] - 116s 584ms/step - loss: 3.1711 - accuracy: 0.2810 - val_loss: 4.5553 - val_accuracy: 0.1054\n",
            "Epoch 15/50\n",
            "196/196 [==============================] - 115s 579ms/step - loss: 3.0894 - accuracy: 0.2971 - val_loss: 4.7245 - val_accuracy: 0.0986\n",
            "Epoch 16/50\n",
            "196/196 [==============================] - 116s 586ms/step - loss: 3.0144 - accuracy: 0.3101 - val_loss: 4.7287 - val_accuracy: 0.1015\n",
            "Epoch 17/50\n",
            "196/196 [==============================] - 114s 573ms/step - loss: 2.9713 - accuracy: 0.3189 - val_loss: 4.5530 - val_accuracy: 0.1103\n",
            "Epoch 18/50\n",
            "196/196 [==============================] - 117s 589ms/step - loss: 2.9834 - accuracy: 0.3162 - val_loss: 4.8713 - val_accuracy: 0.0928\n",
            "Epoch 19/50\n",
            "196/196 [==============================] - 117s 591ms/step - loss: 2.9782 - accuracy: 0.3159 - val_loss: 4.8397 - val_accuracy: 0.0966\n",
            "Epoch 20/50\n",
            "196/196 [==============================] - 118s 597ms/step - loss: 2.9936 - accuracy: 0.3128 - val_loss: 4.9721 - val_accuracy: 0.0926\n",
            "Epoch 21/50\n",
            "196/196 [==============================] - 115s 580ms/step - loss: 2.9978 - accuracy: 0.3128 - val_loss: 5.1254 - val_accuracy: 0.0855\n",
            "Epoch 22/50\n",
            "196/196 [==============================] - 117s 591ms/step - loss: 2.9903 - accuracy: 0.3109 - val_loss: 5.3354 - val_accuracy: 0.0743\n",
            "Epoch 23/50\n",
            "196/196 [==============================] - 116s 584ms/step - loss: 2.9973 - accuracy: 0.3108 - val_loss: 4.6430 - val_accuracy: 0.1012\n",
            "Epoch 24/50\n",
            "196/196 [==============================] - 116s 590ms/step - loss: 2.9837 - accuracy: 0.3135 - val_loss: 4.6646 - val_accuracy: 0.1096\n",
            "Epoch 25/50\n",
            "196/196 [==============================] - 115s 579ms/step - loss: 2.9639 - accuracy: 0.3158 - val_loss: 4.9117 - val_accuracy: 0.0935\n",
            "Epoch 26/50\n",
            "196/196 [==============================] - 117s 588ms/step - loss: 2.9012 - accuracy: 0.3269 - val_loss: 5.0460 - val_accuracy: 0.0913\n",
            "Epoch 27/50\n",
            "196/196 [==============================] - 116s 591ms/step - loss: 2.8595 - accuracy: 0.3354 - val_loss: 4.9230 - val_accuracy: 0.0962\n",
            "Epoch 28/50\n",
            "196/196 [==============================] - 115s 577ms/step - loss: 2.8117 - accuracy: 0.3460 - val_loss: 4.7657 - val_accuracy: 0.1098\n",
            "Epoch 29/50\n",
            "196/196 [==============================] - 115s 580ms/step - loss: 2.7390 - accuracy: 0.3576 - val_loss: 4.7993 - val_accuracy: 0.1072\n",
            "Epoch 30/50\n",
            "196/196 [==============================] - 114s 576ms/step - loss: 2.6971 - accuracy: 0.3678 - val_loss: 4.5947 - val_accuracy: 0.1267\n",
            "Epoch 31/50\n",
            "196/196 [==============================] - 117s 588ms/step - loss: 2.6452 - accuracy: 0.3756 - val_loss: 4.6513 - val_accuracy: 0.1224\n",
            "Epoch 32/50\n",
            "196/196 [==============================] - 116s 585ms/step - loss: 2.6099 - accuracy: 0.3855 - val_loss: 4.5517 - val_accuracy: 0.1338\n",
            "Epoch 33/50\n",
            "196/196 [==============================] - 116s 587ms/step - loss: 2.5906 - accuracy: 0.3880 - val_loss: 4.6112 - val_accuracy: 0.1278\n",
            "Epoch 34/50\n",
            "196/196 [==============================] - 113s 572ms/step - loss: 2.5979 - accuracy: 0.3863 - val_loss: 4.6934 - val_accuracy: 0.1219\n",
            "Epoch 35/50\n",
            "196/196 [==============================] - 116s 589ms/step - loss: 2.5854 - accuracy: 0.3889 - val_loss: 4.7182 - val_accuracy: 0.1241\n",
            "Epoch 36/50\n",
            "196/196 [==============================] - 116s 585ms/step - loss: 2.5958 - accuracy: 0.3867 - val_loss: 4.7336 - val_accuracy: 0.1240\n",
            "Epoch 37/50\n",
            "196/196 [==============================] - 116s 585ms/step - loss: 2.6077 - accuracy: 0.3835 - val_loss: 4.6243 - val_accuracy: 0.1244\n",
            "Epoch 38/50\n",
            "196/196 [==============================] - 117s 589ms/step - loss: 2.6111 - accuracy: 0.3829 - val_loss: 4.6703 - val_accuracy: 0.1269\n",
            "Epoch 39/50\n",
            "196/196 [==============================] - 114s 578ms/step - loss: 2.6077 - accuracy: 0.3842 - val_loss: 4.5460 - val_accuracy: 0.1268\n",
            "Epoch 40/50\n",
            "196/196 [==============================] - 117s 590ms/step - loss: 2.6066 - accuracy: 0.3830 - val_loss: 4.5559 - val_accuracy: 0.1302\n",
            "Epoch 41/50\n",
            "196/196 [==============================] - 116s 588ms/step - loss: 2.6228 - accuracy: 0.3808 - val_loss: 4.6603 - val_accuracy: 0.1264\n",
            "Epoch 42/50\n",
            "196/196 [==============================] - 115s 582ms/step - loss: 2.5837 - accuracy: 0.3883 - val_loss: 4.6225 - val_accuracy: 0.1295\n",
            "Epoch 43/50\n",
            "196/196 [==============================] - 115s 582ms/step - loss: 2.5516 - accuracy: 0.3961 - val_loss: 4.5190 - val_accuracy: 0.1348\n",
            "Epoch 44/50\n",
            "196/196 [==============================] - 116s 585ms/step - loss: 2.5205 - accuracy: 0.4012 - val_loss: 4.5545 - val_accuracy: 0.1349\n",
            "Epoch 45/50\n",
            "196/196 [==============================] - 117s 586ms/step - loss: 2.4910 - accuracy: 0.4039 - val_loss: 4.7413 - val_accuracy: 0.1234\n",
            "Epoch 46/50\n",
            "196/196 [==============================] - 117s 591ms/step - loss: 2.4718 - accuracy: 0.4101 - val_loss: 4.5758 - val_accuracy: 0.1338\n",
            "Epoch 47/50\n",
            "196/196 [==============================] - 116s 587ms/step - loss: 2.4328 - accuracy: 0.4178 - val_loss: 4.3586 - val_accuracy: 0.1503\n",
            "Epoch 48/50\n",
            "196/196 [==============================] - 117s 586ms/step - loss: 2.4115 - accuracy: 0.4260 - val_loss: 4.4158 - val_accuracy: 0.1482\n",
            "Epoch 49/50\n",
            " 22/196 [==>...........................] - ETA: 1:29 - loss: 2.3832 - accuracy: 0.4308"
          ],
          "name": "stdout"
        }
      ]
    },
    {
      "cell_type": "code",
      "metadata": {
        "id": "azTIEXYNOV4u"
      },
      "source": [
        ""
      ],
      "execution_count": null,
      "outputs": []
    }
  ]
}