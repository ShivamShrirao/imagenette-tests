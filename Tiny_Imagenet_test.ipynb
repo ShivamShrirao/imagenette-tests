{
  "nbformat": 4,
  "nbformat_minor": 0,
  "metadata": {
    "colab": {
      "name": "Tiny-Imagenet-test",
      "provenance": [],
      "collapsed_sections": [],
      "machine_shape": "hm"
    },
    "kernelspec": {
      "display_name": "Python 3",
      "name": "python3"
    }
  },
  "cells": [
    {
      "cell_type": "code",
      "metadata": {
        "colab": {
          "base_uri": "https://localhost:8080/"
        },
        "id": "pJbYXou6chZf",
        "outputId": "c77c3cdf-3964-42b2-c249-0d289d08f9de"
      },
      "source": [
        "!nvidia-smi"
      ],
      "execution_count": null,
      "outputs": [
        {
          "output_type": "stream",
          "text": [
            "Wed Feb 24 01:37:12 2021       \n",
            "+-----------------------------------------------------------------------------+\n",
            "| NVIDIA-SMI 460.39       Driver Version: 460.32.03    CUDA Version: 11.2     |\n",
            "|-------------------------------+----------------------+----------------------+\n",
            "| GPU  Name        Persistence-M| Bus-Id        Disp.A | Volatile Uncorr. ECC |\n",
            "| Fan  Temp  Perf  Pwr:Usage/Cap|         Memory-Usage | GPU-Util  Compute M. |\n",
            "|                               |                      |               MIG M. |\n",
            "|===============================+======================+======================|\n",
            "|   0  Tesla P100-PCIE...  Off  | 00000000:00:04.0 Off |                    0 |\n",
            "| N/A   42C    P0    27W / 250W |      0MiB / 16280MiB |      0%      Default |\n",
            "|                               |                      |                  N/A |\n",
            "+-------------------------------+----------------------+----------------------+\n",
            "                                                                               \n",
            "+-----------------------------------------------------------------------------+\n",
            "| Processes:                                                                  |\n",
            "|  GPU   GI   CI        PID   Type   Process name                  GPU Memory |\n",
            "|        ID   ID                                                   Usage      |\n",
            "|=============================================================================|\n",
            "|  No running processes found                                                 |\n",
            "+-----------------------------------------------------------------------------+\n"
          ],
          "name": "stdout"
        }
      ]
    },
    {
      "cell_type": "code",
      "metadata": {
        "colab": {
          "base_uri": "https://localhost:8080/"
        },
        "id": "VuLVd2r7HA9V",
        "outputId": "c18f4d20-aceb-46a0-8c8d-ddcc65a08e1c"
      },
      "source": [
        "%cd /content"
      ],
      "execution_count": null,
      "outputs": [
        {
          "output_type": "stream",
          "text": [
            "/content\n"
          ],
          "name": "stdout"
        }
      ]
    },
    {
      "cell_type": "code",
      "metadata": {
        "id": "twOQl22KFY1n",
        "colab": {
          "base_uri": "https://localhost:8080/"
        },
        "outputId": "01d2eeda-ed90-4b8a-9900-9d38ed28034d"
      },
      "source": [
        "!wget http://cs231n.stanford.edu/tiny-imagenet-200.zip"
      ],
      "execution_count": null,
      "outputs": [
        {
          "output_type": "stream",
          "text": [
            "--2021-02-24 21:54:38--  http://cs231n.stanford.edu/tiny-imagenet-200.zip\n",
            "Resolving cs231n.stanford.edu (cs231n.stanford.edu)... 171.64.68.10\n",
            "Connecting to cs231n.stanford.edu (cs231n.stanford.edu)|171.64.68.10|:80... connected.\n",
            "HTTP request sent, awaiting response... 200 OK\n",
            "Length: 248100043 (237M) [application/zip]\n",
            "Saving to: ‘tiny-imagenet-200.zip’\n",
            "\n",
            "tiny-imagenet-200.z 100%[===================>] 236.61M  19.6MB/s    in 19s     \n",
            "\n",
            "2021-02-24 21:54:57 (12.5 MB/s) - ‘tiny-imagenet-200.zip’ saved [248100043/248100043]\n",
            "\n"
          ],
          "name": "stdout"
        }
      ]
    },
    {
      "cell_type": "code",
      "metadata": {
        "id": "7wRBn4wJ4Dj1"
      },
      "source": [
        "!unzip -q tiny-imagenet-200.zip"
      ],
      "execution_count": null,
      "outputs": []
    },
    {
      "cell_type": "code",
      "metadata": {
        "colab": {
          "base_uri": "https://localhost:8080/"
        },
        "id": "G2F1iqzV4M8c",
        "outputId": "c8b4da79-c7b0-4423-9ed7-4b39af120b87"
      },
      "source": [
        "!git clone https://github.com/ShivamShrirao/tiny-imagenet-test"
      ],
      "execution_count": null,
      "outputs": [
        {
          "output_type": "stream",
          "text": [
            "Cloning into 'tiny-imagenet-test'...\n",
            "remote: Enumerating objects: 17, done.\u001b[K\n",
            "remote: Counting objects: 100% (17/17), done.\u001b[K\n",
            "remote: Compressing objects: 100% (13/13), done.\u001b[K\n",
            "remote: Total 17 (delta 4), reused 14 (delta 1), pack-reused 0\u001b[K\n",
            "Unpacking objects: 100% (17/17), done.\n"
          ],
          "name": "stdout"
        }
      ]
    },
    {
      "cell_type": "code",
      "metadata": {
        "colab": {
          "base_uri": "https://localhost:8080/"
        },
        "id": "1PjLOoEn4YJn",
        "outputId": "a5ce7e1b-b185-4e45-9adc-31df1c208c29"
      },
      "source": [
        "%cd tiny-imagenet-test"
      ],
      "execution_count": null,
      "outputs": [
        {
          "output_type": "stream",
          "text": [
            "/content/tiny-imagenet-test\n"
          ],
          "name": "stdout"
        }
      ]
    },
    {
      "cell_type": "code",
      "metadata": {
        "id": "PdzeFNwL1V94"
      },
      "source": [
        "%load_ext autoreload\n",
        "%autoreload 2"
      ],
      "execution_count": null,
      "outputs": []
    },
    {
      "cell_type": "code",
      "metadata": {
        "id": "axyqhY9PF96o"
      },
      "source": [
        "import tensorflow as tf\n",
        "from tensorflow.keras import layers\n",
        "import numpy as np\n",
        "import matplotlib.pyplot as plt\n",
        "import PIL.Image\n",
        "import glob\n",
        "import os\n",
        "import csv\n",
        "from tqdm.notebook import tqdm\n",
        "from time import time\n",
        "import random\n",
        "%matplotlib inline"
      ],
      "execution_count": null,
      "outputs": []
    },
    {
      "cell_type": "code",
      "metadata": {
        "id": "pXklA82Nacy8"
      },
      "source": [
        "# tf.keras.backend.set_image_data_format('channels_first')"
      ],
      "execution_count": null,
      "outputs": []
    },
    {
      "cell_type": "code",
      "metadata": {
        "id": "KA-8kxs3F_Na"
      },
      "source": [
        "# from tensorflow.keras.mixed_precision import experimental as mixed_precision\n",
        "# policy = mixed_precision.Policy('mixed_float16')\n",
        "# mixed_precision.set_policy(policy)"
      ],
      "execution_count": null,
      "outputs": []
    },
    {
      "cell_type": "code",
      "metadata": {
        "id": "blVfKpHTIzAw"
      },
      "source": [
        "import preprocessing"
      ],
      "execution_count": null,
      "outputs": []
    },
    {
      "cell_type": "code",
      "metadata": {
        "id": "0T3HHJJlExFr"
      },
      "source": [
        "preprocessing.img_height, preprocessing.img_width = 64, 64\n",
        "preprocessing.BATCH_SIZE = 128"
      ],
      "execution_count": null,
      "outputs": []
    },
    {
      "cell_type": "code",
      "metadata": {
        "id": "TJR9YwMJUUaQ"
      },
      "source": [
        "# MOVE DATA LOADING TO FILES"
      ],
      "execution_count": null,
      "outputs": []
    },
    {
      "cell_type": "code",
      "metadata": {
        "id": "N0V-TC4tOdzr"
      },
      "source": [
        "TRAIN_PATH = \"../tiny-imagenet-200/train/\"\n",
        "TEST_PATH = \"../tiny-imagenet-200/test/\"\n",
        "VAL_PATH = \"../tiny-imagenet-200/val/\""
      ],
      "execution_count": null,
      "outputs": []
    },
    {
      "cell_type": "code",
      "metadata": {
        "id": "UZVuqDMKz9_F"
      },
      "source": [
        "AUTOTUNE = tf.data.AUTOTUNE"
      ],
      "execution_count": null,
      "outputs": []
    },
    {
      "cell_type": "code",
      "metadata": {
        "id": "7k1gaCqwcPm3"
      },
      "source": [
        "class_names = np.array(sorted([fp.split('/')[-1] for fp in glob.glob(TRAIN_PATH+\"*\")]))"
      ],
      "execution_count": null,
      "outputs": []
    },
    {
      "cell_type": "code",
      "metadata": {
        "id": "75V6qFuo99If"
      },
      "source": [
        "val_labels = {}\n",
        "with open(VAL_PATH+\"val_annotations.txt\") as fIn:\n",
        "    reader = csv.reader(fIn, delimiter='\\t')\n",
        "    for row in reader:\n",
        "        val_labels[row[0]] = row[1]"
      ],
      "execution_count": null,
      "outputs": []
    },
    {
      "cell_type": "code",
      "metadata": {
        "id": "EOynOo4Rb2_I"
      },
      "source": [
        "train_list_ds = (\n",
        "    tf.data.Dataset.list_files(TRAIN_PATH+\"*/images/*\", shuffle=True)\n",
        "    .map(preprocessing.process_train_path, num_parallel_calls=AUTOTUNE)\n",
        "    .cache()\n",
        ")"
      ],
      "execution_count": null,
      "outputs": []
    },
    {
      "cell_type": "code",
      "metadata": {
        "id": "HJ7QkS8T2Kg5"
      },
      "source": [
        "val_list_ds = (\n",
        "    tf.data.Dataset.list_files(VAL_PATH+\"images/*\")\n",
        "    .map(preprocessing.process_val_path, num_parallel_calls=AUTOTUNE)\n",
        "    .cache()\n",
        ")"
      ],
      "execution_count": null,
      "outputs": []
    },
    {
      "cell_type": "code",
      "metadata": {
        "id": "_RFw_6JpFyNC"
      },
      "source": [
        "mean = []\n",
        "std = []\n",
        "for a,b in train_list_ds.take(1024):\n",
        "    mean.append(a.numpy())\n",
        "    std.append(a.numpy())\n",
        "mean = np.asarray(mean).mean(axis=(0,1,2)).reshape(1,3,1,1)\n",
        "std = np.asarray(std).std(axis=(0,1,2)).reshape(1,3,1,1)"
      ],
      "execution_count": null,
      "outputs": []
    },
    {
      "cell_type": "code",
      "metadata": {
        "colab": {
          "base_uri": "https://localhost:8080/"
        },
        "id": "8Q4fgsU6G2im",
        "outputId": "0aceee7c-aa6b-4d10-ac77-486b4b2a4614"
      },
      "source": [
        "mean.ravel(), std.ravel()"
      ],
      "execution_count": null,
      "outputs": [
        {
          "output_type": "execute_result",
          "data": {
            "text/plain": [
              "(array([0.47657734, 0.45386508, 0.3950202 ], dtype=float32),\n",
              " array([0.27600715, 0.26707038, 0.2805239 ], dtype=float32))"
            ]
          },
          "metadata": {
            "tags": []
          },
          "execution_count": 15
        }
      ]
    },
    {
      "cell_type": "code",
      "metadata": {
        "id": "P2QO5jISLB-W"
      },
      "source": [
        "mean = tf.convert_to_tensor(mean)\n",
        "std = tf.convert_to_tensor(std)"
      ],
      "execution_count": null,
      "outputs": []
    },
    {
      "cell_type": "code",
      "metadata": {
        "id": "5qlqkGeMt1kX"
      },
      "source": [
        "train_ds = (\n",
        "    train_list_ds\n",
        "    .map(preprocessing.augment_wrapper, num_parallel_calls=AUTOTUNE)\n",
        "    .batch(BATCH_SIZE)\n",
        "    .map(lambda x, y: (preprocessing.data_augmentation(x, training=True), y), num_parallel_calls=AUTOTUNE)\n",
        "    .map(lambda x, y: preprocessing.channel_first_and_normalize(x, y, mean, std), num_parallel_calls=AUTOTUNE)\n",
        "    .prefetch(AUTOTUNE)\n",
        ")"
      ],
      "execution_count": null,
      "outputs": []
    },
    {
      "cell_type": "code",
      "metadata": {
        "id": "pn9eVO36Jk64"
      },
      "source": [
        "val_ds = (\n",
        "    val_list_ds\n",
        "    .batch(BATCH_SIZE)\n",
        "    .map(lambda x, y: preprocessing.channel_first_and_normalize(x, y, mean, std), num_parallel_calls=AUTOTUNE)\n",
        "    .prefetch(AUTOTUNE)\n",
        ")"
      ],
      "execution_count": null,
      "outputs": []
    },
    {
      "cell_type": "code",
      "metadata": {
        "colab": {
          "base_uri": "https://localhost:8080/"
        },
        "id": "DBSmxgPeMxNf",
        "outputId": "3303d627-d9db-4e3c-9544-4fb904092c8d"
      },
      "source": [
        "a, b = next(iter(train_ds))\n",
        "a.shape"
      ],
      "execution_count": null,
      "outputs": [
        {
          "output_type": "execute_result",
          "data": {
            "text/plain": [
              "TensorShape([128, 3, 64, 64])"
            ]
          },
          "metadata": {
            "tags": []
          },
          "execution_count": 74
        }
      ]
    },
    {
      "cell_type": "code",
      "metadata": {
        "colab": {
          "base_uri": "https://localhost:8080/",
          "height": 35
        },
        "id": "ZB4ZTQxbMxI1",
        "outputId": "eda203d0-dd0f-455c-c4ed-b97926caac6d"
      },
      "source": [
        "idx = np.random.randint(0,128)\n",
        "x = a.numpy()[idx]\n",
        "z = (x-x.min())/(x.max()-x.min())\n",
        "z = z.transpose(1,2,0)\n",
        "class_names[b[idx]]"
      ],
      "execution_count": null,
      "outputs": [
        {
          "output_type": "execute_result",
          "data": {
            "application/vnd.google.colaboratory.intrinsic+json": {
              "type": "string"
            },
            "text/plain": [
              "'n03649909'"
            ]
          },
          "metadata": {
            "tags": []
          },
          "execution_count": 81
        }
      ]
    },
    {
      "cell_type": "code",
      "metadata": {
        "id": "ERq3KyCzfIAi",
        "colab": {
          "base_uri": "https://localhost:8080/",
          "height": 81
        },
        "outputId": "126133dd-dc34-41a8-dfe5-a59861303e59"
      },
      "source": [
        "PIL.Image.fromarray((z*255).astype(np.uint8))"
      ],
      "execution_count": null,
      "outputs": [
        {
          "output_type": "execute_result",
          "data": {
            "image/png": "[encoded data removed]",
            "text/plain": [
              "<PIL.Image.Image image mode=RGB size=64x64 at 0x7F3765F55810>"
            ]
          },
          "metadata": {
            "tags": []
          },
          "execution_count": 82
        }
      ]
    },
    {
      "cell_type": "code",
      "metadata": {
        "id": "IKexFaR-GJ6A"
      },
      "source": [
        "config_defaults = {\n",
        "    'activation'            : 'leaky_relu',\n",
        "    'dp_rate'               : 0.2,\n",
        "    'batch_size'            : BATCH_SIZE,\n",
        "    'norm'                  : 'bn',\n",
        "    'self_attn'             : True,\n",
        "    'frac_dk'               : 0.5,\n",
        "    'frac_dv'               : 0.25,\n",
        "    'pos_emb'               : True,\n",
        "    'optimizer'             : 'adamw',\n",
        "    'min_lr'                : 1e-5,\n",
        "    'max_lr'                : 1e-3,\n",
        "    'weight_decay'          : 1e-4,     #maximum\n",
        "    'clr_step_size'         : 8,\n",
        "    'loss_function'         : 'cce',\n",
        "}"
      ],
      "execution_count": null,
      "outputs": []
    },
    {
      "cell_type": "code",
      "metadata": {
        "id": "ieZR_Zwq5fZE"
      },
      "source": [
        "class AttributeDict(dict):\n",
        "    __slots__ = () \n",
        "    __getattr__ = dict.__getitem__\n",
        "    __setattr__ = dict.__setitem__"
      ],
      "execution_count": null,
      "outputs": []
    },
    {
      "cell_type": "code",
      "metadata": {
        "id": "bTdSfqgL52JZ"
      },
      "source": [
        "CONFIG = AttributeDict(config_defaults)"
      ],
      "execution_count": null,
      "outputs": []
    },
    {
      "cell_type": "code",
      "metadata": {
        "id": "SgMX_ZXm4JPO"
      },
      "source": [
        "import conv_utils"
      ],
      "execution_count": null,
      "outputs": []
    },
    {
      "cell_type": "code",
      "metadata": {
        "id": "aPugCFtx4JMp"
      },
      "source": [
        "conv_utils.CONFIG = CONFIG"
      ],
      "execution_count": null,
      "outputs": []
    },
    {
      "cell_type": "code",
      "metadata": {
        "id": "lchAuU1s4JKO"
      },
      "source": [
        "inp = layers.Input(shape=(3,img_height, img_width))"
      ],
      "execution_count": null,
      "outputs": []
    },
    {
      "cell_type": "code",
      "metadata": {
        "id": "n06t0Tyt78g1"
      },
      "source": [
        "x = conv_utils.conv_norm(inp, 8, kernel_size=5, strides=1, activation=CONFIG.activation)\n",
        "x = conv_utils.conv_norm(x, 32, kernel_size=3, strides=2, activation=CONFIG.activation,\n",
        "                    do_norm_act=False)"
      ],
      "execution_count": null,
      "outputs": []
    },
    {
      "cell_type": "code",
      "metadata": {
        "id": "n1JHkNIt4JIH"
      },
      "source": [
        "x = conv_utils.down_stack(x, fltrs=[ 8,16,16], self_attn=False, dp_rate=CONFIG.dp_rate)   # (64, 16, 16)\n",
        "x = conv_utils.down_stack(x, fltrs=[16,32,32], self_attn=[False, True, True], dp_rate=CONFIG.dp_rate)   # (128, 8, 8)\n",
        "x = conv_utils.down_stack(x, fltrs=[32,64,64], self_attn=True, dp_rate=CONFIG.dp_rate)   # (256, 4, 4)"
      ],
      "execution_count": null,
      "outputs": []
    },
    {
      "cell_type": "code",
      "metadata": {
        "id": "q7kCNvw4D-bk"
      },
      "source": [
        "x = conv_utils.conv_norm(x, 512, kernel_size=3, strides=1, activation=CONFIG.activation)\n",
        "x = layers.GlobalAveragePooling2D(data_format=\"channels_first\")(x)\n",
        "if CONFIG.dp_rate:\n",
        "    x = layers.Dropout(CONFIG.dp_rate)(x)\n",
        "x = layers.Dense(CLASSES)(x)\n",
        "x = layers.Softmax(axis=1)(x)"
      ],
      "execution_count": null,
      "outputs": []
    },
    {
      "cell_type": "code",
      "metadata": {
        "id": "Dw9aIc5c4JFQ"
      },
      "source": [
        "model = tf.keras.Model(inputs=inp, outputs=x)\n",
        "model.summary()"
      ],
      "execution_count": null,
      "outputs": []
    },
    {
      "cell_type": "code",
      "metadata": {
        "id": "DnbTakpi4JC7"
      },
      "source": [
        "ret = tf.keras.utils.plot_model(model, to_file='model.svg', show_shapes=True, dpi=None)"
      ],
      "execution_count": null,
      "outputs": []
    },
    {
      "cell_type": "code",
      "metadata": {
        "id": "OdJakYhxsXIH"
      },
      "source": [
        "steps_per_epoch = int(np.ceil(len(train_paths)/BATCH_SIZE))\n",
        "clr = tfa.optimizers.Triangular2CyclicalLearningRate(\n",
        "            initial_learning_rate=CONFIG.min_lr,\n",
        "            maximal_learning_rate=CONFIG.max_lr,\n",
        "            step_size=CONFIG.clr_step_size * steps_per_epoch,\n",
        "            scale_mode=\"cycle\")\n",
        "domain = range(0, 100*steps_per_epoch, 32)\n",
        "lr_log = [clr(i).numpy() for i in domain]\n",
        "plt.plot(domain, lr_log)\n",
        "plt.show()"
      ],
      "execution_count": null,
      "outputs": []
    },
    {
      "cell_type": "code",
      "metadata": {
        "id": "EqrS0wpCOWk5"
      },
      "source": [
        "def get_wdc(i):\n",
        "    wdc = CONFIG.weight_decay*clr(i)/CONFIG.max_lr\n",
        "    if tf.executing_eagerly():\n",
        "        return wdc.numpy()\n",
        "    else:\n",
        "        return wdc"
      ],
      "execution_count": null,
      "outputs": []
    },
    {
      "cell_type": "code",
      "metadata": {
        "id": "MYgq5ODJOWY8"
      },
      "source": [
        "if CONFIG.optimizer == 'adamw':\n",
        "    opt = tfa.optimizers.AdamW(learning_rate=clr, weight_decay=lambda : CONFIG.weight_decay)\n",
        "    # wd_schedule = tf.optimizers.schedules.ExponentialDecay(5e-5, 100, 0.9)    # weight_decay=lambda : None\n",
        "    if CONFIG.vary_weight_decay:\n",
        "        opt.weight_decay = lambda : get_wdc(opt.iterations)\n",
        "elif CONFIG.optimizer == 'adam':            # or just make weight_decay=0\n",
        "    opt = tf.keras.optimizers.Adam(learning_rate=clr)\n",
        "opt = tf.keras.mixed_precision.LossScaleOptimizer(opt)"
      ],
      "execution_count": null,
      "outputs": []
    },
    {
      "cell_type": "code",
      "metadata": {
        "id": "yCo_cnXBYoX9"
      },
      "source": [
        "if CONFIG.loss_function == 'cce':\n",
        "    loss_function = tf.keras.losses.SparseCategoricalCrossentropy()"
      ],
      "execution_count": null,
      "outputs": []
    },
    {
      "cell_type": "code",
      "metadata": {
        "id": "brIBUNULsXBl"
      },
      "source": [
        "model.compile(optimizer=opt, loss=loss_function, metrics=['accuracy'])"
      ],
      "execution_count": null,
      "outputs": []
    },
    {
      "cell_type": "code",
      "metadata": {
        "id": "yHFlgYpjCEQr"
      },
      "source": [
        "history = model.fit(train_ds,\n",
        "                    epochs=50,\n",
        "                    validation_data=val_ds,\n",
        "                    workers=4,\n",
        "                    use_multiprocessing=True,\n",
        "                    callbacks=[wandb_cb])"
      ],
      "execution_count": null,
      "outputs": []
    },
    {
      "cell_type": "code",
      "metadata": {
        "id": "azTIEXYNOV4u"
      },
      "source": [
        ""
      ],
      "execution_count": null,
      "outputs": []
    },
    {
      "cell_type": "code",
      "metadata": {
        "id": "1znjkBpkOV2E"
      },
      "source": [
        ""
      ],
      "execution_count": null,
      "outputs": []
    },
    {
      "cell_type": "code",
      "metadata": {
        "id": "Fs5BiKqTGJsd"
      },
      "source": [
        "import wandb\n",
        "from wandb.keras import WandbCallback"
      ],
      "execution_count": null,
      "outputs": []
    },
    {
      "cell_type": "code",
      "metadata": {
        "id": "AtNLrP0hGJzm"
      },
      "source": [
        "# wandb.login()"
      ],
      "execution_count": null,
      "outputs": []
    },
    {
      "cell_type": "code",
      "metadata": {
        "id": "OXAKFpPqGJ_e"
      },
      "source": [
        "# run = wandb.init(project=\"tiny-imagenet-test\", entity=\"shivamshrirao\", config=config_defaults)\n",
        "# CONFIG = wandb.config"
      ],
      "execution_count": null,
      "outputs": []
    },
    {
      "cell_type": "code",
      "metadata": {
        "id": "oJ32ZoQVGKT-"
      },
      "source": [
        ""
      ],
      "execution_count": null,
      "outputs": []
    },
    {
      "cell_type": "code",
      "metadata": {
        "id": "svILsoO8GKXv"
      },
      "source": [
        ""
      ],
      "execution_count": null,
      "outputs": []
    }
  ]
}