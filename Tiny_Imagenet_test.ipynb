{
  "nbformat": 4,
  "nbformat_minor": 0,
  "metadata": {
    "colab": {
      "name": "Tiny-Imagenet-test",
      "provenance": [],
      "collapsed_sections": [],
      "machine_shape": "hm"
    },
    "kernelspec": {
      "display_name": "Python 3",
      "name": "python3"
    },
    "accelerator": "GPU"
  },
  "cells": [
    {
      "cell_type": "code",
      "metadata": {
        "colab": {
          "base_uri": "https://localhost:8080/"
        },
        "id": "pJbYXou6chZf",
        "outputId": "d54fc784-e33e-44c3-cb7d-4f01e0fd9639"
      },
      "source": [
        "!nvidia-smi"
      ],
      "execution_count": 1,
      "outputs": [
        {
          "output_type": "stream",
          "text": [
            "Fri Feb 26 22:14:00 2021       \n",
            "+-----------------------------------------------------------------------------+\n",
            "| NVIDIA-SMI 460.39       Driver Version: 460.32.03    CUDA Version: 11.2     |\n",
            "|-------------------------------+----------------------+----------------------+\n",
            "| GPU  Name        Persistence-M| Bus-Id        Disp.A | Volatile Uncorr. ECC |\n",
            "| Fan  Temp  Perf  Pwr:Usage/Cap|         Memory-Usage | GPU-Util  Compute M. |\n",
            "|                               |                      |               MIG M. |\n",
            "|===============================+======================+======================|\n",
            "|   0  Tesla P100-PCIE...  Off  | 00000000:00:04.0 Off |                    0 |\n",
            "| N/A   51C    P0    29W / 250W |      0MiB / 16280MiB |      0%      Default |\n",
            "|                               |                      |                  N/A |\n",
            "+-------------------------------+----------------------+----------------------+\n",
            "                                                                               \n",
            "+-----------------------------------------------------------------------------+\n",
            "| Processes:                                                                  |\n",
            "|  GPU   GI   CI        PID   Type   Process name                  GPU Memory |\n",
            "|        ID   ID                                                   Usage      |\n",
            "|=============================================================================|\n",
            "|  No running processes found                                                 |\n",
            "+-----------------------------------------------------------------------------+\n"
          ],
          "name": "stdout"
        }
      ]
    },
    {
      "cell_type": "code",
      "metadata": {
        "colab": {
          "base_uri": "https://localhost:8080/"
        },
        "id": "VuLVd2r7HA9V",
        "outputId": "ee9cd89a-7e67-48a9-b9e5-5f3f0a115a9d"
      },
      "source": [
        "%cd /content"
      ],
      "execution_count": 2,
      "outputs": [
        {
          "output_type": "stream",
          "text": [
            "/content\n"
          ],
          "name": "stdout"
        }
      ]
    },
    {
      "cell_type": "code",
      "metadata": {
        "id": "twOQl22KFY1n",
        "colab": {
          "base_uri": "https://localhost:8080/"
        },
        "outputId": "8fda209b-b372-47e0-9f37-5826035259bf"
      },
      "source": [
        "!wget http://cs231n.stanford.edu/tiny-imagenet-200.zip"
      ],
      "execution_count": 3,
      "outputs": [
        {
          "output_type": "stream",
          "text": [
            "--2021-02-26 22:14:17--  http://cs231n.stanford.edu/tiny-imagenet-200.zip\n",
            "Resolving cs231n.stanford.edu (cs231n.stanford.edu)... 171.64.68.10\n",
            "Connecting to cs231n.stanford.edu (cs231n.stanford.edu)|171.64.68.10|:80... connected.\n",
            "HTTP request sent, awaiting response... 200 OK\n",
            "Length: 248100043 (237M) [application/zip]\n",
            "Saving to: ‘tiny-imagenet-200.zip’\n",
            "\n",
            "tiny-imagenet-200.z 100%[===================>] 236.61M  38.7MB/s    in 7.3s    \n",
            "\n",
            "2021-02-26 22:14:25 (32.2 MB/s) - ‘tiny-imagenet-200.zip’ saved [248100043/248100043]\n",
            "\n"
          ],
          "name": "stdout"
        }
      ]
    },
    {
      "cell_type": "code",
      "metadata": {
        "id": "7wRBn4wJ4Dj1"
      },
      "source": [
        "!unzip -q tiny-imagenet-200.zip"
      ],
      "execution_count": 4,
      "outputs": []
    },
    {
      "cell_type": "code",
      "metadata": {
        "colab": {
          "base_uri": "https://localhost:8080/"
        },
        "id": "SfKlixMWcooW",
        "outputId": "c362406b-6bb9-4767-bf6c-abc646e60314"
      },
      "source": [
        "%pip install -q tensorflow-addons[tensorflow]\n",
        "%pip install -q wandb"
      ],
      "execution_count": 61,
      "outputs": [
        {
          "output_type": "stream",
          "text": [
            "\u001b[K     |████████████████████████████████| 706kB 5.9MB/s \n",
            "\u001b[K     |████████████████████████████████| 2.0MB 5.7MB/s \n",
            "\u001b[K     |████████████████████████████████| 133kB 42.2MB/s \n",
            "\u001b[K     |████████████████████████████████| 102kB 9.8MB/s \n",
            "\u001b[K     |████████████████████████████████| 163kB 43.5MB/s \n",
            "\u001b[K     |████████████████████████████████| 71kB 8.1MB/s \n",
            "\u001b[?25h  Building wheel for pathtools (setup.py) ... \u001b[?25l\u001b[?25hdone\n",
            "  Building wheel for subprocess32 (setup.py) ... \u001b[?25l\u001b[?25hdone\n"
          ],
          "name": "stdout"
        }
      ]
    },
    {
      "cell_type": "code",
      "metadata": {
        "colab": {
          "base_uri": "https://localhost:8080/"
        },
        "id": "G2F1iqzV4M8c",
        "outputId": "43b56ebc-e8a1-4e10-9c53-469bcd4b2c97"
      },
      "source": [
        "!git clone https://github.com/ShivamShrirao/tiny-imagenet-test"
      ],
      "execution_count": 5,
      "outputs": [
        {
          "output_type": "stream",
          "text": [
            "Cloning into 'tiny-imagenet-test'...\n",
            "remote: Enumerating objects: 26, done.\u001b[K\n",
            "remote: Counting objects: 100% (26/26), done.\u001b[K\n",
            "remote: Compressing objects: 100% (19/19), done.\u001b[K\n",
            "remote: Total 26 (delta 8), reused 22 (delta 4), pack-reused 0\u001b[K\n",
            "Unpacking objects: 100% (26/26), done.\n"
          ],
          "name": "stdout"
        }
      ]
    },
    {
      "cell_type": "code",
      "metadata": {
        "colab": {
          "base_uri": "https://localhost:8080/"
        },
        "id": "1PjLOoEn4YJn",
        "outputId": "957c7119-6de9-4e02-adcf-8eeb14a9db5b"
      },
      "source": [
        "%cd tiny-imagenet-test"
      ],
      "execution_count": 6,
      "outputs": [
        {
          "output_type": "stream",
          "text": [
            "/content/tiny-imagenet-test\n"
          ],
          "name": "stdout"
        }
      ]
    },
    {
      "cell_type": "code",
      "metadata": {
        "id": "PdzeFNwL1V94"
      },
      "source": [
        "%load_ext autoreload\n",
        "%autoreload 2"
      ],
      "execution_count": 7,
      "outputs": []
    },
    {
      "cell_type": "code",
      "metadata": {
        "id": "axyqhY9PF96o"
      },
      "source": [
        "import tensorflow as tf\n",
        "from tensorflow.keras import layers\n",
        "import numpy as np\n",
        "import matplotlib.pyplot as plt\n",
        "import PIL.Image\n",
        "import glob\n",
        "import os\n",
        "import csv\n",
        "from tqdm.notebook import tqdm\n",
        "from time import time\n",
        "import random\n",
        "%matplotlib inline"
      ],
      "execution_count": 8,
      "outputs": []
    },
    {
      "cell_type": "code",
      "metadata": {
        "id": "ezIEhSfechfS"
      },
      "source": [
        "import tensorflow_addons as tfa"
      ],
      "execution_count": 62,
      "outputs": []
    },
    {
      "cell_type": "code",
      "metadata": {
        "id": "pXklA82Nacy8"
      },
      "source": [
        "tf.keras.backend.set_image_data_format('channels_first')"
      ],
      "execution_count": 9,
      "outputs": []
    },
    {
      "cell_type": "code",
      "metadata": {
        "id": "KA-8kxs3F_Na",
        "colab": {
          "base_uri": "https://localhost:8080/"
        },
        "outputId": "b221ebea-2f07-46a6-8838-91ff68f3d35a"
      },
      "source": [
        "from tensorflow.keras.mixed_precision import experimental as mixed_precision\n",
        "policy = mixed_precision.Policy('mixed_float16')\n",
        "mixed_precision.set_policy(policy)"
      ],
      "execution_count": 10,
      "outputs": [
        {
          "output_type": "stream",
          "text": [
            "WARNING:tensorflow:Mixed precision compatibility check (mixed_float16): WARNING\n",
            "Your GPU may run slowly with dtype policy mixed_float16 because it does not have compute capability of at least 7.0. Your GPU:\n",
            "  Tesla P100-PCIE-16GB, compute capability 6.0\n",
            "See https://developer.nvidia.com/cuda-gpus for a list of GPUs and their compute capabilities.\n",
            "If you will use compatible GPU(s) not attached to this host, e.g. by running a multi-worker model, you can ignore this warning. This message will only be logged once\n",
            "WARNING:tensorflow:From /usr/local/lib/python3.7/dist-packages/tensorflow/python/keras/mixed_precision/loss_scale.py:56: DynamicLossScale.__init__ (from tensorflow.python.training.experimental.loss_scale) is deprecated and will be removed in a future version.\n",
            "Instructions for updating:\n",
            "Use tf.keras.mixed_precision.LossScaleOptimizer instead. LossScaleOptimizer now has all the functionality of DynamicLossScale\n"
          ],
          "name": "stdout"
        }
      ]
    },
    {
      "cell_type": "code",
      "metadata": {
        "id": "blVfKpHTIzAw"
      },
      "source": [
        "import preprocessing"
      ],
      "execution_count": 13,
      "outputs": []
    },
    {
      "cell_type": "code",
      "metadata": {
        "id": "0T3HHJJlExFr"
      },
      "source": [
        "preprocessing.img_height, preprocessing.img_width = 64, 64\n",
        "preprocessing.BATCH_SIZE = 512"
      ],
      "execution_count": 14,
      "outputs": []
    },
    {
      "cell_type": "code",
      "metadata": {
        "id": "TJR9YwMJUUaQ"
      },
      "source": [
        "# MOVE DATA LOADING TO FILES"
      ],
      "execution_count": 15,
      "outputs": []
    },
    {
      "cell_type": "code",
      "metadata": {
        "id": "N0V-TC4tOdzr"
      },
      "source": [
        "TRAIN_PATH = \"../tiny-imagenet-200/train/\"\n",
        "TEST_PATH = \"../tiny-imagenet-200/test/\"\n",
        "VAL_PATH = \"../tiny-imagenet-200/val/\""
      ],
      "execution_count": 16,
      "outputs": []
    },
    {
      "cell_type": "code",
      "metadata": {
        "id": "UZVuqDMKz9_F"
      },
      "source": [
        "AUTOTUNE = tf.data.AUTOTUNE"
      ],
      "execution_count": 17,
      "outputs": []
    },
    {
      "cell_type": "code",
      "metadata": {
        "id": "7k1gaCqwcPm3"
      },
      "source": [
        "preprocessing.class_names = np.array(sorted([fp.split('/')[-1] for fp in glob.glob(TRAIN_PATH+\"*\")]))"
      ],
      "execution_count": 21,
      "outputs": []
    },
    {
      "cell_type": "code",
      "metadata": {
        "id": "75V6qFuo99If"
      },
      "source": [
        "preprocessing.val_labels = {}\n",
        "with open(VAL_PATH+\"val_annotations.txt\") as fIn:\n",
        "    reader = csv.reader(fIn, delimiter='\\t')\n",
        "    for row in reader:\n",
        "        preprocessing.val_labels[row[0]] = row[1]"
      ],
      "execution_count": 22,
      "outputs": []
    },
    {
      "cell_type": "code",
      "metadata": {
        "id": "EOynOo4Rb2_I"
      },
      "source": [
        "train_list_ds = (\n",
        "    tf.data.Dataset.list_files(TRAIN_PATH+\"*/images/*\", shuffle=True)\n",
        "    .map(preprocessing.process_train_path, num_parallel_calls=AUTOTUNE)\n",
        "    .cache()\n",
        ")"
      ],
      "execution_count": 23,
      "outputs": []
    },
    {
      "cell_type": "code",
      "metadata": {
        "id": "HJ7QkS8T2Kg5"
      },
      "source": [
        "val_list_ds = (\n",
        "    tf.data.Dataset.list_files(VAL_PATH+\"images/*\")\n",
        "    .map(preprocessing.process_val_path, num_parallel_calls=AUTOTUNE)\n",
        "    .cache()\n",
        ")"
      ],
      "execution_count": 24,
      "outputs": []
    },
    {
      "cell_type": "code",
      "metadata": {
        "id": "_RFw_6JpFyNC"
      },
      "source": [
        "mean = []\n",
        "std = []\n",
        "for a,b in train_list_ds.take(1024):\n",
        "    mean.append(a.numpy())\n",
        "    std.append(a.numpy())\n",
        "mean = np.asarray(mean).mean(axis=(0,1,2)).reshape(1,3,1,1)\n",
        "std = np.asarray(std).std(axis=(0,1,2)).reshape(1,3,1,1)"
      ],
      "execution_count": 25,
      "outputs": []
    },
    {
      "cell_type": "code",
      "metadata": {
        "colab": {
          "base_uri": "https://localhost:8080/"
        },
        "id": "8Q4fgsU6G2im",
        "outputId": "271ea97c-efde-42ca-b913-ee29d976f764"
      },
      "source": [
        "mean.ravel(), std.ravel()"
      ],
      "execution_count": 26,
      "outputs": [
        {
          "output_type": "execute_result",
          "data": {
            "text/plain": [
              "(array([0.47682753, 0.45103166, 0.4013248 ], dtype=float32),\n",
              " array([0.2773205 , 0.26868924, 0.2811026 ], dtype=float32))"
            ]
          },
          "metadata": {
            "tags": []
          },
          "execution_count": 26
        }
      ]
    },
    {
      "cell_type": "code",
      "metadata": {
        "id": "P2QO5jISLB-W"
      },
      "source": [
        "mean = tf.convert_to_tensor(mean)\n",
        "std = tf.convert_to_tensor(std)"
      ],
      "execution_count": 27,
      "outputs": []
    },
    {
      "cell_type": "code",
      "metadata": {
        "id": "3XCn8N8wa_e7"
      },
      "source": [
        "augmentation_layers = preprocessing.get_augmentation_layers()"
      ],
      "execution_count": 29,
      "outputs": []
    },
    {
      "cell_type": "code",
      "metadata": {
        "id": "5qlqkGeMt1kX"
      },
      "source": [
        "train_ds = (\n",
        "    train_list_ds\n",
        "    .map(preprocessing.augment_wrapper, num_parallel_calls=AUTOTUNE)\n",
        "    .batch(preprocessing.BATCH_SIZE)\n",
        "    .map(lambda x, y: (augmentation_layers(x, training=True), y), num_parallel_calls=AUTOTUNE)\n",
        "    .map(lambda x, y: preprocessing.channel_first_and_normalize(x, y, mean, std), num_parallel_calls=AUTOTUNE)\n",
        "    .prefetch(AUTOTUNE)\n",
        ")"
      ],
      "execution_count": 31,
      "outputs": []
    },
    {
      "cell_type": "code",
      "metadata": {
        "id": "pn9eVO36Jk64"
      },
      "source": [
        "val_ds = (\n",
        "    val_list_ds\n",
        "    .batch(preprocessing.BATCH_SIZE)\n",
        "    .map(lambda x, y: preprocessing.channel_first_and_normalize(x, y, mean, std), num_parallel_calls=AUTOTUNE)\n",
        "    .prefetch(AUTOTUNE)\n",
        ")"
      ],
      "execution_count": 32,
      "outputs": []
    },
    {
      "cell_type": "code",
      "metadata": {
        "colab": {
          "base_uri": "https://localhost:8080/"
        },
        "id": "DBSmxgPeMxNf",
        "outputId": "ed258803-c596-44ec-d2a2-ed954d3558fe"
      },
      "source": [
        "a, b = next(iter(train_ds))\n",
        "a.shape"
      ],
      "execution_count": 33,
      "outputs": [
        {
          "output_type": "execute_result",
          "data": {
            "text/plain": [
              "TensorShape([128, 3, 64, 64])"
            ]
          },
          "metadata": {
            "tags": []
          },
          "execution_count": 33
        }
      ]
    },
    {
      "cell_type": "code",
      "metadata": {
        "colab": {
          "base_uri": "https://localhost:8080/",
          "height": 35
        },
        "id": "ZB4ZTQxbMxI1",
        "outputId": "9761dc70-cc7f-4364-a23c-b7126f051f4b"
      },
      "source": [
        "idx = np.random.randint(0,128)\n",
        "x = a.numpy()[idx]\n",
        "z = (x-x.min())/(x.max()-x.min())\n",
        "z = z.transpose(1,2,0)\n",
        "preprocessing.class_names[b[idx]]"
      ],
      "execution_count": 34,
      "outputs": [
        {
          "output_type": "execute_result",
          "data": {
            "application/vnd.google.colaboratory.intrinsic+json": {
              "type": "string"
            },
            "text/plain": [
              "'n04560804'"
            ]
          },
          "metadata": {
            "tags": []
          },
          "execution_count": 34
        }
      ]
    },
    {
      "cell_type": "code",
      "metadata": {
        "id": "ERq3KyCzfIAi",
        "colab": {
          "base_uri": "https://localhost:8080/",
          "height": 81
        },
        "outputId": "c17cf848-913f-4be2-9cab-f75807eb4f02"
      },
      "source": [
        "PIL.Image.fromarray((z*255).astype(np.uint8))"
      ],
      "execution_count": 35,
      "outputs": [
        {
          "output_type": "execute_result",
          "data": {
            "image/png": "[encoded data removed]",
            "text/plain": [
              "<PIL.Image.Image image mode=RGB size=64x64 at 0x7F417A03CC90>"
            ]
          },
          "metadata": {
            "tags": []
          },
          "execution_count": 35
        }
      ]
    },
    {
      "cell_type": "code",
      "metadata": {
        "id": "ieZR_Zwq5fZE"
      },
      "source": [
        "class AttributeDict(dict):\n",
        "    __slots__ = () \n",
        "    __getattr__ = dict.__getitem__\n",
        "    __setattr__ = dict.__setitem__"
      ],
      "execution_count": 65,
      "outputs": []
    },
    {
      "cell_type": "code",
      "metadata": {
        "id": "IKexFaR-GJ6A"
      },
      "source": [
        "config_defaults = {\n",
        "    'activation'            : 'leaky_relu',\n",
        "    'dp_rate'               : 0.2,\n",
        "    'batch_size'            : preprocessing.BATCH_SIZE,\n",
        "    'norm'                  : 'bn',\n",
        "    'self_attn'             : True,\n",
        "    'frac_dk'               : 0.5,\n",
        "    'frac_dv'               : 0.25,\n",
        "    'pos_emb'               : True,\n",
        "    'optimizer'             : 'adamw',\n",
        "    'min_lr'                : 1e-5,\n",
        "    'max_lr'                : 1e-3,\n",
        "    'weight_decay'          : 1e-4,     #maximum\n",
        "    'vary_weight_decay'     : True,\n",
        "    'clr_step_size'         : 8,\n",
        "    'loss_function'         : 'cce',\n",
        "}"
      ],
      "execution_count": 64,
      "outputs": []
    },
    {
      "cell_type": "code",
      "metadata": {
        "id": "bTdSfqgL52JZ"
      },
      "source": [
        "CONFIG = AttributeDict(config_defaults)"
      ],
      "execution_count": 66,
      "outputs": []
    },
    {
      "cell_type": "code",
      "metadata": {
        "id": "SgMX_ZXm4JPO"
      },
      "source": [
        "import conv_utils"
      ],
      "execution_count": 40,
      "outputs": []
    },
    {
      "cell_type": "code",
      "metadata": {
        "id": "aPugCFtx4JMp"
      },
      "source": [
        "conv_utils.CONFIG = CONFIG"
      ],
      "execution_count": 41,
      "outputs": []
    },
    {
      "cell_type": "code",
      "metadata": {
        "id": "lchAuU1s4JKO"
      },
      "source": [
        "inp = layers.Input(shape=(3,preprocessing.img_height, preprocessing.img_width))"
      ],
      "execution_count": 50,
      "outputs": []
    },
    {
      "cell_type": "code",
      "metadata": {
        "id": "n06t0Tyt78g1"
      },
      "source": [
        "x = conv_utils.conv_norm(inp, 8, kernel_size=5, strides=1, activation=CONFIG.activation)\n",
        "x = conv_utils.conv_norm(x, 32, kernel_size=3, strides=2, activation=CONFIG.activation,\n",
        "                    do_norm_act=False)"
      ],
      "execution_count": 51,
      "outputs": []
    },
    {
      "cell_type": "code",
      "metadata": {
        "id": "n1JHkNIt4JIH"
      },
      "source": [
        "x = conv_utils.down_stack(x, fltrs=[ 8,16,16], self_attn=False, dp_rate=CONFIG.dp_rate)   # (64, 16, 16)\n",
        "x = conv_utils.down_stack(x, fltrs=[16,32,32], self_attn=[False, True, True], dp_rate=CONFIG.dp_rate)   # (128, 8, 8)\n",
        "x = conv_utils.down_stack(x, fltrs=[32,64,64], self_attn=True, dp_rate=CONFIG.dp_rate)   # (256, 4, 4)"
      ],
      "execution_count": 52,
      "outputs": []
    },
    {
      "cell_type": "code",
      "metadata": {
        "id": "q7kCNvw4D-bk"
      },
      "source": [
        "x = conv_utils.conv_norm(x, 512, kernel_size=3, strides=1, activation=CONFIG.activation)\n",
        "x = layers.GlobalAveragePooling2D(data_format=\"channels_first\")(x)\n",
        "if CONFIG.dp_rate:\n",
        "    x = layers.Dropout(CONFIG.dp_rate)(x)\n",
        "x = layers.Dense(len(preprocessing.class_names))(x)\n",
        "x = layers.Softmax(axis=1)(x)"
      ],
      "execution_count": 53,
      "outputs": []
    },
    {
      "cell_type": "code",
      "metadata": {
        "colab": {
          "base_uri": "https://localhost:8080/"
        },
        "id": "Dw9aIc5c4JFQ",
        "outputId": "e947b5c3-0b7f-48c0-dc6b-778fc6604295"
      },
      "source": [
        "model = tf.keras.Model(inputs=inp, outputs=x)\n",
        "model.summary()"
      ],
      "execution_count": 54,
      "outputs": [
        {
          "output_type": "stream",
          "text": [
            "Model: \"model_1\"\n",
            "__________________________________________________________________________________________________\n",
            "Layer (type)                    Output Shape         Param #     Connected to                     \n",
            "==================================================================================================\n",
            "input_2 (InputLayer)            [(None, 3, 64, 64)]  0                                            \n",
            "__________________________________________________________________________________________________\n",
            "conv2d_46 (Conv2D)              (None, 8, 64, 64)    608         input_2[0][0]                    \n",
            "__________________________________________________________________________________________________\n",
            "batch_normalization_29 (BatchNo (None, 8, 64, 64)    32          conv2d_46[0][0]                  \n",
            "__________________________________________________________________________________________________\n",
            "activation_29 (Activation)      (None, 8, 64, 64)    0           batch_normalization_29[0][0]     \n",
            "__________________________________________________________________________________________________\n",
            "conv2d_47 (Conv2D)              (None, 32, 32, 32)   2336        activation_29[0][0]              \n",
            "__________________________________________________________________________________________________\n",
            "batch_normalization_30 (BatchNo (None, 32, 32, 32)   128         conv2d_47[0][0]                  \n",
            "__________________________________________________________________________________________________\n",
            "activation_30 (Activation)      (None, 32, 32, 32)   0           batch_normalization_30[0][0]     \n",
            "__________________________________________________________________________________________________\n",
            "conv2d_48 (Conv2D)              (None, 8, 32, 32)    264         activation_30[0][0]              \n",
            "__________________________________________________________________________________________________\n",
            "batch_normalization_31 (BatchNo (None, 8, 32, 32)    32          conv2d_48[0][0]                  \n",
            "__________________________________________________________________________________________________\n",
            "activation_31 (Activation)      (None, 8, 32, 32)    0           batch_normalization_31[0][0]     \n",
            "__________________________________________________________________________________________________\n",
            "conv2d_49 (Conv2D)              (None, 8, 16, 16)    584         activation_31[0][0]              \n",
            "__________________________________________________________________________________________________\n",
            "batch_normalization_32 (BatchNo (None, 8, 16, 16)    32          conv2d_49[0][0]                  \n",
            "__________________________________________________________________________________________________\n",
            "activation_32 (Activation)      (None, 8, 16, 16)    0           batch_normalization_32[0][0]     \n",
            "__________________________________________________________________________________________________\n",
            "conv2d_50 (Conv2D)              (None, 32, 16, 16)   288         activation_32[0][0]              \n",
            "__________________________________________________________________________________________________\n",
            "squeeze_attention2d_9 (SqueezeA (None, 32, 16, 16)   552         conv2d_50[0][0]                  \n",
            "__________________________________________________________________________________________________\n",
            "max_pooling2d_3 (MaxPooling2D)  (None, 32, 16, 16)   0           conv2d_47[0][0]                  \n",
            "__________________________________________________________________________________________________\n",
            "dropout_10 (Dropout)            (None, 32, 16, 16)   0           squeeze_attention2d_9[0][0]      \n",
            "__________________________________________________________________________________________________\n",
            "add_9 (Add)                     (None, 32, 16, 16)   0           max_pooling2d_3[0][0]            \n",
            "                                                                 dropout_10[0][0]                 \n",
            "__________________________________________________________________________________________________\n",
            "batch_normalization_33 (BatchNo (None, 32, 16, 16)   128         add_9[0][0]                      \n",
            "__________________________________________________________________________________________________\n",
            "activation_33 (Activation)      (None, 32, 16, 16)   0           batch_normalization_33[0][0]     \n",
            "__________________________________________________________________________________________________\n",
            "conv2d_52 (Conv2D)              (None, 16, 16, 16)   528         activation_33[0][0]              \n",
            "__________________________________________________________________________________________________\n",
            "batch_normalization_34 (BatchNo (None, 16, 16, 16)   64          conv2d_52[0][0]                  \n",
            "__________________________________________________________________________________________________\n",
            "activation_34 (Activation)      (None, 16, 16, 16)   0           batch_normalization_34[0][0]     \n",
            "__________________________________________________________________________________________________\n",
            "conv2d_53 (Conv2D)              (None, 16, 16, 16)   2320        activation_34[0][0]              \n",
            "__________________________________________________________________________________________________\n",
            "batch_normalization_35 (BatchNo (None, 16, 16, 16)   64          conv2d_53[0][0]                  \n",
            "__________________________________________________________________________________________________\n",
            "activation_35 (Activation)      (None, 16, 16, 16)   0           batch_normalization_35[0][0]     \n",
            "__________________________________________________________________________________________________\n",
            "conv2d_54 (Conv2D)              (None, 64, 16, 16)   1088        activation_35[0][0]              \n",
            "__________________________________________________________________________________________________\n",
            "squeeze_attention2d_10 (Squeeze (None, 64, 16, 16)   2128        conv2d_54[0][0]                  \n",
            "__________________________________________________________________________________________________\n",
            "conv2d_51 (Conv2D)              (None, 64, 16, 16)   2112        activation_33[0][0]              \n",
            "__________________________________________________________________________________________________\n",
            "dropout_11 (Dropout)            (None, 64, 16, 16)   0           squeeze_attention2d_10[0][0]     \n",
            "__________________________________________________________________________________________________\n",
            "add_10 (Add)                    (None, 64, 16, 16)   0           conv2d_51[0][0]                  \n",
            "                                                                 dropout_11[0][0]                 \n",
            "__________________________________________________________________________________________________\n",
            "batch_normalization_36 (BatchNo (None, 64, 16, 16)   256         add_10[0][0]                     \n",
            "__________________________________________________________________________________________________\n",
            "activation_36 (Activation)      (None, 64, 16, 16)   0           batch_normalization_36[0][0]     \n",
            "__________________________________________________________________________________________________\n",
            "conv2d_56 (Conv2D)              (None, 16, 16, 16)   1040        activation_36[0][0]              \n",
            "__________________________________________________________________________________________________\n",
            "batch_normalization_37 (BatchNo (None, 16, 16, 16)   64          conv2d_56[0][0]                  \n",
            "__________________________________________________________________________________________________\n",
            "activation_37 (Activation)      (None, 16, 16, 16)   0           batch_normalization_37[0][0]     \n",
            "__________________________________________________________________________________________________\n",
            "conv2d_57 (Conv2D)              (None, 16, 16, 16)   2320        activation_37[0][0]              \n",
            "__________________________________________________________________________________________________\n",
            "batch_normalization_38 (BatchNo (None, 16, 16, 16)   64          conv2d_57[0][0]                  \n",
            "__________________________________________________________________________________________________\n",
            "activation_38 (Activation)      (None, 16, 16, 16)   0           batch_normalization_38[0][0]     \n",
            "__________________________________________________________________________________________________\n",
            "conv2d_58 (Conv2D)              (None, 64, 16, 16)   1088        activation_38[0][0]              \n",
            "__________________________________________________________________________________________________\n",
            "squeeze_attention2d_11 (Squeeze (None, 64, 16, 16)   2128        conv2d_58[0][0]                  \n",
            "__________________________________________________________________________________________________\n",
            "conv2d_55 (Conv2D)              (None, 64, 16, 16)   4160        activation_36[0][0]              \n",
            "__________________________________________________________________________________________________\n",
            "dropout_12 (Dropout)            (None, 64, 16, 16)   0           squeeze_attention2d_11[0][0]     \n",
            "__________________________________________________________________________________________________\n",
            "add_11 (Add)                    (None, 64, 16, 16)   0           conv2d_55[0][0]                  \n",
            "                                                                 dropout_12[0][0]                 \n",
            "__________________________________________________________________________________________________\n",
            "batch_normalization_39 (BatchNo (None, 64, 16, 16)   256         add_11[0][0]                     \n",
            "__________________________________________________________________________________________________\n",
            "activation_39 (Activation)      (None, 64, 16, 16)   0           batch_normalization_39[0][0]     \n",
            "__________________________________________________________________________________________________\n",
            "conv2d_59 (Conv2D)              (None, 16, 16, 16)   1040        activation_39[0][0]              \n",
            "__________________________________________________________________________________________________\n",
            "batch_normalization_40 (BatchNo (None, 16, 16, 16)   64          conv2d_59[0][0]                  \n",
            "__________________________________________________________________________________________________\n",
            "activation_40 (Activation)      (None, 16, 16, 16)   0           batch_normalization_40[0][0]     \n",
            "__________________________________________________________________________________________________\n",
            "conv2d_60 (Conv2D)              (None, 16, 8, 8)     2320        activation_40[0][0]              \n",
            "__________________________________________________________________________________________________\n",
            "batch_normalization_41 (BatchNo (None, 16, 8, 8)     64          conv2d_60[0][0]                  \n",
            "__________________________________________________________________________________________________\n",
            "activation_41 (Activation)      (None, 16, 8, 8)     0           batch_normalization_41[0][0]     \n",
            "__________________________________________________________________________________________________\n",
            "conv2d_61 (Conv2D)              (None, 64, 8, 8)     1088        activation_41[0][0]              \n",
            "__________________________________________________________________________________________________\n",
            "squeeze_attention2d_12 (Squeeze (None, 64, 8, 8)     2128        conv2d_61[0][0]                  \n",
            "__________________________________________________________________________________________________\n",
            "max_pooling2d_4 (MaxPooling2D)  (None, 64, 8, 8)     0           add_11[0][0]                     \n",
            "__________________________________________________________________________________________________\n",
            "dropout_13 (Dropout)            (None, 64, 8, 8)     0           squeeze_attention2d_12[0][0]     \n",
            "__________________________________________________________________________________________________\n",
            "add_12 (Add)                    (None, 64, 8, 8)     0           max_pooling2d_4[0][0]            \n",
            "                                                                 dropout_13[0][0]                 \n",
            "__________________________________________________________________________________________________\n",
            "batch_normalization_42 (BatchNo (None, 64, 8, 8)     256         add_12[0][0]                     \n",
            "__________________________________________________________________________________________________\n",
            "activation_42 (Activation)      (None, 64, 8, 8)     0           batch_normalization_42[0][0]     \n",
            "__________________________________________________________________________________________________\n",
            "conv2d_63 (Conv2D)              (None, 32, 8, 8)     2080        activation_42[0][0]              \n",
            "__________________________________________________________________________________________________\n",
            "batch_normalization_43 (BatchNo (None, 32, 8, 8)     128         conv2d_63[0][0]                  \n",
            "__________________________________________________________________________________________________\n",
            "activation_43 (Activation)      (None, 32, 8, 8)     0           batch_normalization_43[0][0]     \n",
            "__________________________________________________________________________________________________\n",
            "conv2d_65 (Conv2D)              (None, 40, 8, 8)     1320        activation_43[0][0]              \n",
            "__________________________________________________________________________________________________\n",
            "tf.split_5 (TFOpLambda)         [(None, 16, 8, 8), ( 0           conv2d_65[0][0]                  \n",
            "__________________________________________________________________________________________________\n",
            "lambda_5 (Lambda)               (None, 16, 8, 8)     0           tf.split_5[0][1]                 \n",
            "__________________________________________________________________________________________________\n",
            "reshape_20 (Reshape)            (None, 8, 2, 64)     0           tf.split_5[0][0]                 \n",
            "__________________________________________________________________________________________________\n",
            "reshape_21 (Reshape)            (None, 8, 2, 64)     0           lambda_5[0][0]                   \n",
            "__________________________________________________________________________________________________\n",
            "mat_mul_layer_10 (MatMulLayer)  (None, 8, 64, 64)    0           reshape_20[0][0]                 \n",
            "                                                                 reshape_21[0][0]                 \n",
            "__________________________________________________________________________________________________\n",
            "add_positional_embeddings_5 (Ad (None, 8, 64, 64)    128         mat_mul_layer_10[0][0]           \n",
            "__________________________________________________________________________________________________\n",
            "reshape_22 (Reshape)            (None, 8, 1, 64)     0           tf.split_5[0][2]                 \n",
            "__________________________________________________________________________________________________\n",
            "softmax_5 (Softmax)             (None, 8, 64, 64)    0           add_positional_embeddings_5[0][0]\n",
            "__________________________________________________________________________________________________\n",
            "mat_mul_layer_11 (MatMulLayer)  (None, 8, 1, 64)     0           reshape_22[0][0]                 \n",
            "                                                                 softmax_5[0][0]                  \n",
            "__________________________________________________________________________________________________\n",
            "reshape_23 (Reshape)            (None, 8, 8, 8)      0           mat_mul_layer_11[0][0]           \n",
            "__________________________________________________________________________________________________\n",
            "conv2d_66 (Conv2D)              (None, 8, 8, 8)      72          reshape_23[0][0]                 \n",
            "__________________________________________________________________________________________________\n",
            "conv2d_64 (Conv2D)              (None, 24, 8, 8)     6936        activation_43[0][0]              \n",
            "__________________________________________________________________________________________________\n",
            "concatenate_5 (Concatenate)     (None, 32, 8, 8)     0           conv2d_66[0][0]                  \n",
            "                                                                 conv2d_64[0][0]                  \n",
            "__________________________________________________________________________________________________\n",
            "batch_normalization_44 (BatchNo (None, 32, 8, 8)     128         concatenate_5[0][0]              \n",
            "__________________________________________________________________________________________________\n",
            "activation_44 (Activation)      (None, 32, 8, 8)     0           batch_normalization_44[0][0]     \n",
            "__________________________________________________________________________________________________\n",
            "conv2d_67 (Conv2D)              (None, 128, 8, 8)    4224        activation_44[0][0]              \n",
            "__________________________________________________________________________________________________\n",
            "squeeze_attention2d_13 (Squeeze (None, 128, 8, 8)    8352        conv2d_67[0][0]                  \n",
            "__________________________________________________________________________________________________\n",
            "conv2d_62 (Conv2D)              (None, 128, 8, 8)    8320        activation_42[0][0]              \n",
            "__________________________________________________________________________________________________\n",
            "dropout_14 (Dropout)            (None, 128, 8, 8)    0           squeeze_attention2d_13[0][0]     \n",
            "__________________________________________________________________________________________________\n",
            "add_13 (Add)                    (None, 128, 8, 8)    0           conv2d_62[0][0]                  \n",
            "                                                                 dropout_14[0][0]                 \n",
            "__________________________________________________________________________________________________\n",
            "batch_normalization_45 (BatchNo (None, 128, 8, 8)    512         add_13[0][0]                     \n",
            "__________________________________________________________________________________________________\n",
            "activation_45 (Activation)      (None, 128, 8, 8)    0           batch_normalization_45[0][0]     \n",
            "__________________________________________________________________________________________________\n",
            "conv2d_69 (Conv2D)              (None, 32, 8, 8)     4128        activation_45[0][0]              \n",
            "__________________________________________________________________________________________________\n",
            "batch_normalization_46 (BatchNo (None, 32, 8, 8)     128         conv2d_69[0][0]                  \n",
            "__________________________________________________________________________________________________\n",
            "activation_46 (Activation)      (None, 32, 8, 8)     0           batch_normalization_46[0][0]     \n",
            "__________________________________________________________________________________________________\n",
            "conv2d_71 (Conv2D)              (None, 40, 8, 8)     1320        activation_46[0][0]              \n",
            "__________________________________________________________________________________________________\n",
            "tf.split_6 (TFOpLambda)         [(None, 16, 8, 8), ( 0           conv2d_71[0][0]                  \n",
            "__________________________________________________________________________________________________\n",
            "lambda_6 (Lambda)               (None, 16, 8, 8)     0           tf.split_6[0][1]                 \n",
            "__________________________________________________________________________________________________\n",
            "reshape_24 (Reshape)            (None, 8, 2, 64)     0           tf.split_6[0][0]                 \n",
            "__________________________________________________________________________________________________\n",
            "reshape_25 (Reshape)            (None, 8, 2, 64)     0           lambda_6[0][0]                   \n",
            "__________________________________________________________________________________________________\n",
            "mat_mul_layer_12 (MatMulLayer)  (None, 8, 64, 64)    0           reshape_24[0][0]                 \n",
            "                                                                 reshape_25[0][0]                 \n",
            "__________________________________________________________________________________________________\n",
            "add_positional_embeddings_6 (Ad (None, 8, 64, 64)    128         mat_mul_layer_12[0][0]           \n",
            "__________________________________________________________________________________________________\n",
            "reshape_26 (Reshape)            (None, 8, 1, 64)     0           tf.split_6[0][2]                 \n",
            "__________________________________________________________________________________________________\n",
            "softmax_6 (Softmax)             (None, 8, 64, 64)    0           add_positional_embeddings_6[0][0]\n",
            "__________________________________________________________________________________________________\n",
            "mat_mul_layer_13 (MatMulLayer)  (None, 8, 1, 64)     0           reshape_26[0][0]                 \n",
            "                                                                 softmax_6[0][0]                  \n",
            "__________________________________________________________________________________________________\n",
            "reshape_27 (Reshape)            (None, 8, 8, 8)      0           mat_mul_layer_13[0][0]           \n",
            "__________________________________________________________________________________________________\n",
            "conv2d_72 (Conv2D)              (None, 8, 8, 8)      72          reshape_27[0][0]                 \n",
            "__________________________________________________________________________________________________\n",
            "conv2d_70 (Conv2D)              (None, 24, 8, 8)     6936        activation_46[0][0]              \n",
            "__________________________________________________________________________________________________\n",
            "concatenate_6 (Concatenate)     (None, 32, 8, 8)     0           conv2d_72[0][0]                  \n",
            "                                                                 conv2d_70[0][0]                  \n",
            "__________________________________________________________________________________________________\n",
            "batch_normalization_47 (BatchNo (None, 32, 8, 8)     128         concatenate_6[0][0]              \n",
            "__________________________________________________________________________________________________\n",
            "activation_47 (Activation)      (None, 32, 8, 8)     0           batch_normalization_47[0][0]     \n",
            "__________________________________________________________________________________________________\n",
            "conv2d_73 (Conv2D)              (None, 128, 8, 8)    4224        activation_47[0][0]              \n",
            "__________________________________________________________________________________________________\n",
            "squeeze_attention2d_14 (Squeeze (None, 128, 8, 8)    8352        conv2d_73[0][0]                  \n",
            "__________________________________________________________________________________________________\n",
            "conv2d_68 (Conv2D)              (None, 128, 8, 8)    16512       activation_45[0][0]              \n",
            "__________________________________________________________________________________________________\n",
            "dropout_15 (Dropout)            (None, 128, 8, 8)    0           squeeze_attention2d_14[0][0]     \n",
            "__________________________________________________________________________________________________\n",
            "add_14 (Add)                    (None, 128, 8, 8)    0           conv2d_68[0][0]                  \n",
            "                                                                 dropout_15[0][0]                 \n",
            "__________________________________________________________________________________________________\n",
            "batch_normalization_48 (BatchNo (None, 128, 8, 8)    512         add_14[0][0]                     \n",
            "__________________________________________________________________________________________________\n",
            "activation_48 (Activation)      (None, 128, 8, 8)    0           batch_normalization_48[0][0]     \n",
            "__________________________________________________________________________________________________\n",
            "conv2d_74 (Conv2D)              (None, 32, 8, 8)     4128        activation_48[0][0]              \n",
            "__________________________________________________________________________________________________\n",
            "batch_normalization_49 (BatchNo (None, 32, 8, 8)     128         conv2d_74[0][0]                  \n",
            "__________________________________________________________________________________________________\n",
            "activation_49 (Activation)      (None, 32, 8, 8)     0           batch_normalization_49[0][0]     \n",
            "__________________________________________________________________________________________________\n",
            "average_pooling2d_1 (AveragePoo (None, 32, 4, 4)     0           activation_49[0][0]              \n",
            "__________________________________________________________________________________________________\n",
            "conv2d_76 (Conv2D)              (None, 40, 4, 4)     1320        average_pooling2d_1[0][0]        \n",
            "__________________________________________________________________________________________________\n",
            "tf.split_7 (TFOpLambda)         [(None, 16, 4, 4), ( 0           conv2d_76[0][0]                  \n",
            "__________________________________________________________________________________________________\n",
            "lambda_7 (Lambda)               (None, 16, 4, 4)     0           tf.split_7[0][1]                 \n",
            "__________________________________________________________________________________________________\n",
            "reshape_28 (Reshape)            (None, 8, 2, 16)     0           tf.split_7[0][0]                 \n",
            "__________________________________________________________________________________________________\n",
            "reshape_29 (Reshape)            (None, 8, 2, 16)     0           lambda_7[0][0]                   \n",
            "__________________________________________________________________________________________________\n",
            "mat_mul_layer_14 (MatMulLayer)  (None, 8, 16, 16)    0           reshape_28[0][0]                 \n",
            "                                                                 reshape_29[0][0]                 \n",
            "__________________________________________________________________________________________________\n",
            "add_positional_embeddings_7 (Ad (None, 8, 16, 16)    32          mat_mul_layer_14[0][0]           \n",
            "__________________________________________________________________________________________________\n",
            "reshape_30 (Reshape)            (None, 8, 1, 16)     0           tf.split_7[0][2]                 \n",
            "__________________________________________________________________________________________________\n",
            "softmax_7 (Softmax)             (None, 8, 16, 16)    0           add_positional_embeddings_7[0][0]\n",
            "__________________________________________________________________________________________________\n",
            "mat_mul_layer_15 (MatMulLayer)  (None, 8, 1, 16)     0           reshape_30[0][0]                 \n",
            "                                                                 softmax_7[0][0]                  \n",
            "__________________________________________________________________________________________________\n",
            "reshape_31 (Reshape)            (None, 8, 4, 4)      0           mat_mul_layer_15[0][0]           \n",
            "__________________________________________________________________________________________________\n",
            "conv2d_77 (Conv2D)              (None, 8, 4, 4)      72          reshape_31[0][0]                 \n",
            "__________________________________________________________________________________________________\n",
            "conv2d_75 (Conv2D)              (None, 24, 4, 4)     6936        activation_49[0][0]              \n",
            "__________________________________________________________________________________________________\n",
            "concatenate_7 (Concatenate)     (None, 32, 4, 4)     0           conv2d_77[0][0]                  \n",
            "                                                                 conv2d_75[0][0]                  \n",
            "__________________________________________________________________________________________________\n",
            "batch_normalization_50 (BatchNo (None, 32, 4, 4)     128         concatenate_7[0][0]              \n",
            "__________________________________________________________________________________________________\n",
            "activation_50 (Activation)      (None, 32, 4, 4)     0           batch_normalization_50[0][0]     \n",
            "__________________________________________________________________________________________________\n",
            "conv2d_78 (Conv2D)              (None, 128, 4, 4)    4224        activation_50[0][0]              \n",
            "__________________________________________________________________________________________________\n",
            "squeeze_attention2d_15 (Squeeze (None, 128, 4, 4)    8352        conv2d_78[0][0]                  \n",
            "__________________________________________________________________________________________________\n",
            "max_pooling2d_5 (MaxPooling2D)  (None, 128, 4, 4)    0           add_14[0][0]                     \n",
            "__________________________________________________________________________________________________\n",
            "dropout_16 (Dropout)            (None, 128, 4, 4)    0           squeeze_attention2d_15[0][0]     \n",
            "__________________________________________________________________________________________________\n",
            "add_15 (Add)                    (None, 128, 4, 4)    0           max_pooling2d_5[0][0]            \n",
            "                                                                 dropout_16[0][0]                 \n",
            "__________________________________________________________________________________________________\n",
            "batch_normalization_51 (BatchNo (None, 128, 4, 4)    512         add_15[0][0]                     \n",
            "__________________________________________________________________________________________________\n",
            "activation_51 (Activation)      (None, 128, 4, 4)    0           batch_normalization_51[0][0]     \n",
            "__________________________________________________________________________________________________\n",
            "conv2d_80 (Conv2D)              (None, 64, 4, 4)     8256        activation_51[0][0]              \n",
            "__________________________________________________________________________________________________\n",
            "batch_normalization_52 (BatchNo (None, 64, 4, 4)     256         conv2d_80[0][0]                  \n",
            "__________________________________________________________________________________________________\n",
            "activation_52 (Activation)      (None, 64, 4, 4)     0           batch_normalization_52[0][0]     \n",
            "__________________________________________________________________________________________________\n",
            "conv2d_82 (Conv2D)              (None, 80, 4, 4)     5200        activation_52[0][0]              \n",
            "__________________________________________________________________________________________________\n",
            "tf.split_8 (TFOpLambda)         [(None, 32, 4, 4), ( 0           conv2d_82[0][0]                  \n",
            "__________________________________________________________________________________________________\n",
            "lambda_8 (Lambda)               (None, 32, 4, 4)     0           tf.split_8[0][1]                 \n",
            "__________________________________________________________________________________________________\n",
            "reshape_32 (Reshape)            (None, 8, 4, 16)     0           tf.split_8[0][0]                 \n",
            "__________________________________________________________________________________________________\n",
            "reshape_33 (Reshape)            (None, 8, 4, 16)     0           lambda_8[0][0]                   \n",
            "__________________________________________________________________________________________________\n",
            "mat_mul_layer_16 (MatMulLayer)  (None, 8, 16, 16)    0           reshape_32[0][0]                 \n",
            "                                                                 reshape_33[0][0]                 \n",
            "__________________________________________________________________________________________________\n",
            "add_positional_embeddings_8 (Ad (None, 8, 16, 16)    32          mat_mul_layer_16[0][0]           \n",
            "__________________________________________________________________________________________________\n",
            "reshape_34 (Reshape)            (None, 8, 2, 16)     0           tf.split_8[0][2]                 \n",
            "__________________________________________________________________________________________________\n",
            "softmax_8 (Softmax)             (None, 8, 16, 16)    0           add_positional_embeddings_8[0][0]\n",
            "__________________________________________________________________________________________________\n",
            "mat_mul_layer_17 (MatMulLayer)  (None, 8, 2, 16)     0           reshape_34[0][0]                 \n",
            "                                                                 softmax_8[0][0]                  \n",
            "__________________________________________________________________________________________________\n",
            "reshape_35 (Reshape)            (None, 16, 4, 4)     0           mat_mul_layer_17[0][0]           \n",
            "__________________________________________________________________________________________________\n",
            "conv2d_83 (Conv2D)              (None, 16, 4, 4)     272         reshape_35[0][0]                 \n",
            "__________________________________________________________________________________________________\n",
            "conv2d_81 (Conv2D)              (None, 48, 4, 4)     27696       activation_52[0][0]              \n",
            "__________________________________________________________________________________________________\n",
            "concatenate_8 (Concatenate)     (None, 64, 4, 4)     0           conv2d_83[0][0]                  \n",
            "                                                                 conv2d_81[0][0]                  \n",
            "__________________________________________________________________________________________________\n",
            "batch_normalization_53 (BatchNo (None, 64, 4, 4)     256         concatenate_8[0][0]              \n",
            "__________________________________________________________________________________________________\n",
            "activation_53 (Activation)      (None, 64, 4, 4)     0           batch_normalization_53[0][0]     \n",
            "__________________________________________________________________________________________________\n",
            "conv2d_84 (Conv2D)              (None, 256, 4, 4)    16640       activation_53[0][0]              \n",
            "__________________________________________________________________________________________________\n",
            "squeeze_attention2d_16 (Squeeze (None, 256, 4, 4)    33088       conv2d_84[0][0]                  \n",
            "__________________________________________________________________________________________________\n",
            "conv2d_79 (Conv2D)              (None, 256, 4, 4)    33024       activation_51[0][0]              \n",
            "__________________________________________________________________________________________________\n",
            "dropout_17 (Dropout)            (None, 256, 4, 4)    0           squeeze_attention2d_16[0][0]     \n",
            "__________________________________________________________________________________________________\n",
            "add_16 (Add)                    (None, 256, 4, 4)    0           conv2d_79[0][0]                  \n",
            "                                                                 dropout_17[0][0]                 \n",
            "__________________________________________________________________________________________________\n",
            "batch_normalization_54 (BatchNo (None, 256, 4, 4)    1024        add_16[0][0]                     \n",
            "__________________________________________________________________________________________________\n",
            "activation_54 (Activation)      (None, 256, 4, 4)    0           batch_normalization_54[0][0]     \n",
            "__________________________________________________________________________________________________\n",
            "conv2d_86 (Conv2D)              (None, 64, 4, 4)     16448       activation_54[0][0]              \n",
            "__________________________________________________________________________________________________\n",
            "batch_normalization_55 (BatchNo (None, 64, 4, 4)     256         conv2d_86[0][0]                  \n",
            "__________________________________________________________________________________________________\n",
            "activation_55 (Activation)      (None, 64, 4, 4)     0           batch_normalization_55[0][0]     \n",
            "__________________________________________________________________________________________________\n",
            "conv2d_88 (Conv2D)              (None, 80, 4, 4)     5200        activation_55[0][0]              \n",
            "__________________________________________________________________________________________________\n",
            "tf.split_9 (TFOpLambda)         [(None, 32, 4, 4), ( 0           conv2d_88[0][0]                  \n",
            "__________________________________________________________________________________________________\n",
            "lambda_9 (Lambda)               (None, 32, 4, 4)     0           tf.split_9[0][1]                 \n",
            "__________________________________________________________________________________________________\n",
            "reshape_36 (Reshape)            (None, 8, 4, 16)     0           tf.split_9[0][0]                 \n",
            "__________________________________________________________________________________________________\n",
            "reshape_37 (Reshape)            (None, 8, 4, 16)     0           lambda_9[0][0]                   \n",
            "__________________________________________________________________________________________________\n",
            "mat_mul_layer_18 (MatMulLayer)  (None, 8, 16, 16)    0           reshape_36[0][0]                 \n",
            "                                                                 reshape_37[0][0]                 \n",
            "__________________________________________________________________________________________________\n",
            "add_positional_embeddings_9 (Ad (None, 8, 16, 16)    32          mat_mul_layer_18[0][0]           \n",
            "__________________________________________________________________________________________________\n",
            "reshape_38 (Reshape)            (None, 8, 2, 16)     0           tf.split_9[0][2]                 \n",
            "__________________________________________________________________________________________________\n",
            "softmax_9 (Softmax)             (None, 8, 16, 16)    0           add_positional_embeddings_9[0][0]\n",
            "__________________________________________________________________________________________________\n",
            "mat_mul_layer_19 (MatMulLayer)  (None, 8, 2, 16)     0           reshape_38[0][0]                 \n",
            "                                                                 softmax_9[0][0]                  \n",
            "__________________________________________________________________________________________________\n",
            "reshape_39 (Reshape)            (None, 16, 4, 4)     0           mat_mul_layer_19[0][0]           \n",
            "__________________________________________________________________________________________________\n",
            "conv2d_89 (Conv2D)              (None, 16, 4, 4)     272         reshape_39[0][0]                 \n",
            "__________________________________________________________________________________________________\n",
            "conv2d_87 (Conv2D)              (None, 48, 4, 4)     27696       activation_55[0][0]              \n",
            "__________________________________________________________________________________________________\n",
            "concatenate_9 (Concatenate)     (None, 64, 4, 4)     0           conv2d_89[0][0]                  \n",
            "                                                                 conv2d_87[0][0]                  \n",
            "__________________________________________________________________________________________________\n",
            "batch_normalization_56 (BatchNo (None, 64, 4, 4)     256         concatenate_9[0][0]              \n",
            "__________________________________________________________________________________________________\n",
            "activation_56 (Activation)      (None, 64, 4, 4)     0           batch_normalization_56[0][0]     \n",
            "__________________________________________________________________________________________________\n",
            "conv2d_90 (Conv2D)              (None, 256, 4, 4)    16640       activation_56[0][0]              \n",
            "__________________________________________________________________________________________________\n",
            "squeeze_attention2d_17 (Squeeze (None, 256, 4, 4)    33088       conv2d_90[0][0]                  \n",
            "__________________________________________________________________________________________________\n",
            "conv2d_85 (Conv2D)              (None, 256, 4, 4)    65792       activation_54[0][0]              \n",
            "__________________________________________________________________________________________________\n",
            "dropout_18 (Dropout)            (None, 256, 4, 4)    0           squeeze_attention2d_17[0][0]     \n",
            "__________________________________________________________________________________________________\n",
            "add_17 (Add)                    (None, 256, 4, 4)    0           conv2d_85[0][0]                  \n",
            "                                                                 dropout_18[0][0]                 \n",
            "__________________________________________________________________________________________________\n",
            "conv2d_91 (Conv2D)              (None, 512, 4, 4)    1180160     add_17[0][0]                     \n",
            "__________________________________________________________________________________________________\n",
            "batch_normalization_57 (BatchNo (None, 512, 4, 4)    2048        conv2d_91[0][0]                  \n",
            "__________________________________________________________________________________________________\n",
            "activation_57 (Activation)      (None, 512, 4, 4)    0           batch_normalization_57[0][0]     \n",
            "__________________________________________________________________________________________________\n",
            "global_average_pooling2d_19 (Gl (None, 512)          0           activation_57[0][0]              \n",
            "__________________________________________________________________________________________________\n",
            "dropout_19 (Dropout)            (None, 512)          0           global_average_pooling2d_19[0][0]\n",
            "__________________________________________________________________________________________________\n",
            "dense (Dense)                   (None, 200)          102600      dropout_19[0][0]                 \n",
            "__________________________________________________________________________________________________\n",
            "softmax_10 (Softmax)            (None, 200)          0           dense[0][0]                      \n",
            "==================================================================================================\n",
            "Total params: 1,708,328\n",
            "Trainable params: 1,704,376\n",
            "Non-trainable params: 3,952\n",
            "__________________________________________________________________________________________________\n"
          ],
          "name": "stdout"
        }
      ]
    },
    {
      "cell_type": "code",
      "metadata": {
        "id": "DnbTakpi4JC7"
      },
      "source": [
        "ret = tf.keras.utils.plot_model(model, to_file='model.svg', show_shapes=True, dpi=None)"
      ],
      "execution_count": null,
      "outputs": []
    },
    {
      "cell_type": "code",
      "metadata": {
        "id": "jYVHG0D5cLQG"
      },
      "source": [
        "# wandb.log({\"model\": wandb.Image(\"model.png\")})"
      ],
      "execution_count": 56,
      "outputs": []
    },
    {
      "cell_type": "code",
      "metadata": {
        "id": "OdJakYhxsXIH",
        "colab": {
          "base_uri": "https://localhost:8080/",
          "height": 265
        },
        "outputId": "ff08d639-cee0-4ca9-e21b-3bb65c189518"
      },
      "source": [
        "steps_per_epoch = len(train_ds)\n",
        "clr = tfa.optimizers.Triangular2CyclicalLearningRate(\n",
        "            initial_learning_rate=CONFIG.min_lr,\n",
        "            maximal_learning_rate=CONFIG.max_lr,\n",
        "            step_size=CONFIG.clr_step_size * steps_per_epoch,\n",
        "            scale_mode=\"cycle\")\n",
        "domain = range(0, 50*steps_per_epoch, 32)\n",
        "lr_log = [clr(i).numpy() for i in domain]\n",
        "plt.plot(domain, lr_log)\n",
        "plt.show()"
      ],
      "execution_count": 63,
      "outputs": [
        {
          "output_type": "display_data",
          "data": {
            "image/png": "[encoded data removed]",
            "text/plain": [
              "<Figure size 432x288 with 1 Axes>"
            ]
          },
          "metadata": {
            "tags": [],
            "needs_background": "light"
          }
        }
      ]
    },
    {
      "cell_type": "code",
      "metadata": {
        "id": "EqrS0wpCOWk5"
      },
      "source": [
        "def get_wdc(i):\n",
        "    wdc = CONFIG.weight_decay*clr(i)/CONFIG.max_lr\n",
        "    if tf.executing_eagerly():\n",
        "        return wdc.numpy()\n",
        "    else:\n",
        "        return wdc"
      ],
      "execution_count": 67,
      "outputs": []
    },
    {
      "cell_type": "code",
      "metadata": {
        "id": "MYgq5ODJOWY8"
      },
      "source": [
        "if CONFIG.optimizer == 'adamw':\n",
        "    opt = tfa.optimizers.AdamW(learning_rate=clr, weight_decay=lambda : CONFIG.weight_decay)\n",
        "    # wd_schedule = tf.optimizers.schedules.ExponentialDecay(5e-5, 100, 0.9)    # weight_decay=lambda : None\n",
        "    if CONFIG.vary_weight_decay:\n",
        "        opt.weight_decay = lambda : get_wdc(opt.iterations)\n",
        "elif CONFIG.optimizer == 'adam':            # or just make weight_decay=0\n",
        "    opt = tf.keras.optimizers.Adam(learning_rate=clr)\n",
        "opt = tf.keras.mixed_precision.LossScaleOptimizer(opt)"
      ],
      "execution_count": 68,
      "outputs": []
    },
    {
      "cell_type": "code",
      "metadata": {
        "id": "yCo_cnXBYoX9"
      },
      "source": [
        "if CONFIG.loss_function == 'cce':\n",
        "    loss_function = tf.keras.losses.SparseCategoricalCrossentropy()"
      ],
      "execution_count": 70,
      "outputs": []
    },
    {
      "cell_type": "code",
      "metadata": {
        "id": "brIBUNULsXBl"
      },
      "source": [
        "model.compile(optimizer=opt, loss=loss_function, metrics=['accuracy'])"
      ],
      "execution_count": 71,
      "outputs": []
    },
    {
      "cell_type": "code",
      "metadata": {
        "id": "yHFlgYpjCEQr",
        "colab": {
          "base_uri": "https://localhost:8080/"
        },
        "outputId": "34409c0d-b2eb-4a33-ee1e-5e9b11ccb0c0"
      },
      "source": [
        "history = model.fit(train_ds,\n",
        "                    epochs=50,\n",
        "                    validation_data=val_ds,\n",
        "                    workers=4,\n",
        "                    use_multiprocessing=True,\n",
        "                    callbacks=[])#wandb_cb])"
      ],
      "execution_count": null,
      "outputs": [
        {
          "output_type": "stream",
          "text": [
            "Epoch 1/50\n",
            "782/782 [==============================] - 212s 246ms/step - loss: 5.3073 - accuracy: 0.0103 - val_loss: 5.3930 - val_accuracy: 0.0224\n",
            "Epoch 2/50\n",
            "782/782 [==============================] - 119s 152ms/step - loss: 4.9289 - accuracy: 0.0316 - val_loss: 5.8222 - val_accuracy: 0.0234\n",
            "Epoch 3/50\n",
            " 52/782 [>.............................] - ETA: 1:45 - loss: 4.7687 - accuracy: 0.0520"
          ],
          "name": "stdout"
        }
      ]
    },
    {
      "cell_type": "code",
      "metadata": {
        "id": "azTIEXYNOV4u"
      },
      "source": [
        ""
      ],
      "execution_count": null,
      "outputs": []
    },
    {
      "cell_type": "code",
      "metadata": {
        "id": "1znjkBpkOV2E"
      },
      "source": [
        ""
      ],
      "execution_count": null,
      "outputs": []
    },
    {
      "cell_type": "code",
      "metadata": {
        "id": "Fs5BiKqTGJsd"
      },
      "source": [
        "import wandb\n",
        "from wandb.keras import WandbCallback"
      ],
      "execution_count": null,
      "outputs": []
    },
    {
      "cell_type": "code",
      "metadata": {
        "id": "AtNLrP0hGJzm"
      },
      "source": [
        "# wandb.login()"
      ],
      "execution_count": null,
      "outputs": []
    },
    {
      "cell_type": "code",
      "metadata": {
        "id": "OXAKFpPqGJ_e"
      },
      "source": [
        "# run = wandb.init(project=\"tiny-imagenet-test\", entity=\"shivamshrirao\", config=config_defaults)\n",
        "# CONFIG = wandb.config"
      ],
      "execution_count": null,
      "outputs": []
    },
    {
      "cell_type": "code",
      "metadata": {
        "id": "oJ32ZoQVGKT-"
      },
      "source": [
        ""
      ],
      "execution_count": null,
      "outputs": []
    },
    {
      "cell_type": "code",
      "metadata": {
        "id": "svILsoO8GKXv"
      },
      "source": [
        ""
      ],
      "execution_count": null,
      "outputs": []
    }
  ]
}