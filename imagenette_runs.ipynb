{
  "nbformat": 4,
  "nbformat_minor": 0,
  "metadata": {
    "colab": {
      "name": "imagenette-runs.ipynb",
      "provenance": [],
      "collapsed_sections": []
    },
    "kernelspec": {
      "name": "python3",
      "display_name": "Python 3"
    },
    "language_info": {
      "name": "python"
    },
    "accelerator": "GPU",
    "widgets": {
      "application/vnd.jupyter.widget-state+json": {
        "104bba47c3164106ae16090ae6f7be9e": {
          "model_module": "@jupyter-widgets/controls",
          "model_name": "HBoxModel",
          "state": {
            "_view_name": "HBoxView",
            "_dom_classes": [],
            "_model_name": "HBoxModel",
            "_view_module": "@jupyter-widgets/controls",
            "_model_module_version": "1.5.0",
            "_view_count": null,
            "_view_module_version": "1.5.0",
            "box_style": "",
            "layout": "IPY_MODEL_8bc8a17868514b26b877d7e9a5d11cf2",
            "_model_module": "@jupyter-widgets/controls",
            "children": [
              "IPY_MODEL_979851adc5434ce6ba0e26211d0efd89",
              "IPY_MODEL_d47ce942977d4a74bd7fdd7c5c4495c4"
            ]
          }
        },
        "8bc8a17868514b26b877d7e9a5d11cf2": {
          "model_module": "@jupyter-widgets/base",
          "model_name": "LayoutModel",
          "state": {
            "_view_name": "LayoutView",
            "grid_template_rows": null,
            "right": null,
            "justify_content": null,
            "_view_module": "@jupyter-widgets/base",
            "overflow": null,
            "_model_module_version": "1.2.0",
            "_view_count": null,
            "flex_flow": null,
            "width": null,
            "min_width": null,
            "border": null,
            "align_items": null,
            "bottom": null,
            "_model_module": "@jupyter-widgets/base",
            "top": null,
            "grid_column": null,
            "overflow_y": null,
            "overflow_x": null,
            "grid_auto_flow": null,
            "grid_area": null,
            "grid_template_columns": null,
            "flex": null,
            "_model_name": "LayoutModel",
            "justify_items": null,
            "grid_row": null,
            "max_height": null,
            "align_content": null,
            "visibility": null,
            "align_self": null,
            "height": null,
            "min_height": null,
            "padding": null,
            "grid_auto_rows": null,
            "grid_gap": null,
            "max_width": null,
            "order": null,
            "_view_module_version": "1.2.0",
            "grid_template_areas": null,
            "object_position": null,
            "object_fit": null,
            "grid_auto_columns": null,
            "margin": null,
            "display": null,
            "left": null
          }
        },
        "979851adc5434ce6ba0e26211d0efd89": {
          "model_module": "@jupyter-widgets/controls",
          "model_name": "FloatProgressModel",
          "state": {
            "_view_name": "ProgressView",
            "style": "IPY_MODEL_455ae60548d8495b9fc035b9a9784928",
            "_dom_classes": [],
            "description": "Dl Completed...: ",
            "_model_name": "FloatProgressModel",
            "bar_style": "success",
            "max": 1,
            "_view_module": "@jupyter-widgets/controls",
            "_model_module_version": "1.5.0",
            "value": 0,
            "_view_count": null,
            "_view_module_version": "1.5.0",
            "orientation": "horizontal",
            "min": 0,
            "description_tooltip": null,
            "_model_module": "@jupyter-widgets/controls",
            "layout": "IPY_MODEL_361926a833ef44af945ceee11c578820"
          }
        },
        "d47ce942977d4a74bd7fdd7c5c4495c4": {
          "model_module": "@jupyter-widgets/controls",
          "model_name": "HTMLModel",
          "state": {
            "_view_name": "HTMLView",
            "style": "IPY_MODEL_c9882dd14ea142a08aab93c0cffaa62d",
            "_dom_classes": [],
            "description": "",
            "_model_name": "HTMLModel",
            "placeholder": "​",
            "_view_module": "@jupyter-widgets/controls",
            "_model_module_version": "1.5.0",
            "value": " 0/0 [00:05&lt;?, ? url/s]",
            "_view_count": null,
            "_view_module_version": "1.5.0",
            "description_tooltip": null,
            "_model_module": "@jupyter-widgets/controls",
            "layout": "IPY_MODEL_acc6f61ece5b472ab8dc5f9dd28ebe14"
          }
        },
        "455ae60548d8495b9fc035b9a9784928": {
          "model_module": "@jupyter-widgets/controls",
          "model_name": "ProgressStyleModel",
          "state": {
            "_view_name": "StyleView",
            "_model_name": "ProgressStyleModel",
            "description_width": "initial",
            "_view_module": "@jupyter-widgets/base",
            "_model_module_version": "1.5.0",
            "_view_count": null,
            "_view_module_version": "1.2.0",
            "bar_color": null,
            "_model_module": "@jupyter-widgets/controls"
          }
        },
        "361926a833ef44af945ceee11c578820": {
          "model_module": "@jupyter-widgets/base",
          "model_name": "LayoutModel",
          "state": {
            "_view_name": "LayoutView",
            "grid_template_rows": null,
            "right": null,
            "justify_content": null,
            "_view_module": "@jupyter-widgets/base",
            "overflow": null,
            "_model_module_version": "1.2.0",
            "_view_count": null,
            "flex_flow": null,
            "width": null,
            "min_width": null,
            "border": null,
            "align_items": null,
            "bottom": null,
            "_model_module": "@jupyter-widgets/base",
            "top": null,
            "grid_column": null,
            "overflow_y": null,
            "overflow_x": null,
            "grid_auto_flow": null,
            "grid_area": null,
            "grid_template_columns": null,
            "flex": null,
            "_model_name": "LayoutModel",
            "justify_items": null,
            "grid_row": null,
            "max_height": null,
            "align_content": null,
            "visibility": null,
            "align_self": null,
            "height": null,
            "min_height": null,
            "padding": null,
            "grid_auto_rows": null,
            "grid_gap": null,
            "max_width": null,
            "order": null,
            "_view_module_version": "1.2.0",
            "grid_template_areas": null,
            "object_position": null,
            "object_fit": null,
            "grid_auto_columns": null,
            "margin": null,
            "display": null,
            "left": null
          }
        },
        "c9882dd14ea142a08aab93c0cffaa62d": {
          "model_module": "@jupyter-widgets/controls",
          "model_name": "DescriptionStyleModel",
          "state": {
            "_view_name": "StyleView",
            "_model_name": "DescriptionStyleModel",
            "description_width": "",
            "_view_module": "@jupyter-widgets/base",
            "_model_module_version": "1.5.0",
            "_view_count": null,
            "_view_module_version": "1.2.0",
            "_model_module": "@jupyter-widgets/controls"
          }
        },
        "acc6f61ece5b472ab8dc5f9dd28ebe14": {
          "model_module": "@jupyter-widgets/base",
          "model_name": "LayoutModel",
          "state": {
            "_view_name": "LayoutView",
            "grid_template_rows": null,
            "right": null,
            "justify_content": null,
            "_view_module": "@jupyter-widgets/base",
            "overflow": null,
            "_model_module_version": "1.2.0",
            "_view_count": null,
            "flex_flow": null,
            "width": null,
            "min_width": null,
            "border": null,
            "align_items": null,
            "bottom": null,
            "_model_module": "@jupyter-widgets/base",
            "top": null,
            "grid_column": null,
            "overflow_y": null,
            "overflow_x": null,
            "grid_auto_flow": null,
            "grid_area": null,
            "grid_template_columns": null,
            "flex": null,
            "_model_name": "LayoutModel",
            "justify_items": null,
            "grid_row": null,
            "max_height": null,
            "align_content": null,
            "visibility": null,
            "align_self": null,
            "height": null,
            "min_height": null,
            "padding": null,
            "grid_auto_rows": null,
            "grid_gap": null,
            "max_width": null,
            "order": null,
            "_view_module_version": "1.2.0",
            "grid_template_areas": null,
            "object_position": null,
            "object_fit": null,
            "grid_auto_columns": null,
            "margin": null,
            "display": null,
            "left": null
          }
        },
        "55bb03cb96fe4e88a66ec7debe700e4a": {
          "model_module": "@jupyter-widgets/controls",
          "model_name": "HBoxModel",
          "state": {
            "_view_name": "HBoxView",
            "_dom_classes": [],
            "_model_name": "HBoxModel",
            "_view_module": "@jupyter-widgets/controls",
            "_model_module_version": "1.5.0",
            "_view_count": null,
            "_view_module_version": "1.5.0",
            "box_style": "",
            "layout": "IPY_MODEL_3542daba50434558afea93e5f1bcb21a",
            "_model_module": "@jupyter-widgets/controls",
            "children": [
              "IPY_MODEL_6ebf1d42d16e43e4993e22647b1c7f03",
              "IPY_MODEL_b7b8193b39624fca8a80ede58b603481"
            ]
          }
        },
        "3542daba50434558afea93e5f1bcb21a": {
          "model_module": "@jupyter-widgets/base",
          "model_name": "LayoutModel",
          "state": {
            "_view_name": "LayoutView",
            "grid_template_rows": null,
            "right": null,
            "justify_content": null,
            "_view_module": "@jupyter-widgets/base",
            "overflow": null,
            "_model_module_version": "1.2.0",
            "_view_count": null,
            "flex_flow": null,
            "width": null,
            "min_width": null,
            "border": null,
            "align_items": null,
            "bottom": null,
            "_model_module": "@jupyter-widgets/base",
            "top": null,
            "grid_column": null,
            "overflow_y": null,
            "overflow_x": null,
            "grid_auto_flow": null,
            "grid_area": null,
            "grid_template_columns": null,
            "flex": null,
            "_model_name": "LayoutModel",
            "justify_items": null,
            "grid_row": null,
            "max_height": null,
            "align_content": null,
            "visibility": null,
            "align_self": null,
            "height": null,
            "min_height": null,
            "padding": null,
            "grid_auto_rows": null,
            "grid_gap": null,
            "max_width": null,
            "order": null,
            "_view_module_version": "1.2.0",
            "grid_template_areas": null,
            "object_position": null,
            "object_fit": null,
            "grid_auto_columns": null,
            "margin": null,
            "display": null,
            "left": null
          }
        },
        "6ebf1d42d16e43e4993e22647b1c7f03": {
          "model_module": "@jupyter-widgets/controls",
          "model_name": "FloatProgressModel",
          "state": {
            "_view_name": "ProgressView",
            "style": "IPY_MODEL_7f6d4fae114f411f8c8e0888235402bd",
            "_dom_classes": [],
            "description": "Dl Size...: ",
            "_model_name": "FloatProgressModel",
            "bar_style": "success",
            "max": 1,
            "_view_module": "@jupyter-widgets/controls",
            "_model_module_version": "1.5.0",
            "value": 0,
            "_view_count": null,
            "_view_module_version": "1.5.0",
            "orientation": "horizontal",
            "min": 0,
            "description_tooltip": null,
            "_model_module": "@jupyter-widgets/controls",
            "layout": "IPY_MODEL_7c699ad8168c4e85af2bc40b1d7d775d"
          }
        },
        "b7b8193b39624fca8a80ede58b603481": {
          "model_module": "@jupyter-widgets/controls",
          "model_name": "HTMLModel",
          "state": {
            "_view_name": "HTMLView",
            "style": "IPY_MODEL_0eb11fe5779741109c860aaf0bf70813",
            "_dom_classes": [],
            "description": "",
            "_model_name": "HTMLModel",
            "placeholder": "​",
            "_view_module": "@jupyter-widgets/controls",
            "_model_module_version": "1.5.0",
            "value": " 0/0 [00:05&lt;?, ? MiB/s]",
            "_view_count": null,
            "_view_module_version": "1.5.0",
            "description_tooltip": null,
            "_model_module": "@jupyter-widgets/controls",
            "layout": "IPY_MODEL_2587050caac143a49d2d6b502a76fae6"
          }
        },
        "7f6d4fae114f411f8c8e0888235402bd": {
          "model_module": "@jupyter-widgets/controls",
          "model_name": "ProgressStyleModel",
          "state": {
            "_view_name": "StyleView",
            "_model_name": "ProgressStyleModel",
            "description_width": "initial",
            "_view_module": "@jupyter-widgets/base",
            "_model_module_version": "1.5.0",
            "_view_count": null,
            "_view_module_version": "1.2.0",
            "bar_color": null,
            "_model_module": "@jupyter-widgets/controls"
          }
        },
        "7c699ad8168c4e85af2bc40b1d7d775d": {
          "model_module": "@jupyter-widgets/base",
          "model_name": "LayoutModel",
          "state": {
            "_view_name": "LayoutView",
            "grid_template_rows": null,
            "right": null,
            "justify_content": null,
            "_view_module": "@jupyter-widgets/base",
            "overflow": null,
            "_model_module_version": "1.2.0",
            "_view_count": null,
            "flex_flow": null,
            "width": null,
            "min_width": null,
            "border": null,
            "align_items": null,
            "bottom": null,
            "_model_module": "@jupyter-widgets/base",
            "top": null,
            "grid_column": null,
            "overflow_y": null,
            "overflow_x": null,
            "grid_auto_flow": null,
            "grid_area": null,
            "grid_template_columns": null,
            "flex": null,
            "_model_name": "LayoutModel",
            "justify_items": null,
            "grid_row": null,
            "max_height": null,
            "align_content": null,
            "visibility": null,
            "align_self": null,
            "height": null,
            "min_height": null,
            "padding": null,
            "grid_auto_rows": null,
            "grid_gap": null,
            "max_width": null,
            "order": null,
            "_view_module_version": "1.2.0",
            "grid_template_areas": null,
            "object_position": null,
            "object_fit": null,
            "grid_auto_columns": null,
            "margin": null,
            "display": null,
            "left": null
          }
        },
        "0eb11fe5779741109c860aaf0bf70813": {
          "model_module": "@jupyter-widgets/controls",
          "model_name": "DescriptionStyleModel",
          "state": {
            "_view_name": "StyleView",
            "_model_name": "DescriptionStyleModel",
            "description_width": "",
            "_view_module": "@jupyter-widgets/base",
            "_model_module_version": "1.5.0",
            "_view_count": null,
            "_view_module_version": "1.2.0",
            "_model_module": "@jupyter-widgets/controls"
          }
        },
        "2587050caac143a49d2d6b502a76fae6": {
          "model_module": "@jupyter-widgets/base",
          "model_name": "LayoutModel",
          "state": {
            "_view_name": "LayoutView",
            "grid_template_rows": null,
            "right": null,
            "justify_content": null,
            "_view_module": "@jupyter-widgets/base",
            "overflow": null,
            "_model_module_version": "1.2.0",
            "_view_count": null,
            "flex_flow": null,
            "width": null,
            "min_width": null,
            "border": null,
            "align_items": null,
            "bottom": null,
            "_model_module": "@jupyter-widgets/base",
            "top": null,
            "grid_column": null,
            "overflow_y": null,
            "overflow_x": null,
            "grid_auto_flow": null,
            "grid_area": null,
            "grid_template_columns": null,
            "flex": null,
            "_model_name": "LayoutModel",
            "justify_items": null,
            "grid_row": null,
            "max_height": null,
            "align_content": null,
            "visibility": null,
            "align_self": null,
            "height": null,
            "min_height": null,
            "padding": null,
            "grid_auto_rows": null,
            "grid_gap": null,
            "max_width": null,
            "order": null,
            "_view_module_version": "1.2.0",
            "grid_template_areas": null,
            "object_position": null,
            "object_fit": null,
            "grid_auto_columns": null,
            "margin": null,
            "display": null,
            "left": null
          }
        },
        "b92b24c761fd44dcaf2bde1e1939006e": {
          "model_module": "@jupyter-widgets/controls",
          "model_name": "HBoxModel",
          "state": {
            "_view_name": "HBoxView",
            "_dom_classes": [],
            "_model_name": "HBoxModel",
            "_view_module": "@jupyter-widgets/controls",
            "_model_module_version": "1.5.0",
            "_view_count": null,
            "_view_module_version": "1.5.0",
            "box_style": "",
            "layout": "IPY_MODEL_67a03d33be684af7886301825ad9b6c1",
            "_model_module": "@jupyter-widgets/controls",
            "children": [
              "IPY_MODEL_be24965d5fd44fffa8a7e2bb2c45a76e",
              "IPY_MODEL_fab4abe0bc9b4b149ae7e1788cf2770a"
            ]
          }
        },
        "67a03d33be684af7886301825ad9b6c1": {
          "model_module": "@jupyter-widgets/base",
          "model_name": "LayoutModel",
          "state": {
            "_view_name": "LayoutView",
            "grid_template_rows": null,
            "right": null,
            "justify_content": null,
            "_view_module": "@jupyter-widgets/base",
            "overflow": null,
            "_model_module_version": "1.2.0",
            "_view_count": null,
            "flex_flow": null,
            "width": null,
            "min_width": null,
            "border": null,
            "align_items": null,
            "bottom": null,
            "_model_module": "@jupyter-widgets/base",
            "top": null,
            "grid_column": null,
            "overflow_y": null,
            "overflow_x": null,
            "grid_auto_flow": null,
            "grid_area": null,
            "grid_template_columns": null,
            "flex": null,
            "_model_name": "LayoutModel",
            "justify_items": null,
            "grid_row": null,
            "max_height": null,
            "align_content": null,
            "visibility": null,
            "align_self": null,
            "height": null,
            "min_height": null,
            "padding": null,
            "grid_auto_rows": null,
            "grid_gap": null,
            "max_width": null,
            "order": null,
            "_view_module_version": "1.2.0",
            "grid_template_areas": null,
            "object_position": null,
            "object_fit": null,
            "grid_auto_columns": null,
            "margin": null,
            "display": null,
            "left": null
          }
        },
        "be24965d5fd44fffa8a7e2bb2c45a76e": {
          "model_module": "@jupyter-widgets/controls",
          "model_name": "FloatProgressModel",
          "state": {
            "_view_name": "ProgressView",
            "style": "IPY_MODEL_b3080e3a087b434199a35896b5b1d383",
            "_dom_classes": [],
            "description": "Extraction completed...: 100%",
            "_model_name": "FloatProgressModel",
            "bar_style": "success",
            "max": 1,
            "_view_module": "@jupyter-widgets/controls",
            "_model_module_version": "1.5.0",
            "value": 1,
            "_view_count": null,
            "_view_module_version": "1.5.0",
            "orientation": "horizontal",
            "min": 0,
            "description_tooltip": null,
            "_model_module": "@jupyter-widgets/controls",
            "layout": "IPY_MODEL_1c542070308b41819ab4224664eb4558"
          }
        },
        "fab4abe0bc9b4b149ae7e1788cf2770a": {
          "model_module": "@jupyter-widgets/controls",
          "model_name": "HTMLModel",
          "state": {
            "_view_name": "HTMLView",
            "style": "IPY_MODEL_af865b8e03554a7ea95c42bc24f0c275",
            "_dom_classes": [],
            "description": "",
            "_model_name": "HTMLModel",
            "placeholder": "​",
            "_view_module": "@jupyter-widgets/controls",
            "_model_module_version": "1.5.0",
            "value": " 1/1 [00:05&lt;00:00,  5.34s/ file]",
            "_view_count": null,
            "_view_module_version": "1.5.0",
            "description_tooltip": null,
            "_model_module": "@jupyter-widgets/controls",
            "layout": "IPY_MODEL_bef5b42db47e4c79a5b2dfd51a38785d"
          }
        },
        "b3080e3a087b434199a35896b5b1d383": {
          "model_module": "@jupyter-widgets/controls",
          "model_name": "ProgressStyleModel",
          "state": {
            "_view_name": "StyleView",
            "_model_name": "ProgressStyleModel",
            "description_width": "initial",
            "_view_module": "@jupyter-widgets/base",
            "_model_module_version": "1.5.0",
            "_view_count": null,
            "_view_module_version": "1.2.0",
            "bar_color": null,
            "_model_module": "@jupyter-widgets/controls"
          }
        },
        "1c542070308b41819ab4224664eb4558": {
          "model_module": "@jupyter-widgets/base",
          "model_name": "LayoutModel",
          "state": {
            "_view_name": "LayoutView",
            "grid_template_rows": null,
            "right": null,
            "justify_content": null,
            "_view_module": "@jupyter-widgets/base",
            "overflow": null,
            "_model_module_version": "1.2.0",
            "_view_count": null,
            "flex_flow": null,
            "width": null,
            "min_width": null,
            "border": null,
            "align_items": null,
            "bottom": null,
            "_model_module": "@jupyter-widgets/base",
            "top": null,
            "grid_column": null,
            "overflow_y": null,
            "overflow_x": null,
            "grid_auto_flow": null,
            "grid_area": null,
            "grid_template_columns": null,
            "flex": null,
            "_model_name": "LayoutModel",
            "justify_items": null,
            "grid_row": null,
            "max_height": null,
            "align_content": null,
            "visibility": null,
            "align_self": null,
            "height": null,
            "min_height": null,
            "padding": null,
            "grid_auto_rows": null,
            "grid_gap": null,
            "max_width": null,
            "order": null,
            "_view_module_version": "1.2.0",
            "grid_template_areas": null,
            "object_position": null,
            "object_fit": null,
            "grid_auto_columns": null,
            "margin": null,
            "display": null,
            "left": null
          }
        },
        "af865b8e03554a7ea95c42bc24f0c275": {
          "model_module": "@jupyter-widgets/controls",
          "model_name": "DescriptionStyleModel",
          "state": {
            "_view_name": "StyleView",
            "_model_name": "DescriptionStyleModel",
            "description_width": "",
            "_view_module": "@jupyter-widgets/base",
            "_model_module_version": "1.5.0",
            "_view_count": null,
            "_view_module_version": "1.2.0",
            "_model_module": "@jupyter-widgets/controls"
          }
        },
        "bef5b42db47e4c79a5b2dfd51a38785d": {
          "model_module": "@jupyter-widgets/base",
          "model_name": "LayoutModel",
          "state": {
            "_view_name": "LayoutView",
            "grid_template_rows": null,
            "right": null,
            "justify_content": null,
            "_view_module": "@jupyter-widgets/base",
            "overflow": null,
            "_model_module_version": "1.2.0",
            "_view_count": null,
            "flex_flow": null,
            "width": null,
            "min_width": null,
            "border": null,
            "align_items": null,
            "bottom": null,
            "_model_module": "@jupyter-widgets/base",
            "top": null,
            "grid_column": null,
            "overflow_y": null,
            "overflow_x": null,
            "grid_auto_flow": null,
            "grid_area": null,
            "grid_template_columns": null,
            "flex": null,
            "_model_name": "LayoutModel",
            "justify_items": null,
            "grid_row": null,
            "max_height": null,
            "align_content": null,
            "visibility": null,
            "align_self": null,
            "height": null,
            "min_height": null,
            "padding": null,
            "grid_auto_rows": null,
            "grid_gap": null,
            "max_width": null,
            "order": null,
            "_view_module_version": "1.2.0",
            "grid_template_areas": null,
            "object_position": null,
            "object_fit": null,
            "grid_auto_columns": null,
            "margin": null,
            "display": null,
            "left": null
          }
        },
        "793daca7f25a480784aa3cd8db7eefa6": {
          "model_module": "@jupyter-widgets/controls",
          "model_name": "HBoxModel",
          "state": {
            "_view_name": "HBoxView",
            "_dom_classes": [],
            "_model_name": "HBoxModel",
            "_view_module": "@jupyter-widgets/controls",
            "_model_module_version": "1.5.0",
            "_view_count": null,
            "_view_module_version": "1.5.0",
            "box_style": "",
            "layout": "IPY_MODEL_6f27b04a9211437a89c274b1ee5cd79b",
            "_model_module": "@jupyter-widgets/controls",
            "children": [
              "IPY_MODEL_4df1b0f4a4184c378c4721c1d1a1a671",
              "IPY_MODEL_cdfefdca2325486e9ac6dc2964686f1f"
            ]
          }
        },
        "6f27b04a9211437a89c274b1ee5cd79b": {
          "model_module": "@jupyter-widgets/base",
          "model_name": "LayoutModel",
          "state": {
            "_view_name": "LayoutView",
            "grid_template_rows": null,
            "right": null,
            "justify_content": null,
            "_view_module": "@jupyter-widgets/base",
            "overflow": null,
            "_model_module_version": "1.2.0",
            "_view_count": null,
            "flex_flow": null,
            "width": null,
            "min_width": null,
            "border": null,
            "align_items": null,
            "bottom": null,
            "_model_module": "@jupyter-widgets/base",
            "top": null,
            "grid_column": null,
            "overflow_y": null,
            "overflow_x": null,
            "grid_auto_flow": null,
            "grid_area": null,
            "grid_template_columns": null,
            "flex": null,
            "_model_name": "LayoutModel",
            "justify_items": null,
            "grid_row": null,
            "max_height": null,
            "align_content": null,
            "visibility": null,
            "align_self": null,
            "height": null,
            "min_height": null,
            "padding": null,
            "grid_auto_rows": null,
            "grid_gap": null,
            "max_width": null,
            "order": null,
            "_view_module_version": "1.2.0",
            "grid_template_areas": null,
            "object_position": null,
            "object_fit": null,
            "grid_auto_columns": null,
            "margin": null,
            "display": null,
            "left": null
          }
        },
        "4df1b0f4a4184c378c4721c1d1a1a671": {
          "model_module": "@jupyter-widgets/controls",
          "model_name": "FloatProgressModel",
          "state": {
            "_view_name": "ProgressView",
            "style": "IPY_MODEL_71781da6aefa4ac78bbb0625b4285933",
            "_dom_classes": [],
            "description": "",
            "_model_name": "FloatProgressModel",
            "bar_style": "info",
            "max": 1,
            "_view_module": "@jupyter-widgets/controls",
            "_model_module_version": "1.5.0",
            "value": 1,
            "_view_count": null,
            "_view_module_version": "1.5.0",
            "orientation": "horizontal",
            "min": 0,
            "description_tooltip": null,
            "_model_module": "@jupyter-widgets/controls",
            "layout": "IPY_MODEL_83cfbd42fce343bf8a06fc20d4ba9737"
          }
        },
        "cdfefdca2325486e9ac6dc2964686f1f": {
          "model_module": "@jupyter-widgets/controls",
          "model_name": "HTMLModel",
          "state": {
            "_view_name": "HTMLView",
            "style": "IPY_MODEL_fcd59a84505742d49207383f1af26917",
            "_dom_classes": [],
            "description": "",
            "_model_name": "HTMLModel",
            "placeholder": "​",
            "_view_module": "@jupyter-widgets/controls",
            "_model_module_version": "1.5.0",
            "value": " 9469/0 [00:03&lt;00:00, 3376.45 examples/s]",
            "_view_count": null,
            "_view_module_version": "1.5.0",
            "description_tooltip": null,
            "_model_module": "@jupyter-widgets/controls",
            "layout": "IPY_MODEL_67fb1cb25dee49818a3560ccd28350d0"
          }
        },
        "71781da6aefa4ac78bbb0625b4285933": {
          "model_module": "@jupyter-widgets/controls",
          "model_name": "ProgressStyleModel",
          "state": {
            "_view_name": "StyleView",
            "_model_name": "ProgressStyleModel",
            "description_width": "initial",
            "_view_module": "@jupyter-widgets/base",
            "_model_module_version": "1.5.0",
            "_view_count": null,
            "_view_module_version": "1.2.0",
            "bar_color": null,
            "_model_module": "@jupyter-widgets/controls"
          }
        },
        "83cfbd42fce343bf8a06fc20d4ba9737": {
          "model_module": "@jupyter-widgets/base",
          "model_name": "LayoutModel",
          "state": {
            "_view_name": "LayoutView",
            "grid_template_rows": null,
            "right": null,
            "justify_content": null,
            "_view_module": "@jupyter-widgets/base",
            "overflow": null,
            "_model_module_version": "1.2.0",
            "_view_count": null,
            "flex_flow": null,
            "width": null,
            "min_width": null,
            "border": null,
            "align_items": null,
            "bottom": null,
            "_model_module": "@jupyter-widgets/base",
            "top": null,
            "grid_column": null,
            "overflow_y": null,
            "overflow_x": null,
            "grid_auto_flow": null,
            "grid_area": null,
            "grid_template_columns": null,
            "flex": null,
            "_model_name": "LayoutModel",
            "justify_items": null,
            "grid_row": null,
            "max_height": null,
            "align_content": null,
            "visibility": null,
            "align_self": null,
            "height": null,
            "min_height": null,
            "padding": null,
            "grid_auto_rows": null,
            "grid_gap": null,
            "max_width": null,
            "order": null,
            "_view_module_version": "1.2.0",
            "grid_template_areas": null,
            "object_position": null,
            "object_fit": null,
            "grid_auto_columns": null,
            "margin": null,
            "display": null,
            "left": null
          }
        },
        "fcd59a84505742d49207383f1af26917": {
          "model_module": "@jupyter-widgets/controls",
          "model_name": "DescriptionStyleModel",
          "state": {
            "_view_name": "StyleView",
            "_model_name": "DescriptionStyleModel",
            "description_width": "",
            "_view_module": "@jupyter-widgets/base",
            "_model_module_version": "1.5.0",
            "_view_count": null,
            "_view_module_version": "1.2.0",
            "_model_module": "@jupyter-widgets/controls"
          }
        },
        "67fb1cb25dee49818a3560ccd28350d0": {
          "model_module": "@jupyter-widgets/base",
          "model_name": "LayoutModel",
          "state": {
            "_view_name": "LayoutView",
            "grid_template_rows": null,
            "right": null,
            "justify_content": null,
            "_view_module": "@jupyter-widgets/base",
            "overflow": null,
            "_model_module_version": "1.2.0",
            "_view_count": null,
            "flex_flow": null,
            "width": null,
            "min_width": null,
            "border": null,
            "align_items": null,
            "bottom": null,
            "_model_module": "@jupyter-widgets/base",
            "top": null,
            "grid_column": null,
            "overflow_y": null,
            "overflow_x": null,
            "grid_auto_flow": null,
            "grid_area": null,
            "grid_template_columns": null,
            "flex": null,
            "_model_name": "LayoutModel",
            "justify_items": null,
            "grid_row": null,
            "max_height": null,
            "align_content": null,
            "visibility": null,
            "align_self": null,
            "height": null,
            "min_height": null,
            "padding": null,
            "grid_auto_rows": null,
            "grid_gap": null,
            "max_width": null,
            "order": null,
            "_view_module_version": "1.2.0",
            "grid_template_areas": null,
            "object_position": null,
            "object_fit": null,
            "grid_auto_columns": null,
            "margin": null,
            "display": null,
            "left": null
          }
        },
        "82ef7b3c5131452b9984b6dc45461329": {
          "model_module": "@jupyter-widgets/controls",
          "model_name": "HBoxModel",
          "state": {
            "_view_name": "HBoxView",
            "_dom_classes": [],
            "_model_name": "HBoxModel",
            "_view_module": "@jupyter-widgets/controls",
            "_model_module_version": "1.5.0",
            "_view_count": null,
            "_view_module_version": "1.5.0",
            "box_style": "",
            "layout": "IPY_MODEL_70cb0487a06d44318b566e1f8de13cae",
            "_model_module": "@jupyter-widgets/controls",
            "children": [
              "IPY_MODEL_99e7b773df154ebcb0f236d9426c7ea7",
              "IPY_MODEL_1fbeb6a63fdf4ba49c2f453e6dbb1101"
            ]
          }
        },
        "70cb0487a06d44318b566e1f8de13cae": {
          "model_module": "@jupyter-widgets/base",
          "model_name": "LayoutModel",
          "state": {
            "_view_name": "LayoutView",
            "grid_template_rows": null,
            "right": null,
            "justify_content": null,
            "_view_module": "@jupyter-widgets/base",
            "overflow": null,
            "_model_module_version": "1.2.0",
            "_view_count": null,
            "flex_flow": null,
            "width": null,
            "min_width": null,
            "border": null,
            "align_items": null,
            "bottom": null,
            "_model_module": "@jupyter-widgets/base",
            "top": null,
            "grid_column": null,
            "overflow_y": null,
            "overflow_x": null,
            "grid_auto_flow": null,
            "grid_area": null,
            "grid_template_columns": null,
            "flex": null,
            "_model_name": "LayoutModel",
            "justify_items": null,
            "grid_row": null,
            "max_height": null,
            "align_content": null,
            "visibility": null,
            "align_self": null,
            "height": null,
            "min_height": null,
            "padding": null,
            "grid_auto_rows": null,
            "grid_gap": null,
            "max_width": null,
            "order": null,
            "_view_module_version": "1.2.0",
            "grid_template_areas": null,
            "object_position": null,
            "object_fit": null,
            "grid_auto_columns": null,
            "margin": null,
            "display": null,
            "left": null
          }
        },
        "99e7b773df154ebcb0f236d9426c7ea7": {
          "model_module": "@jupyter-widgets/controls",
          "model_name": "FloatProgressModel",
          "state": {
            "_view_name": "ProgressView",
            "style": "IPY_MODEL_53458b7019174d4a8ee69547a46e3c67",
            "_dom_classes": [],
            "description": " 99%",
            "_model_name": "FloatProgressModel",
            "bar_style": "danger",
            "max": 9469,
            "_view_module": "@jupyter-widgets/controls",
            "_model_module_version": "1.5.0",
            "value": 9413,
            "_view_count": null,
            "_view_module_version": "1.5.0",
            "orientation": "horizontal",
            "min": 0,
            "description_tooltip": null,
            "_model_module": "@jupyter-widgets/controls",
            "layout": "IPY_MODEL_eeaf78d35a0b4a01b41d97923755b462"
          }
        },
        "1fbeb6a63fdf4ba49c2f453e6dbb1101": {
          "model_module": "@jupyter-widgets/controls",
          "model_name": "HTMLModel",
          "state": {
            "_view_name": "HTMLView",
            "style": "IPY_MODEL_58370a94b8904be58ad166bf8b576d64",
            "_dom_classes": [],
            "description": "",
            "_model_name": "HTMLModel",
            "placeholder": "​",
            "_view_module": "@jupyter-widgets/controls",
            "_model_module_version": "1.5.0",
            "value": " 9413/9469 [00:00&lt;00:00, 17419.22 examples/s]",
            "_view_count": null,
            "_view_module_version": "1.5.0",
            "description_tooltip": null,
            "_model_module": "@jupyter-widgets/controls",
            "layout": "IPY_MODEL_5e6be0c06bd4496a89e2cfd4c9d9b215"
          }
        },
        "53458b7019174d4a8ee69547a46e3c67": {
          "model_module": "@jupyter-widgets/controls",
          "model_name": "ProgressStyleModel",
          "state": {
            "_view_name": "StyleView",
            "_model_name": "ProgressStyleModel",
            "description_width": "initial",
            "_view_module": "@jupyter-widgets/base",
            "_model_module_version": "1.5.0",
            "_view_count": null,
            "_view_module_version": "1.2.0",
            "bar_color": null,
            "_model_module": "@jupyter-widgets/controls"
          }
        },
        "eeaf78d35a0b4a01b41d97923755b462": {
          "model_module": "@jupyter-widgets/base",
          "model_name": "LayoutModel",
          "state": {
            "_view_name": "LayoutView",
            "grid_template_rows": null,
            "right": null,
            "justify_content": null,
            "_view_module": "@jupyter-widgets/base",
            "overflow": null,
            "_model_module_version": "1.2.0",
            "_view_count": null,
            "flex_flow": null,
            "width": null,
            "min_width": null,
            "border": null,
            "align_items": null,
            "bottom": null,
            "_model_module": "@jupyter-widgets/base",
            "top": null,
            "grid_column": null,
            "overflow_y": null,
            "overflow_x": null,
            "grid_auto_flow": null,
            "grid_area": null,
            "grid_template_columns": null,
            "flex": null,
            "_model_name": "LayoutModel",
            "justify_items": null,
            "grid_row": null,
            "max_height": null,
            "align_content": null,
            "visibility": null,
            "align_self": null,
            "height": null,
            "min_height": null,
            "padding": null,
            "grid_auto_rows": null,
            "grid_gap": null,
            "max_width": null,
            "order": null,
            "_view_module_version": "1.2.0",
            "grid_template_areas": null,
            "object_position": null,
            "object_fit": null,
            "grid_auto_columns": null,
            "margin": null,
            "display": null,
            "left": null
          }
        },
        "58370a94b8904be58ad166bf8b576d64": {
          "model_module": "@jupyter-widgets/controls",
          "model_name": "DescriptionStyleModel",
          "state": {
            "_view_name": "StyleView",
            "_model_name": "DescriptionStyleModel",
            "description_width": "",
            "_view_module": "@jupyter-widgets/base",
            "_model_module_version": "1.5.0",
            "_view_count": null,
            "_view_module_version": "1.2.0",
            "_model_module": "@jupyter-widgets/controls"
          }
        },
        "5e6be0c06bd4496a89e2cfd4c9d9b215": {
          "model_module": "@jupyter-widgets/base",
          "model_name": "LayoutModel",
          "state": {
            "_view_name": "LayoutView",
            "grid_template_rows": null,
            "right": null,
            "justify_content": null,
            "_view_module": "@jupyter-widgets/base",
            "overflow": null,
            "_model_module_version": "1.2.0",
            "_view_count": null,
            "flex_flow": null,
            "width": null,
            "min_width": null,
            "border": null,
            "align_items": null,
            "bottom": null,
            "_model_module": "@jupyter-widgets/base",
            "top": null,
            "grid_column": null,
            "overflow_y": null,
            "overflow_x": null,
            "grid_auto_flow": null,
            "grid_area": null,
            "grid_template_columns": null,
            "flex": null,
            "_model_name": "LayoutModel",
            "justify_items": null,
            "grid_row": null,
            "max_height": null,
            "align_content": null,
            "visibility": null,
            "align_self": null,
            "height": null,
            "min_height": null,
            "padding": null,
            "grid_auto_rows": null,
            "grid_gap": null,
            "max_width": null,
            "order": null,
            "_view_module_version": "1.2.0",
            "grid_template_areas": null,
            "object_position": null,
            "object_fit": null,
            "grid_auto_columns": null,
            "margin": null,
            "display": null,
            "left": null
          }
        },
        "ba214b3e0e914ce792b859d15464fb3a": {
          "model_module": "@jupyter-widgets/controls",
          "model_name": "HBoxModel",
          "state": {
            "_view_name": "HBoxView",
            "_dom_classes": [],
            "_model_name": "HBoxModel",
            "_view_module": "@jupyter-widgets/controls",
            "_model_module_version": "1.5.0",
            "_view_count": null,
            "_view_module_version": "1.5.0",
            "box_style": "",
            "layout": "IPY_MODEL_a51abd7324eb4c58844f221054928178",
            "_model_module": "@jupyter-widgets/controls",
            "children": [
              "IPY_MODEL_abbfd5830d874050a0b5e080aa8064b3",
              "IPY_MODEL_1a5f6d1c96c3458888c0f783a470b6d8"
            ]
          }
        },
        "a51abd7324eb4c58844f221054928178": {
          "model_module": "@jupyter-widgets/base",
          "model_name": "LayoutModel",
          "state": {
            "_view_name": "LayoutView",
            "grid_template_rows": null,
            "right": null,
            "justify_content": null,
            "_view_module": "@jupyter-widgets/base",
            "overflow": null,
            "_model_module_version": "1.2.0",
            "_view_count": null,
            "flex_flow": null,
            "width": null,
            "min_width": null,
            "border": null,
            "align_items": null,
            "bottom": null,
            "_model_module": "@jupyter-widgets/base",
            "top": null,
            "grid_column": null,
            "overflow_y": null,
            "overflow_x": null,
            "grid_auto_flow": null,
            "grid_area": null,
            "grid_template_columns": null,
            "flex": null,
            "_model_name": "LayoutModel",
            "justify_items": null,
            "grid_row": null,
            "max_height": null,
            "align_content": null,
            "visibility": null,
            "align_self": null,
            "height": null,
            "min_height": null,
            "padding": null,
            "grid_auto_rows": null,
            "grid_gap": null,
            "max_width": null,
            "order": null,
            "_view_module_version": "1.2.0",
            "grid_template_areas": null,
            "object_position": null,
            "object_fit": null,
            "grid_auto_columns": null,
            "margin": null,
            "display": null,
            "left": null
          }
        },
        "abbfd5830d874050a0b5e080aa8064b3": {
          "model_module": "@jupyter-widgets/controls",
          "model_name": "FloatProgressModel",
          "state": {
            "_view_name": "ProgressView",
            "style": "IPY_MODEL_d6711398f0bf4430b2fb22a76cfbb9db",
            "_dom_classes": [],
            "description": "",
            "_model_name": "FloatProgressModel",
            "bar_style": "info",
            "max": 1,
            "_view_module": "@jupyter-widgets/controls",
            "_model_module_version": "1.5.0",
            "value": 1,
            "_view_count": null,
            "_view_module_version": "1.5.0",
            "orientation": "horizontal",
            "min": 0,
            "description_tooltip": null,
            "_model_module": "@jupyter-widgets/controls",
            "layout": "IPY_MODEL_dc98009973cb4775a0afff720bff0441"
          }
        },
        "1a5f6d1c96c3458888c0f783a470b6d8": {
          "model_module": "@jupyter-widgets/controls",
          "model_name": "HTMLModel",
          "state": {
            "_view_name": "HTMLView",
            "style": "IPY_MODEL_7b3f09acbbc84c99a891825213c8cd04",
            "_dom_classes": [],
            "description": "",
            "_model_name": "HTMLModel",
            "placeholder": "​",
            "_view_module": "@jupyter-widgets/controls",
            "_model_module_version": "1.5.0",
            "value": " 3925/0 [00:01&lt;00:00, 2949.72 examples/s]",
            "_view_count": null,
            "_view_module_version": "1.5.0",
            "description_tooltip": null,
            "_model_module": "@jupyter-widgets/controls",
            "layout": "IPY_MODEL_b8442232553345748dcf8b9a7d4efd8c"
          }
        },
        "d6711398f0bf4430b2fb22a76cfbb9db": {
          "model_module": "@jupyter-widgets/controls",
          "model_name": "ProgressStyleModel",
          "state": {
            "_view_name": "StyleView",
            "_model_name": "ProgressStyleModel",
            "description_width": "initial",
            "_view_module": "@jupyter-widgets/base",
            "_model_module_version": "1.5.0",
            "_view_count": null,
            "_view_module_version": "1.2.0",
            "bar_color": null,
            "_model_module": "@jupyter-widgets/controls"
          }
        },
        "dc98009973cb4775a0afff720bff0441": {
          "model_module": "@jupyter-widgets/base",
          "model_name": "LayoutModel",
          "state": {
            "_view_name": "LayoutView",
            "grid_template_rows": null,
            "right": null,
            "justify_content": null,
            "_view_module": "@jupyter-widgets/base",
            "overflow": null,
            "_model_module_version": "1.2.0",
            "_view_count": null,
            "flex_flow": null,
            "width": null,
            "min_width": null,
            "border": null,
            "align_items": null,
            "bottom": null,
            "_model_module": "@jupyter-widgets/base",
            "top": null,
            "grid_column": null,
            "overflow_y": null,
            "overflow_x": null,
            "grid_auto_flow": null,
            "grid_area": null,
            "grid_template_columns": null,
            "flex": null,
            "_model_name": "LayoutModel",
            "justify_items": null,
            "grid_row": null,
            "max_height": null,
            "align_content": null,
            "visibility": null,
            "align_self": null,
            "height": null,
            "min_height": null,
            "padding": null,
            "grid_auto_rows": null,
            "grid_gap": null,
            "max_width": null,
            "order": null,
            "_view_module_version": "1.2.0",
            "grid_template_areas": null,
            "object_position": null,
            "object_fit": null,
            "grid_auto_columns": null,
            "margin": null,
            "display": null,
            "left": null
          }
        },
        "7b3f09acbbc84c99a891825213c8cd04": {
          "model_module": "@jupyter-widgets/controls",
          "model_name": "DescriptionStyleModel",
          "state": {
            "_view_name": "StyleView",
            "_model_name": "DescriptionStyleModel",
            "description_width": "",
            "_view_module": "@jupyter-widgets/base",
            "_model_module_version": "1.5.0",
            "_view_count": null,
            "_view_module_version": "1.2.0",
            "_model_module": "@jupyter-widgets/controls"
          }
        },
        "b8442232553345748dcf8b9a7d4efd8c": {
          "model_module": "@jupyter-widgets/base",
          "model_name": "LayoutModel",
          "state": {
            "_view_name": "LayoutView",
            "grid_template_rows": null,
            "right": null,
            "justify_content": null,
            "_view_module": "@jupyter-widgets/base",
            "overflow": null,
            "_model_module_version": "1.2.0",
            "_view_count": null,
            "flex_flow": null,
            "width": null,
            "min_width": null,
            "border": null,
            "align_items": null,
            "bottom": null,
            "_model_module": "@jupyter-widgets/base",
            "top": null,
            "grid_column": null,
            "overflow_y": null,
            "overflow_x": null,
            "grid_auto_flow": null,
            "grid_area": null,
            "grid_template_columns": null,
            "flex": null,
            "_model_name": "LayoutModel",
            "justify_items": null,
            "grid_row": null,
            "max_height": null,
            "align_content": null,
            "visibility": null,
            "align_self": null,
            "height": null,
            "min_height": null,
            "padding": null,
            "grid_auto_rows": null,
            "grid_gap": null,
            "max_width": null,
            "order": null,
            "_view_module_version": "1.2.0",
            "grid_template_areas": null,
            "object_position": null,
            "object_fit": null,
            "grid_auto_columns": null,
            "margin": null,
            "display": null,
            "left": null
          }
        },
        "0acc851245cc485eae0d7716ef4b9b30": {
          "model_module": "@jupyter-widgets/controls",
          "model_name": "HBoxModel",
          "state": {
            "_view_name": "HBoxView",
            "_dom_classes": [],
            "_model_name": "HBoxModel",
            "_view_module": "@jupyter-widgets/controls",
            "_model_module_version": "1.5.0",
            "_view_count": null,
            "_view_module_version": "1.5.0",
            "box_style": "",
            "layout": "IPY_MODEL_8dde75e85be24ea4a781ec04bb086089",
            "_model_module": "@jupyter-widgets/controls",
            "children": [
              "IPY_MODEL_b2adff7926ff43169cfaa12252c974a9",
              "IPY_MODEL_0ee564c5e6e248808fb9d7a74ea35068"
            ]
          }
        },
        "8dde75e85be24ea4a781ec04bb086089": {
          "model_module": "@jupyter-widgets/base",
          "model_name": "LayoutModel",
          "state": {
            "_view_name": "LayoutView",
            "grid_template_rows": null,
            "right": null,
            "justify_content": null,
            "_view_module": "@jupyter-widgets/base",
            "overflow": null,
            "_model_module_version": "1.2.0",
            "_view_count": null,
            "flex_flow": null,
            "width": null,
            "min_width": null,
            "border": null,
            "align_items": null,
            "bottom": null,
            "_model_module": "@jupyter-widgets/base",
            "top": null,
            "grid_column": null,
            "overflow_y": null,
            "overflow_x": null,
            "grid_auto_flow": null,
            "grid_area": null,
            "grid_template_columns": null,
            "flex": null,
            "_model_name": "LayoutModel",
            "justify_items": null,
            "grid_row": null,
            "max_height": null,
            "align_content": null,
            "visibility": null,
            "align_self": null,
            "height": null,
            "min_height": null,
            "padding": null,
            "grid_auto_rows": null,
            "grid_gap": null,
            "max_width": null,
            "order": null,
            "_view_module_version": "1.2.0",
            "grid_template_areas": null,
            "object_position": null,
            "object_fit": null,
            "grid_auto_columns": null,
            "margin": null,
            "display": null,
            "left": null
          }
        },
        "b2adff7926ff43169cfaa12252c974a9": {
          "model_module": "@jupyter-widgets/controls",
          "model_name": "FloatProgressModel",
          "state": {
            "_view_name": "ProgressView",
            "style": "IPY_MODEL_d6cacc28cdc64e378e3ca251b3ca3acf",
            "_dom_classes": [],
            "description": " 67%",
            "_model_name": "FloatProgressModel",
            "bar_style": "danger",
            "max": 3925,
            "_view_module": "@jupyter-widgets/controls",
            "_model_module_version": "1.5.0",
            "value": 2617,
            "_view_count": null,
            "_view_module_version": "1.5.0",
            "orientation": "horizontal",
            "min": 0,
            "description_tooltip": null,
            "_model_module": "@jupyter-widgets/controls",
            "layout": "IPY_MODEL_ca34ed68a2114250b872db93d103adfe"
          }
        },
        "0ee564c5e6e248808fb9d7a74ea35068": {
          "model_module": "@jupyter-widgets/controls",
          "model_name": "HTMLModel",
          "state": {
            "_view_name": "HTMLView",
            "style": "IPY_MODEL_63600b87e1ab4b3299c6081d7e606a34",
            "_dom_classes": [],
            "description": "",
            "_model_name": "HTMLModel",
            "placeholder": "​",
            "_view_module": "@jupyter-widgets/controls",
            "_model_module_version": "1.5.0",
            "value": " 2617/3925 [00:02&lt;00:00, 26168.78 examples/s]",
            "_view_count": null,
            "_view_module_version": "1.5.0",
            "description_tooltip": null,
            "_model_module": "@jupyter-widgets/controls",
            "layout": "IPY_MODEL_c8b60ba54dcc4ee1b56444ad1de48e6b"
          }
        },
        "d6cacc28cdc64e378e3ca251b3ca3acf": {
          "model_module": "@jupyter-widgets/controls",
          "model_name": "ProgressStyleModel",
          "state": {
            "_view_name": "StyleView",
            "_model_name": "ProgressStyleModel",
            "description_width": "initial",
            "_view_module": "@jupyter-widgets/base",
            "_model_module_version": "1.5.0",
            "_view_count": null,
            "_view_module_version": "1.2.0",
            "bar_color": null,
            "_model_module": "@jupyter-widgets/controls"
          }
        },
        "ca34ed68a2114250b872db93d103adfe": {
          "model_module": "@jupyter-widgets/base",
          "model_name": "LayoutModel",
          "state": {
            "_view_name": "LayoutView",
            "grid_template_rows": null,
            "right": null,
            "justify_content": null,
            "_view_module": "@jupyter-widgets/base",
            "overflow": null,
            "_model_module_version": "1.2.0",
            "_view_count": null,
            "flex_flow": null,
            "width": null,
            "min_width": null,
            "border": null,
            "align_items": null,
            "bottom": null,
            "_model_module": "@jupyter-widgets/base",
            "top": null,
            "grid_column": null,
            "overflow_y": null,
            "overflow_x": null,
            "grid_auto_flow": null,
            "grid_area": null,
            "grid_template_columns": null,
            "flex": null,
            "_model_name": "LayoutModel",
            "justify_items": null,
            "grid_row": null,
            "max_height": null,
            "align_content": null,
            "visibility": null,
            "align_self": null,
            "height": null,
            "min_height": null,
            "padding": null,
            "grid_auto_rows": null,
            "grid_gap": null,
            "max_width": null,
            "order": null,
            "_view_module_version": "1.2.0",
            "grid_template_areas": null,
            "object_position": null,
            "object_fit": null,
            "grid_auto_columns": null,
            "margin": null,
            "display": null,
            "left": null
          }
        },
        "63600b87e1ab4b3299c6081d7e606a34": {
          "model_module": "@jupyter-widgets/controls",
          "model_name": "DescriptionStyleModel",
          "state": {
            "_view_name": "StyleView",
            "_model_name": "DescriptionStyleModel",
            "description_width": "",
            "_view_module": "@jupyter-widgets/base",
            "_model_module_version": "1.5.0",
            "_view_count": null,
            "_view_module_version": "1.2.0",
            "_model_module": "@jupyter-widgets/controls"
          }
        },
        "c8b60ba54dcc4ee1b56444ad1de48e6b": {
          "model_module": "@jupyter-widgets/base",
          "model_name": "LayoutModel",
          "state": {
            "_view_name": "LayoutView",
            "grid_template_rows": null,
            "right": null,
            "justify_content": null,
            "_view_module": "@jupyter-widgets/base",
            "overflow": null,
            "_model_module_version": "1.2.0",
            "_view_count": null,
            "flex_flow": null,
            "width": null,
            "min_width": null,
            "border": null,
            "align_items": null,
            "bottom": null,
            "_model_module": "@jupyter-widgets/base",
            "top": null,
            "grid_column": null,
            "overflow_y": null,
            "overflow_x": null,
            "grid_auto_flow": null,
            "grid_area": null,
            "grid_template_columns": null,
            "flex": null,
            "_model_name": "LayoutModel",
            "justify_items": null,
            "grid_row": null,
            "max_height": null,
            "align_content": null,
            "visibility": null,
            "align_self": null,
            "height": null,
            "min_height": null,
            "padding": null,
            "grid_auto_rows": null,
            "grid_gap": null,
            "max_width": null,
            "order": null,
            "_view_module_version": "1.2.0",
            "grid_template_areas": null,
            "object_position": null,
            "object_fit": null,
            "grid_auto_columns": null,
            "margin": null,
            "display": null,
            "left": null
          }
        }
      }
    }
  },
  "cells": [
    {
      "cell_type": "code",
      "metadata": {
        "colab": {
          "base_uri": "https://localhost:8080/"
        },
        "id": "c-4tdfJhMHc2",
        "outputId": "c4223215-19ff-4c6c-efe8-ce28b1bdd39c"
      },
      "source": [
        "!nvidia-smi"
      ],
      "execution_count": 1,
      "outputs": [
        {
          "output_type": "stream",
          "text": [
            "Mon Apr 12 15:44:12 2021       \n",
            "+-----------------------------------------------------------------------------+\n",
            "| NVIDIA-SMI 460.67       Driver Version: 460.32.03    CUDA Version: 11.2     |\n",
            "|-------------------------------+----------------------+----------------------+\n",
            "| GPU  Name        Persistence-M| Bus-Id        Disp.A | Volatile Uncorr. ECC |\n",
            "| Fan  Temp  Perf  Pwr:Usage/Cap|         Memory-Usage | GPU-Util  Compute M. |\n",
            "|                               |                      |               MIG M. |\n",
            "|===============================+======================+======================|\n",
            "|   0  Tesla T4            Off  | 00000000:00:04.0 Off |                    0 |\n",
            "| N/A   47C    P8     9W /  70W |      0MiB / 15109MiB |      0%      Default |\n",
            "|                               |                      |                  N/A |\n",
            "+-------------------------------+----------------------+----------------------+\n",
            "                                                                               \n",
            "+-----------------------------------------------------------------------------+\n",
            "| Processes:                                                                  |\n",
            "|  GPU   GI   CI        PID   Type   Process name                  GPU Memory |\n",
            "|        ID   ID                                                   Usage      |\n",
            "|=============================================================================|\n",
            "|  No running processes found                                                 |\n",
            "+-----------------------------------------------------------------------------+\n"
          ],
          "name": "stdout"
        }
      ]
    },
    {
      "cell_type": "code",
      "metadata": {
        "colab": {
          "base_uri": "https://localhost:8080/"
        },
        "id": "IPmXPNOwMQxw",
        "outputId": "36859fba-d829-481f-dca6-29f257ade235"
      },
      "source": [
        "%cd /content"
      ],
      "execution_count": 2,
      "outputs": [
        {
          "output_type": "stream",
          "text": [
            "/content\n"
          ],
          "name": "stdout"
        }
      ]
    },
    {
      "cell_type": "code",
      "metadata": {
        "colab": {
          "base_uri": "https://localhost:8080/"
        },
        "id": "bJ5lUwfiMuY5",
        "outputId": "b2cb5374-a8f4-477a-e606-3b87e66fc380"
      },
      "source": [
        "%pip install -q tensorflow-addons[tensorflow]\n",
        "%pip install -q wandb"
      ],
      "execution_count": 3,
      "outputs": [
        {
          "output_type": "stream",
          "text": [
            "\u001b[K     |████████████████████████████████| 706kB 8.3MB/s \n",
            "\u001b[K     |████████████████████████████████| 2.1MB 7.7MB/s \n",
            "\u001b[K     |████████████████████████████████| 133kB 51.4MB/s \n",
            "\u001b[K     |████████████████████████████████| 163kB 54.1MB/s \n",
            "\u001b[K     |████████████████████████████████| 102kB 9.4MB/s \n",
            "\u001b[K     |████████████████████████████████| 71kB 10.7MB/s \n",
            "\u001b[?25h  Building wheel for pathtools (setup.py) ... \u001b[?25l\u001b[?25hdone\n",
            "  Building wheel for subprocess32 (setup.py) ... \u001b[?25l\u001b[?25hdone\n"
          ],
          "name": "stdout"
        }
      ]
    },
    {
      "cell_type": "code",
      "metadata": {
        "colab": {
          "base_uri": "https://localhost:8080/"
        },
        "id": "aDfb4WAQMy6y",
        "outputId": "a9f5a81a-8fd3-4850-a515-ae2d56cdd461"
      },
      "source": [
        "!git clone https://github.com/ShivamShrirao/tiny-imagenet-test"
      ],
      "execution_count": 4,
      "outputs": [
        {
          "output_type": "stream",
          "text": [
            "Cloning into 'tiny-imagenet-test'...\n",
            "remote: Enumerating objects: 127, done.\u001b[K\n",
            "remote: Counting objects: 100% (127/127), done.\u001b[K\n",
            "remote: Compressing objects: 100% (89/89), done.\u001b[K\n",
            "remote: Total 127 (delta 73), reused 89 (delta 35), pack-reused 0\u001b[K\n",
            "Receiving objects: 100% (127/127), 355.16 KiB | 16.91 MiB/s, done.\n",
            "Resolving deltas: 100% (73/73), done.\n"
          ],
          "name": "stdout"
        }
      ]
    },
    {
      "cell_type": "code",
      "metadata": {
        "colab": {
          "base_uri": "https://localhost:8080/"
        },
        "id": "uM_hVbwHM0QN",
        "outputId": "5307ccf3-a47e-40e7-d2d1-1edb2593bcbd"
      },
      "source": [
        "%cd tiny-imagenet-test"
      ],
      "execution_count": 5,
      "outputs": [
        {
          "output_type": "stream",
          "text": [
            "/content/tiny-imagenet-test\n"
          ],
          "name": "stdout"
        }
      ]
    },
    {
      "cell_type": "code",
      "metadata": {
        "colab": {
          "base_uri": "https://localhost:8080/"
        },
        "id": "CS8zl5weM1T3",
        "outputId": "f6afcd41-c36c-4c45-c27b-0a643c3ae108"
      },
      "source": [
        "!git pull"
      ],
      "execution_count": 6,
      "outputs": [
        {
          "output_type": "stream",
          "text": [
            "Already up to date.\n"
          ],
          "name": "stdout"
        }
      ]
    },
    {
      "cell_type": "code",
      "metadata": {
        "id": "605_JIh1M3Um"
      },
      "source": [
        "%load_ext autoreload\n",
        "%autoreload 2"
      ],
      "execution_count": 7,
      "outputs": []
    },
    {
      "cell_type": "code",
      "metadata": {
        "id": "81FT4N_uM4IE"
      },
      "source": [
        "import tensorflow as tf\n",
        "from tensorflow.keras import layers\n",
        "import numpy as np\n",
        "import matplotlib.pyplot as plt\n",
        "import PIL.Image\n",
        "import glob\n",
        "import os\n",
        "import csv\n",
        "from tqdm.notebook import tqdm\n",
        "from time import time\n",
        "import random\n",
        "%matplotlib inline"
      ],
      "execution_count": 8,
      "outputs": []
    },
    {
      "cell_type": "code",
      "metadata": {
        "id": "R1Arklj6M5VF"
      },
      "source": [
        "import tensorflow_addons as tfa\n",
        "import tensorflow_datasets as tfds"
      ],
      "execution_count": 9,
      "outputs": []
    },
    {
      "cell_type": "code",
      "metadata": {
        "id": "fJqf5pRYM8AY"
      },
      "source": [
        "import wandb\n",
        "from wandb.keras import WandbCallback"
      ],
      "execution_count": 10,
      "outputs": []
    },
    {
      "cell_type": "code",
      "metadata": {
        "id": "S3C_z2OIM83T"
      },
      "source": [
        "tf.keras.backend.set_image_data_format('channels_first')"
      ],
      "execution_count": 11,
      "outputs": []
    },
    {
      "cell_type": "code",
      "metadata": {
        "colab": {
          "base_uri": "https://localhost:8080/"
        },
        "id": "xnejQYczM-EL",
        "outputId": "decb5f82-451b-400c-8712-80ee2b8fa7b6"
      },
      "source": [
        "from tensorflow.keras.mixed_precision import experimental as mixed_precision\n",
        "policy = mixed_precision.Policy('mixed_float16')\n",
        "mixed_precision.set_policy(policy)"
      ],
      "execution_count": 12,
      "outputs": [
        {
          "output_type": "stream",
          "text": [
            "INFO:tensorflow:Mixed precision compatibility check (mixed_float16): OK\n",
            "Your GPU will likely run quickly with dtype policy mixed_float16 as it has compute capability of at least 7.0. Your GPU: Tesla T4, compute capability 7.5\n",
            "WARNING:tensorflow:From /usr/local/lib/python3.7/dist-packages/tensorflow/python/keras/mixed_precision/loss_scale.py:56: DynamicLossScale.__init__ (from tensorflow.python.training.experimental.loss_scale) is deprecated and will be removed in a future version.\n",
            "Instructions for updating:\n",
            "Use tf.keras.mixed_precision.LossScaleOptimizer instead. LossScaleOptimizer now has all the functionality of DynamicLossScale\n"
          ],
          "name": "stdout"
        }
      ]
    },
    {
      "cell_type": "code",
      "metadata": {
        "id": "UbIGpqPLfTY9",
        "colab": {
          "base_uri": "https://localhost:8080/",
          "height": 367,
          "referenced_widgets": [
            "104bba47c3164106ae16090ae6f7be9e",
            "8bc8a17868514b26b877d7e9a5d11cf2",
            "979851adc5434ce6ba0e26211d0efd89",
            "d47ce942977d4a74bd7fdd7c5c4495c4",
            "455ae60548d8495b9fc035b9a9784928",
            "361926a833ef44af945ceee11c578820",
            "c9882dd14ea142a08aab93c0cffaa62d",
            "acc6f61ece5b472ab8dc5f9dd28ebe14",
            "55bb03cb96fe4e88a66ec7debe700e4a",
            "3542daba50434558afea93e5f1bcb21a",
            "6ebf1d42d16e43e4993e22647b1c7f03",
            "b7b8193b39624fca8a80ede58b603481",
            "7f6d4fae114f411f8c8e0888235402bd",
            "7c699ad8168c4e85af2bc40b1d7d775d",
            "0eb11fe5779741109c860aaf0bf70813",
            "2587050caac143a49d2d6b502a76fae6",
            "b92b24c761fd44dcaf2bde1e1939006e",
            "67a03d33be684af7886301825ad9b6c1",
            "be24965d5fd44fffa8a7e2bb2c45a76e",
            "fab4abe0bc9b4b149ae7e1788cf2770a",
            "b3080e3a087b434199a35896b5b1d383",
            "1c542070308b41819ab4224664eb4558",
            "af865b8e03554a7ea95c42bc24f0c275",
            "bef5b42db47e4c79a5b2dfd51a38785d",
            "793daca7f25a480784aa3cd8db7eefa6",
            "6f27b04a9211437a89c274b1ee5cd79b",
            "4df1b0f4a4184c378c4721c1d1a1a671",
            "cdfefdca2325486e9ac6dc2964686f1f",
            "71781da6aefa4ac78bbb0625b4285933",
            "83cfbd42fce343bf8a06fc20d4ba9737",
            "fcd59a84505742d49207383f1af26917",
            "67fb1cb25dee49818a3560ccd28350d0",
            "82ef7b3c5131452b9984b6dc45461329",
            "70cb0487a06d44318b566e1f8de13cae",
            "99e7b773df154ebcb0f236d9426c7ea7",
            "1fbeb6a63fdf4ba49c2f453e6dbb1101",
            "53458b7019174d4a8ee69547a46e3c67",
            "eeaf78d35a0b4a01b41d97923755b462",
            "58370a94b8904be58ad166bf8b576d64",
            "5e6be0c06bd4496a89e2cfd4c9d9b215",
            "ba214b3e0e914ce792b859d15464fb3a",
            "a51abd7324eb4c58844f221054928178",
            "abbfd5830d874050a0b5e080aa8064b3",
            "1a5f6d1c96c3458888c0f783a470b6d8",
            "d6711398f0bf4430b2fb22a76cfbb9db",
            "dc98009973cb4775a0afff720bff0441",
            "7b3f09acbbc84c99a891825213c8cd04",
            "b8442232553345748dcf8b9a7d4efd8c",
            "0acc851245cc485eae0d7716ef4b9b30",
            "8dde75e85be24ea4a781ec04bb086089",
            "b2adff7926ff43169cfaa12252c974a9",
            "0ee564c5e6e248808fb9d7a74ea35068",
            "d6cacc28cdc64e378e3ca251b3ca3acf",
            "ca34ed68a2114250b872db93d103adfe",
            "63600b87e1ab4b3299c6081d7e606a34",
            "c8b60ba54dcc4ee1b56444ad1de48e6b"
          ]
        },
        "outputId": "af159574-e449-415a-f204-9a15f516e9b0"
      },
      "source": [
        "train_inpds = tfds.load(\"imagenette/320px-v2\", split='train', shuffle_files=True)\n",
        "val_inpds = tfds.load(\"imagenette/320px-v2\", split='validation')"
      ],
      "execution_count": 14,
      "outputs": [
        {
          "output_type": "stream",
          "text": [
            "\u001b[1mDownloading and preparing dataset imagenette/320px-v2/0.1.0 (download: 325.73 MiB, generated: 332.71 MiB, total: 658.44 MiB) to /root/tensorflow_datasets/imagenette/320px-v2/0.1.0...\u001b[0m\n"
          ],
          "name": "stdout"
        },
        {
          "output_type": "display_data",
          "data": {
            "application/vnd.jupyter.widget-view+json": {
              "model_id": "104bba47c3164106ae16090ae6f7be9e",
              "version_minor": 0,
              "version_major": 2
            },
            "text/plain": [
              "HBox(children=(FloatProgress(value=1.0, bar_style='info', description='Dl Completed...', max=1.0, style=Progre…"
            ]
          },
          "metadata": {
            "tags": []
          }
        },
        {
          "output_type": "display_data",
          "data": {
            "application/vnd.jupyter.widget-view+json": {
              "model_id": "55bb03cb96fe4e88a66ec7debe700e4a",
              "version_minor": 0,
              "version_major": 2
            },
            "text/plain": [
              "HBox(children=(FloatProgress(value=1.0, bar_style='info', description='Dl Size...', max=1.0, style=ProgressSty…"
            ]
          },
          "metadata": {
            "tags": []
          }
        },
        {
          "output_type": "display_data",
          "data": {
            "application/vnd.jupyter.widget-view+json": {
              "model_id": "b92b24c761fd44dcaf2bde1e1939006e",
              "version_minor": 0,
              "version_major": 2
            },
            "text/plain": [
              "HBox(children=(FloatProgress(value=1.0, bar_style='info', description='Extraction completed...', max=1.0, styl…"
            ]
          },
          "metadata": {
            "tags": []
          }
        },
        {
          "output_type": "stream",
          "text": [
            "\n",
            "\n",
            "\n",
            "\n",
            "\n",
            "\n"
          ],
          "name": "stdout"
        },
        {
          "output_type": "display_data",
          "data": {
            "application/vnd.jupyter.widget-view+json": {
              "model_id": "793daca7f25a480784aa3cd8db7eefa6",
              "version_minor": 0,
              "version_major": 2
            },
            "text/plain": [
              "HBox(children=(FloatProgress(value=1.0, bar_style='info', max=1.0), HTML(value='')))"
            ]
          },
          "metadata": {
            "tags": []
          }
        },
        {
          "output_type": "stream",
          "text": [
            "\rShuffling and writing examples to /root/tensorflow_datasets/imagenette/320px-v2/0.1.0.incomplete1Y0PPC/imagenette-train.tfrecord\n"
          ],
          "name": "stdout"
        },
        {
          "output_type": "display_data",
          "data": {
            "application/vnd.jupyter.widget-view+json": {
              "model_id": "82ef7b3c5131452b9984b6dc45461329",
              "version_minor": 0,
              "version_major": 2
            },
            "text/plain": [
              "HBox(children=(FloatProgress(value=0.0, max=9469.0), HTML(value='')))"
            ]
          },
          "metadata": {
            "tags": []
          }
        },
        {
          "output_type": "stream",
          "text": [
            "\r"
          ],
          "name": "stdout"
        },
        {
          "output_type": "display_data",
          "data": {
            "application/vnd.jupyter.widget-view+json": {
              "model_id": "ba214b3e0e914ce792b859d15464fb3a",
              "version_minor": 0,
              "version_major": 2
            },
            "text/plain": [
              "HBox(children=(FloatProgress(value=1.0, bar_style='info', max=1.0), HTML(value='')))"
            ]
          },
          "metadata": {
            "tags": []
          }
        },
        {
          "output_type": "stream",
          "text": [
            "\rShuffling and writing examples to /root/tensorflow_datasets/imagenette/320px-v2/0.1.0.incomplete1Y0PPC/imagenette-validation.tfrecord\n"
          ],
          "name": "stdout"
        },
        {
          "output_type": "display_data",
          "data": {
            "application/vnd.jupyter.widget-view+json": {
              "model_id": "0acc851245cc485eae0d7716ef4b9b30",
              "version_minor": 0,
              "version_major": 2
            },
            "text/plain": [
              "HBox(children=(FloatProgress(value=0.0, max=3925.0), HTML(value='')))"
            ]
          },
          "metadata": {
            "tags": []
          }
        },
        {
          "output_type": "stream",
          "text": [
            "\u001b[1mDataset imagenette downloaded and prepared to /root/tensorflow_datasets/imagenette/320px-v2/0.1.0. Subsequent calls will reuse this data.\u001b[0m\n"
          ],
          "name": "stdout"
        }
      ]
    },
    {
      "cell_type": "code",
      "metadata": {
        "id": "7vDzcQ1xsppz"
      },
      "source": [
        "BATCH_SIZE = 192\n",
        "img_height, img_width = 224, 224"
      ],
      "execution_count": 15,
      "outputs": []
    },
    {
      "cell_type": "code",
      "metadata": {
        "id": "mcm1rw9op3aK"
      },
      "source": [
        "AUTOTUNE = tf.data.AUTOTUNE"
      ],
      "execution_count": 16,
      "outputs": []
    },
    {
      "cell_type": "code",
      "metadata": {
        "id": "qHpfnjk3sR4K",
        "colab": {
          "base_uri": "https://localhost:8080/"
        },
        "outputId": "be2f9afe-0ae6-41b5-c823-6b3f1515c797"
      },
      "source": [
        "rng = tf.random.Generator.from_seed(123, alg='philox')\n",
        "def preproc_train(inp):         # per image\n",
        "    img, lbl = inp['image'], inp['label']\n",
        "    img = tf.image.stateless_random_crop(img, (320, 320, 3), seed=rng.make_seeds(2)[0])\n",
        "    img = img/255\n",
        "    return img, lbl\n",
        "\n",
        "def preproc_val(inp):           # per image\n",
        "    img, lbl = inp['image'], inp['label']\n",
        "    img = tf.image.resize(img, (320, 320))\n",
        "    img = img/255\n",
        "    return img, lbl\n",
        "\n",
        "def augment(img, lbl):          # over batches\n",
        "    if tf.random.uniform(shape=[]) > 0.1:\n",
        "        seed = rng.make_seeds(2)[0]\n",
        "        img = tf.image.stateless_random_saturation(img, 0.3, 3, seed)\n",
        "        img = tf.image.stateless_random_hue(img, 0.08, seed)\n",
        "        img = tf.image.stateless_random_contrast(img, 0.4, 1, seed)\n",
        "        img = tf.image.stateless_random_brightness(img, 0.3, seed)\n",
        "        img = tf.clip_by_value(img, 0, 1)\n",
        "    return img, lbl\n",
        "\n",
        "augmentation_layers = tf.keras.Sequential([                     # over batches\n",
        "    layers.experimental.preprocessing.RandomFlip(\"horizontal\"),\n",
        "    layers.experimental.preprocessing.RandomHeight(0.3),\n",
        "    layers.experimental.preprocessing.RandomWidth(0.3),\n",
        "    layers.experimental.preprocessing.RandomTranslation(0.3,0.3),\n",
        "    layers.experimental.preprocessing.RandomRotation(0.15),     # 0.12 * 2pi = 43.2 deg\n",
        "    layers.experimental.preprocessing.Resizing(img_height, img_width)\n",
        "])\n",
        "def augmentation_layers_wrapper(x, y):\n",
        "    with tf.device('/device:GPU:0'):\n",
        "        if tf.random.uniform(shape=[]) > 0.1:\n",
        "            x, y = augmentation_layers(x, training=True), y\n",
        "        return x, y\n",
        "\n",
        "def channel_first(img, lbl):    # over batches\n",
        "    with tf.device('/device:GPU:0'):\n",
        "        img = tf.image.resize(img, (img_height, img_width))\n",
        "        img = tf.transpose(img, perm=[0,3,1,2])\n",
        "    return img, lbl"
      ],
      "execution_count": 17,
      "outputs": [
        {
          "output_type": "stream",
          "text": [
            "\r"
          ],
          "name": "stdout"
        }
      ]
    },
    {
      "cell_type": "code",
      "metadata": {
        "id": "2GYTyhCKvaWF"
      },
      "source": [
        "train_ds = (\n",
        "    train_inpds\n",
        "    .map(preproc_train, num_parallel_calls=AUTOTUNE)\n",
        "    .batch(BATCH_SIZE)\n",
        "    .map(augment, num_parallel_calls=AUTOTUNE)\n",
        "    .map(augmentation_layers_wrapper, num_parallel_calls=AUTOTUNE)\n",
        "    .map(channel_first, num_parallel_calls=AUTOTUNE)\n",
        "    .prefetch(AUTOTUNE)\n",
        "    )"
      ],
      "execution_count": 18,
      "outputs": []
    },
    {
      "cell_type": "code",
      "metadata": {
        "id": "4Gf_80_qk2WB"
      },
      "source": [
        "val_ds = (\n",
        "    val_inpds\n",
        "    .map(preproc_val, num_parallel_calls=AUTOTUNE)\n",
        "    .batch(BATCH_SIZE)\n",
        "    .map(channel_first, num_parallel_calls=AUTOTUNE)\n",
        "    .prefetch(AUTOTUNE)\n",
        "    )"
      ],
      "execution_count": 19,
      "outputs": []
    },
    {
      "cell_type": "code",
      "metadata": {
        "colab": {
          "base_uri": "https://localhost:8080/",
          "height": 286
        },
        "id": "-n1w2RypsVgU",
        "outputId": "48be2538-4aac-49b3-df46-a7f6a4213050"
      },
      "source": [
        "a, b = next(iter(train_ds))\n",
        "plt.imshow(a[0].numpy().transpose(1,2,0))"
      ],
      "execution_count": 20,
      "outputs": [
        {
          "output_type": "execute_result",
          "data": {
            "text/plain": [
              "<matplotlib.image.AxesImage at 0x7f05d7f4b450>"
            ]
          },
          "metadata": {
            "tags": []
          },
          "execution_count": 20
        },
        {
          "output_type": "display_data",
          "data": {
            "image/png": "[encoded data removed]",
            "text/plain": [
              "<Figure size 432x288 with 1 Axes>"
            ]
          },
          "metadata": {
            "tags": [],
            "needs_background": "light"
          }
        }
      ]
    },
    {
      "cell_type": "code",
      "metadata": {
        "id": "mZpFBajCsasx",
        "colab": {
          "base_uri": "https://localhost:8080/",
          "height": 68
        },
        "outputId": "9dfc90b8-7e4b-47dc-bdee-aa13c235794c"
      },
      "source": [
        "wandb.login()"
      ],
      "execution_count": 22,
      "outputs": [
        {
          "output_type": "display_data",
          "data": {
            "application/javascript": [
              "\n",
              "        window._wandbApiKey = new Promise((resolve, reject) => {\n",
              "            function loadScript(url) {\n",
              "            return new Promise(function(resolve, reject) {\n",
              "                let newScript = document.createElement(\"script\");\n",
              "                newScript.onerror = reject;\n",
              "                newScript.onload = resolve;\n",
              "                document.body.appendChild(newScript);\n",
              "                newScript.src = url;\n",
              "            });\n",
              "            }\n",
              "            loadScript(\"https://cdn.jsdelivr.net/npm/postmate/build/postmate.min.js\").then(() => {\n",
              "            const iframe = document.createElement('iframe')\n",
              "            iframe.style.cssText = \"width:0;height:0;border:none\"\n",
              "            document.body.appendChild(iframe)\n",
              "            const handshake = new Postmate({\n",
              "                container: iframe,\n",
              "                url: 'https://wandb.ai/authorize'\n",
              "            });\n",
              "            const timeout = setTimeout(() => reject(\"Couldn't auto authenticate\"), 5000)\n",
              "            handshake.then(function(child) {\n",
              "                child.on('authorize', data => {\n",
              "                    clearTimeout(timeout)\n",
              "                    resolve(data)\n",
              "                });\n",
              "            });\n",
              "            })\n",
              "        });\n",
              "    "
            ],
            "text/plain": [
              "<IPython.core.display.Javascript object>"
            ]
          },
          "metadata": {
            "tags": []
          }
        },
        {
          "output_type": "stream",
          "text": [
            "\u001b[34m\u001b[1mwandb\u001b[0m: Appending key for api.wandb.ai to your netrc file: /root/.netrc\n"
          ],
          "name": "stderr"
        },
        {
          "output_type": "execute_result",
          "data": {
            "text/plain": [
              "True"
            ]
          },
          "metadata": {
            "tags": []
          },
          "execution_count": 22
        }
      ]
    },
    {
      "cell_type": "code",
      "metadata": {
        "id": "K6U3Nbb2sbov"
      },
      "source": [
        "config_defaults = {\n",
        "    'activation'            : 'relu',\n",
        "    'batch_size'            : BATCH_SIZE,\n",
        "    'dp_rate'               : 0,\n",
        "    'optimizer'             : 'adamw',\n",
        "    'lr'                    : 8e-4,\n",
        "    'weight_decay'          : 2e-6,\n",
        "    'squeeze_reduce'        : 16,\n",
        "    'loss_function'         : 'cce',\n",
        "    'model'                 : 'Resnext50_32x4d',\n",
        "    'z_data'                : ['strides: 2,2,2,1']\n",
        "}"
      ],
      "execution_count": 24,
      "outputs": []
    },
    {
      "cell_type": "code",
      "metadata": {
        "colab": {
          "base_uri": "https://localhost:8080/",
          "height": 136
        },
        "id": "WKzlcwTPq8XU",
        "outputId": "570d55ae-532a-4690-8d21-ce2ad103a457"
      },
      "source": [
        "run = wandb.init(project=\"imagenette-tests\", entity=\"shivamshrirao\", config=config_defaults)\n",
        "CONFIG = wandb.config"
      ],
      "execution_count": 25,
      "outputs": [
        {
          "output_type": "stream",
          "text": [
            "\u001b[34m\u001b[1mwandb\u001b[0m: Currently logged in as: \u001b[33mshivamshrirao\u001b[0m (use `wandb login --relogin` to force relogin)\n"
          ],
          "name": "stderr"
        },
        {
          "output_type": "display_data",
          "data": {
            "text/html": [
              "\n",
              "                Tracking run with wandb version 0.10.25<br/>\n",
              "                Syncing run <strong style=\"color:#cdcd00\">peachy-dust-6</strong> to <a href=\"https://wandb.ai\" target=\"_blank\">Weights & Biases</a> <a href=\"https://docs.wandb.com/integrations/jupyter.html\" target=\"_blank\">(Documentation)</a>.<br/>\n",
              "                Project page: <a href=\"https://wandb.ai/shivamshrirao/imagenette-tests\" target=\"_blank\">https://wandb.ai/shivamshrirao/imagenette-tests</a><br/>\n",
              "                Run page: <a href=\"https://wandb.ai/shivamshrirao/imagenette-tests/runs/2v12ovp2\" target=\"_blank\">https://wandb.ai/shivamshrirao/imagenette-tests/runs/2v12ovp2</a><br/>\n",
              "                Run data is saved locally in <code>/content/tiny-imagenet-test/wandb/run-20210412_154627-2v12ovp2</code><br/><br/>\n",
              "            "
            ],
            "text/plain": [
              "<IPython.core.display.HTML object>"
            ]
          },
          "metadata": {
            "tags": []
          }
        }
      ]
    },
    {
      "cell_type": "code",
      "metadata": {
        "id": "6ZPflb0u2_KL"
      },
      "source": [
        "# def ResAttnnet50(inputs=None,\n",
        "#              input_shape=(3,224,224),\n",
        "#              num_classes=1000,\n",
        "#              dp_rate=0,\n",
        "#              activation=tf.nn.relu):\n",
        "\n",
        "#     return Resnet(AttnBottleneck, num_repeats=[3,4,6,3], inputs=inputs, input_shape=input_shape, num_classes=num_classes,\n",
        "#                   dp_rate=dp_rate, activation=activation, self_attn=[False,False,True,True], nheads=8, pos_emb=True, frac_dk=1, frac_dv=1)"
      ],
      "execution_count": 26,
      "outputs": []
    },
    {
      "cell_type": "code",
      "metadata": {
        "id": "r4dHJMVHM_MJ"
      },
      "source": [
        "from resnet import *"
      ],
      "execution_count": 27,
      "outputs": []
    },
    {
      "cell_type": "code",
      "metadata": {
        "id": "Mx36csxaNjPD"
      },
      "source": [
        "model = Resnext50_32x4d(input_shape=(3,224,224),\n",
        "                 num_classes=10,\n",
        "                 squeeze_reduce=CONFIG[\"squeeze_reduce\"],\n",
        "                 activation=CONFIG[\"activation\"],\n",
        "                 dp_rate=CONFIG[\"dp_rate\"]\n",
        "                 ).get_model()"
      ],
      "execution_count": 28,
      "outputs": []
    },
    {
      "cell_type": "code",
      "metadata": {
        "colab": {
          "base_uri": "https://localhost:8080/"
        },
        "id": "uIEmUBPoXgMy",
        "outputId": "3acf8cfd-63eb-4c31-a272-d13b5ec9bbbb"
      },
      "source": [
        "model.summary()"
      ],
      "execution_count": 29,
      "outputs": [
        {
          "output_type": "stream",
          "text": [
            "Model: \"model\"\n",
            "__________________________________________________________________________________________________\n",
            "Layer (type)                    Output Shape         Param #     Connected to                     \n",
            "==================================================================================================\n",
            "input_1 (InputLayer)            [(None, 3, 224, 224) 0                                            \n",
            "__________________________________________________________________________________________________\n",
            "conv2d (Conv2D)                 (None, 64, 112, 112) 9472        input_1[0][0]                    \n",
            "__________________________________________________________________________________________________\n",
            "max_pooling2d (MaxPooling2D)    (None, 64, 56, 56)   0           conv2d[0][0]                     \n",
            "__________________________________________________________________________________________________\n",
            "batch_normalization (BatchNorma (None, 64, 56, 56)   256         max_pooling2d[0][0]              \n",
            "__________________________________________________________________________________________________\n",
            "activation (Activation)         (None, 64, 56, 56)   0           batch_normalization[0][0]        \n",
            "__________________________________________________________________________________________________\n",
            "conv1x1_in_0_block0 (Conv2D)    (None, 128, 56, 56)  8192        activation[0][0]                 \n",
            "__________________________________________________________________________________________________\n",
            "batch_normalization_1 (BatchNor (None, 128, 56, 56)  512         conv1x1_in_0_block0[0][0]        \n",
            "__________________________________________________________________________________________________\n",
            "activation_1 (Activation)       (None, 128, 56, 56)  0           batch_normalization_1[0][0]      \n",
            "__________________________________________________________________________________________________\n",
            "conv3x3_0_block0 (Conv2D)       (None, 128, 56, 56)  4608        activation_1[0][0]               \n",
            "__________________________________________________________________________________________________\n",
            "batch_normalization_2 (BatchNor (None, 128, 56, 56)  512         conv3x3_0_block0[0][0]           \n",
            "__________________________________________________________________________________________________\n",
            "activation_2 (Activation)       (None, 128, 56, 56)  0           batch_normalization_2[0][0]      \n",
            "__________________________________________________________________________________________________\n",
            "conv1x1_out_0_block0 (Conv2D)   (None, 256, 56, 56)  33024       activation_2[0][0]               \n",
            "__________________________________________________________________________________________________\n",
            "conv1x1_identity_0_block0 (Conv (None, 256, 56, 56)  16640       activation[0][0]                 \n",
            "__________________________________________________________________________________________________\n",
            "squeeze_attention2d (SqueezeAtt (None, 256, 56, 56)  8464        conv1x1_out_0_block0[0][0]       \n",
            "__________________________________________________________________________________________________\n",
            "add (Add)                       (None, 256, 56, 56)  0           conv1x1_identity_0_block0[0][0]  \n",
            "                                                                 squeeze_attention2d[0][0]        \n",
            "__________________________________________________________________________________________________\n",
            "batch_normalization_3 (BatchNor (None, 256, 56, 56)  1024        add[0][0]                        \n",
            "__________________________________________________________________________________________________\n",
            "activation_3 (Activation)       (None, 256, 56, 56)  0           batch_normalization_3[0][0]      \n",
            "__________________________________________________________________________________________________\n",
            "conv1x1_in_0_block1 (Conv2D)    (None, 128, 56, 56)  32768       activation_3[0][0]               \n",
            "__________________________________________________________________________________________________\n",
            "batch_normalization_4 (BatchNor (None, 128, 56, 56)  512         conv1x1_in_0_block1[0][0]        \n",
            "__________________________________________________________________________________________________\n",
            "activation_4 (Activation)       (None, 128, 56, 56)  0           batch_normalization_4[0][0]      \n",
            "__________________________________________________________________________________________________\n",
            "conv3x3_0_block1 (Conv2D)       (None, 128, 56, 56)  4608        activation_4[0][0]               \n",
            "__________________________________________________________________________________________________\n",
            "batch_normalization_5 (BatchNor (None, 128, 56, 56)  512         conv3x3_0_block1[0][0]           \n",
            "__________________________________________________________________________________________________\n",
            "activation_5 (Activation)       (None, 128, 56, 56)  0           batch_normalization_5[0][0]      \n",
            "__________________________________________________________________________________________________\n",
            "conv1x1_out_0_block1 (Conv2D)   (None, 256, 56, 56)  33024       activation_5[0][0]               \n",
            "__________________________________________________________________________________________________\n",
            "squeeze_attention2d_1 (SqueezeA (None, 256, 56, 56)  8464        conv1x1_out_0_block1[0][0]       \n",
            "__________________________________________________________________________________________________\n",
            "add_1 (Add)                     (None, 256, 56, 56)  0           add[0][0]                        \n",
            "                                                                 squeeze_attention2d_1[0][0]      \n",
            "__________________________________________________________________________________________________\n",
            "batch_normalization_6 (BatchNor (None, 256, 56, 56)  1024        add_1[0][0]                      \n",
            "__________________________________________________________________________________________________\n",
            "activation_6 (Activation)       (None, 256, 56, 56)  0           batch_normalization_6[0][0]      \n",
            "__________________________________________________________________________________________________\n",
            "conv1x1_in_0_block2 (Conv2D)    (None, 128, 56, 56)  32768       activation_6[0][0]               \n",
            "__________________________________________________________________________________________________\n",
            "batch_normalization_7 (BatchNor (None, 128, 56, 56)  512         conv1x1_in_0_block2[0][0]        \n",
            "__________________________________________________________________________________________________\n",
            "activation_7 (Activation)       (None, 128, 56, 56)  0           batch_normalization_7[0][0]      \n",
            "__________________________________________________________________________________________________\n",
            "conv3x3_0_block2 (Conv2D)       (None, 128, 28, 28)  4608        activation_7[0][0]               \n",
            "__________________________________________________________________________________________________\n",
            "batch_normalization_8 (BatchNor (None, 128, 28, 28)  512         conv3x3_0_block2[0][0]           \n",
            "__________________________________________________________________________________________________\n",
            "activation_8 (Activation)       (None, 128, 28, 28)  0           batch_normalization_8[0][0]      \n",
            "__________________________________________________________________________________________________\n",
            "conv1x1_out_0_block2 (Conv2D)   (None, 256, 28, 28)  33024       activation_8[0][0]               \n",
            "__________________________________________________________________________________________________\n",
            "max_pooling2d_1 (MaxPooling2D)  (None, 256, 28, 28)  0           add_1[0][0]                      \n",
            "__________________________________________________________________________________________________\n",
            "squeeze_attention2d_2 (SqueezeA (None, 256, 28, 28)  8464        conv1x1_out_0_block2[0][0]       \n",
            "__________________________________________________________________________________________________\n",
            "add_2 (Add)                     (None, 256, 28, 28)  0           max_pooling2d_1[0][0]            \n",
            "                                                                 squeeze_attention2d_2[0][0]      \n",
            "__________________________________________________________________________________________________\n",
            "batch_normalization_9 (BatchNor (None, 256, 28, 28)  1024        add_2[0][0]                      \n",
            "__________________________________________________________________________________________________\n",
            "activation_9 (Activation)       (None, 256, 28, 28)  0           batch_normalization_9[0][0]      \n",
            "__________________________________________________________________________________________________\n",
            "conv1x1_in_1_block0 (Conv2D)    (None, 256, 28, 28)  65536       activation_9[0][0]               \n",
            "__________________________________________________________________________________________________\n",
            "batch_normalization_10 (BatchNo (None, 256, 28, 28)  1024        conv1x1_in_1_block0[0][0]        \n",
            "__________________________________________________________________________________________________\n",
            "activation_10 (Activation)      (None, 256, 28, 28)  0           batch_normalization_10[0][0]     \n",
            "__________________________________________________________________________________________________\n",
            "conv3x3_1_block0 (Conv2D)       (None, 256, 28, 28)  18432       activation_10[0][0]              \n",
            "__________________________________________________________________________________________________\n",
            "batch_normalization_11 (BatchNo (None, 256, 28, 28)  1024        conv3x3_1_block0[0][0]           \n",
            "__________________________________________________________________________________________________\n",
            "activation_11 (Activation)      (None, 256, 28, 28)  0           batch_normalization_11[0][0]     \n",
            "__________________________________________________________________________________________________\n",
            "conv1x1_out_1_block0 (Conv2D)   (None, 512, 28, 28)  131584      activation_11[0][0]              \n",
            "__________________________________________________________________________________________________\n",
            "conv1x1_identity_1_block0 (Conv (None, 512, 28, 28)  131584      activation_9[0][0]               \n",
            "__________________________________________________________________________________________________\n",
            "squeeze_attention2d_3 (SqueezeA (None, 512, 28, 28)  33312       conv1x1_out_1_block0[0][0]       \n",
            "__________________________________________________________________________________________________\n",
            "add_3 (Add)                     (None, 512, 28, 28)  0           conv1x1_identity_1_block0[0][0]  \n",
            "                                                                 squeeze_attention2d_3[0][0]      \n",
            "__________________________________________________________________________________________________\n",
            "batch_normalization_12 (BatchNo (None, 512, 28, 28)  2048        add_3[0][0]                      \n",
            "__________________________________________________________________________________________________\n",
            "activation_12 (Activation)      (None, 512, 28, 28)  0           batch_normalization_12[0][0]     \n",
            "__________________________________________________________________________________________________\n",
            "conv1x1_in_1_block1 (Conv2D)    (None, 256, 28, 28)  131072      activation_12[0][0]              \n",
            "__________________________________________________________________________________________________\n",
            "batch_normalization_13 (BatchNo (None, 256, 28, 28)  1024        conv1x1_in_1_block1[0][0]        \n",
            "__________________________________________________________________________________________________\n",
            "activation_13 (Activation)      (None, 256, 28, 28)  0           batch_normalization_13[0][0]     \n",
            "__________________________________________________________________________________________________\n",
            "conv3x3_1_block1 (Conv2D)       (None, 256, 28, 28)  18432       activation_13[0][0]              \n",
            "__________________________________________________________________________________________________\n",
            "batch_normalization_14 (BatchNo (None, 256, 28, 28)  1024        conv3x3_1_block1[0][0]           \n",
            "__________________________________________________________________________________________________\n",
            "activation_14 (Activation)      (None, 256, 28, 28)  0           batch_normalization_14[0][0]     \n",
            "__________________________________________________________________________________________________\n",
            "conv1x1_out_1_block1 (Conv2D)   (None, 512, 28, 28)  131584      activation_14[0][0]              \n",
            "__________________________________________________________________________________________________\n",
            "squeeze_attention2d_4 (SqueezeA (None, 512, 28, 28)  33312       conv1x1_out_1_block1[0][0]       \n",
            "__________________________________________________________________________________________________\n",
            "add_4 (Add)                     (None, 512, 28, 28)  0           add_3[0][0]                      \n",
            "                                                                 squeeze_attention2d_4[0][0]      \n",
            "__________________________________________________________________________________________________\n",
            "batch_normalization_15 (BatchNo (None, 512, 28, 28)  2048        add_4[0][0]                      \n",
            "__________________________________________________________________________________________________\n",
            "activation_15 (Activation)      (None, 512, 28, 28)  0           batch_normalization_15[0][0]     \n",
            "__________________________________________________________________________________________________\n",
            "conv1x1_in_1_block2 (Conv2D)    (None, 256, 28, 28)  131072      activation_15[0][0]              \n",
            "__________________________________________________________________________________________________\n",
            "batch_normalization_16 (BatchNo (None, 256, 28, 28)  1024        conv1x1_in_1_block2[0][0]        \n",
            "__________________________________________________________________________________________________\n",
            "activation_16 (Activation)      (None, 256, 28, 28)  0           batch_normalization_16[0][0]     \n",
            "__________________________________________________________________________________________________\n",
            "conv3x3_1_block2 (Conv2D)       (None, 256, 28, 28)  18432       activation_16[0][0]              \n",
            "__________________________________________________________________________________________________\n",
            "batch_normalization_17 (BatchNo (None, 256, 28, 28)  1024        conv3x3_1_block2[0][0]           \n",
            "__________________________________________________________________________________________________\n",
            "activation_17 (Activation)      (None, 256, 28, 28)  0           batch_normalization_17[0][0]     \n",
            "__________________________________________________________________________________________________\n",
            "conv1x1_out_1_block2 (Conv2D)   (None, 512, 28, 28)  131584      activation_17[0][0]              \n",
            "__________________________________________________________________________________________________\n",
            "squeeze_attention2d_5 (SqueezeA (None, 512, 28, 28)  33312       conv1x1_out_1_block2[0][0]       \n",
            "__________________________________________________________________________________________________\n",
            "add_5 (Add)                     (None, 512, 28, 28)  0           add_4[0][0]                      \n",
            "                                                                 squeeze_attention2d_5[0][0]      \n",
            "__________________________________________________________________________________________________\n",
            "batch_normalization_18 (BatchNo (None, 512, 28, 28)  2048        add_5[0][0]                      \n",
            "__________________________________________________________________________________________________\n",
            "activation_18 (Activation)      (None, 512, 28, 28)  0           batch_normalization_18[0][0]     \n",
            "__________________________________________________________________________________________________\n",
            "conv1x1_in_1_block3 (Conv2D)    (None, 256, 28, 28)  131072      activation_18[0][0]              \n",
            "__________________________________________________________________________________________________\n",
            "batch_normalization_19 (BatchNo (None, 256, 28, 28)  1024        conv1x1_in_1_block3[0][0]        \n",
            "__________________________________________________________________________________________________\n",
            "activation_19 (Activation)      (None, 256, 28, 28)  0           batch_normalization_19[0][0]     \n",
            "__________________________________________________________________________________________________\n",
            "conv3x3_1_block3 (Conv2D)       (None, 256, 14, 14)  18432       activation_19[0][0]              \n",
            "__________________________________________________________________________________________________\n",
            "batch_normalization_20 (BatchNo (None, 256, 14, 14)  1024        conv3x3_1_block3[0][0]           \n",
            "__________________________________________________________________________________________________\n",
            "activation_20 (Activation)      (None, 256, 14, 14)  0           batch_normalization_20[0][0]     \n",
            "__________________________________________________________________________________________________\n",
            "conv1x1_out_1_block3 (Conv2D)   (None, 512, 14, 14)  131584      activation_20[0][0]              \n",
            "__________________________________________________________________________________________________\n",
            "max_pooling2d_2 (MaxPooling2D)  (None, 512, 14, 14)  0           add_5[0][0]                      \n",
            "__________________________________________________________________________________________________\n",
            "squeeze_attention2d_6 (SqueezeA (None, 512, 14, 14)  33312       conv1x1_out_1_block3[0][0]       \n",
            "__________________________________________________________________________________________________\n",
            "add_6 (Add)                     (None, 512, 14, 14)  0           max_pooling2d_2[0][0]            \n",
            "                                                                 squeeze_attention2d_6[0][0]      \n",
            "__________________________________________________________________________________________________\n",
            "batch_normalization_21 (BatchNo (None, 512, 14, 14)  2048        add_6[0][0]                      \n",
            "__________________________________________________________________________________________________\n",
            "activation_21 (Activation)      (None, 512, 14, 14)  0           batch_normalization_21[0][0]     \n",
            "__________________________________________________________________________________________________\n",
            "conv1x1_in_2_block0 (Conv2D)    (None, 512, 14, 14)  262144      activation_21[0][0]              \n",
            "__________________________________________________________________________________________________\n",
            "batch_normalization_22 (BatchNo (None, 512, 14, 14)  2048        conv1x1_in_2_block0[0][0]        \n",
            "__________________________________________________________________________________________________\n",
            "activation_22 (Activation)      (None, 512, 14, 14)  0           batch_normalization_22[0][0]     \n",
            "__________________________________________________________________________________________________\n",
            "conv3x3_2_block0 (Conv2D)       (None, 512, 14, 14)  73728       activation_22[0][0]              \n",
            "__________________________________________________________________________________________________\n",
            "batch_normalization_23 (BatchNo (None, 512, 14, 14)  2048        conv3x3_2_block0[0][0]           \n",
            "__________________________________________________________________________________________________\n",
            "activation_23 (Activation)      (None, 512, 14, 14)  0           batch_normalization_23[0][0]     \n",
            "__________________________________________________________________________________________________\n",
            "conv1x1_out_2_block0 (Conv2D)   (None, 1024, 14, 14) 525312      activation_23[0][0]              \n",
            "__________________________________________________________________________________________________\n",
            "conv1x1_identity_2_block0 (Conv (None, 1024, 14, 14) 525312      activation_21[0][0]              \n",
            "__________________________________________________________________________________________________\n",
            "squeeze_attention2d_7 (SqueezeA (None, 1024, 14, 14) 132160      conv1x1_out_2_block0[0][0]       \n",
            "__________________________________________________________________________________________________\n",
            "add_7 (Add)                     (None, 1024, 14, 14) 0           conv1x1_identity_2_block0[0][0]  \n",
            "                                                                 squeeze_attention2d_7[0][0]      \n",
            "__________________________________________________________________________________________________\n",
            "batch_normalization_24 (BatchNo (None, 1024, 14, 14) 4096        add_7[0][0]                      \n",
            "__________________________________________________________________________________________________\n",
            "activation_24 (Activation)      (None, 1024, 14, 14) 0           batch_normalization_24[0][0]     \n",
            "__________________________________________________________________________________________________\n",
            "conv1x1_in_2_block1 (Conv2D)    (None, 512, 14, 14)  524288      activation_24[0][0]              \n",
            "__________________________________________________________________________________________________\n",
            "batch_normalization_25 (BatchNo (None, 512, 14, 14)  2048        conv1x1_in_2_block1[0][0]        \n",
            "__________________________________________________________________________________________________\n",
            "activation_25 (Activation)      (None, 512, 14, 14)  0           batch_normalization_25[0][0]     \n",
            "__________________________________________________________________________________________________\n",
            "conv3x3_2_block1 (Conv2D)       (None, 512, 14, 14)  73728       activation_25[0][0]              \n",
            "__________________________________________________________________________________________________\n",
            "batch_normalization_26 (BatchNo (None, 512, 14, 14)  2048        conv3x3_2_block1[0][0]           \n",
            "__________________________________________________________________________________________________\n",
            "activation_26 (Activation)      (None, 512, 14, 14)  0           batch_normalization_26[0][0]     \n",
            "__________________________________________________________________________________________________\n",
            "conv1x1_out_2_block1 (Conv2D)   (None, 1024, 14, 14) 525312      activation_26[0][0]              \n",
            "__________________________________________________________________________________________________\n",
            "squeeze_attention2d_8 (SqueezeA (None, 1024, 14, 14) 132160      conv1x1_out_2_block1[0][0]       \n",
            "__________________________________________________________________________________________________\n",
            "add_8 (Add)                     (None, 1024, 14, 14) 0           add_7[0][0]                      \n",
            "                                                                 squeeze_attention2d_8[0][0]      \n",
            "__________________________________________________________________________________________________\n",
            "batch_normalization_27 (BatchNo (None, 1024, 14, 14) 4096        add_8[0][0]                      \n",
            "__________________________________________________________________________________________________\n",
            "activation_27 (Activation)      (None, 1024, 14, 14) 0           batch_normalization_27[0][0]     \n",
            "__________________________________________________________________________________________________\n",
            "conv1x1_in_2_block2 (Conv2D)    (None, 512, 14, 14)  524288      activation_27[0][0]              \n",
            "__________________________________________________________________________________________________\n",
            "batch_normalization_28 (BatchNo (None, 512, 14, 14)  2048        conv1x1_in_2_block2[0][0]        \n",
            "__________________________________________________________________________________________________\n",
            "activation_28 (Activation)      (None, 512, 14, 14)  0           batch_normalization_28[0][0]     \n",
            "__________________________________________________________________________________________________\n",
            "conv3x3_2_block2 (Conv2D)       (None, 512, 14, 14)  73728       activation_28[0][0]              \n",
            "__________________________________________________________________________________________________\n",
            "batch_normalization_29 (BatchNo (None, 512, 14, 14)  2048        conv3x3_2_block2[0][0]           \n",
            "__________________________________________________________________________________________________\n",
            "activation_29 (Activation)      (None, 512, 14, 14)  0           batch_normalization_29[0][0]     \n",
            "__________________________________________________________________________________________________\n",
            "conv1x1_out_2_block2 (Conv2D)   (None, 1024, 14, 14) 525312      activation_29[0][0]              \n",
            "__________________________________________________________________________________________________\n",
            "squeeze_attention2d_9 (SqueezeA (None, 1024, 14, 14) 132160      conv1x1_out_2_block2[0][0]       \n",
            "__________________________________________________________________________________________________\n",
            "add_9 (Add)                     (None, 1024, 14, 14) 0           add_8[0][0]                      \n",
            "                                                                 squeeze_attention2d_9[0][0]      \n",
            "__________________________________________________________________________________________________\n",
            "batch_normalization_30 (BatchNo (None, 1024, 14, 14) 4096        add_9[0][0]                      \n",
            "__________________________________________________________________________________________________\n",
            "activation_30 (Activation)      (None, 1024, 14, 14) 0           batch_normalization_30[0][0]     \n",
            "__________________________________________________________________________________________________\n",
            "conv1x1_in_2_block3 (Conv2D)    (None, 512, 14, 14)  524288      activation_30[0][0]              \n",
            "__________________________________________________________________________________________________\n",
            "batch_normalization_31 (BatchNo (None, 512, 14, 14)  2048        conv1x1_in_2_block3[0][0]        \n",
            "__________________________________________________________________________________________________\n",
            "activation_31 (Activation)      (None, 512, 14, 14)  0           batch_normalization_31[0][0]     \n",
            "__________________________________________________________________________________________________\n",
            "conv3x3_2_block3 (Conv2D)       (None, 512, 14, 14)  73728       activation_31[0][0]              \n",
            "__________________________________________________________________________________________________\n",
            "batch_normalization_32 (BatchNo (None, 512, 14, 14)  2048        conv3x3_2_block3[0][0]           \n",
            "__________________________________________________________________________________________________\n",
            "activation_32 (Activation)      (None, 512, 14, 14)  0           batch_normalization_32[0][0]     \n",
            "__________________________________________________________________________________________________\n",
            "conv1x1_out_2_block3 (Conv2D)   (None, 1024, 14, 14) 525312      activation_32[0][0]              \n",
            "__________________________________________________________________________________________________\n",
            "squeeze_attention2d_10 (Squeeze (None, 1024, 14, 14) 132160      conv1x1_out_2_block3[0][0]       \n",
            "__________________________________________________________________________________________________\n",
            "add_10 (Add)                    (None, 1024, 14, 14) 0           add_9[0][0]                      \n",
            "                                                                 squeeze_attention2d_10[0][0]     \n",
            "__________________________________________________________________________________________________\n",
            "batch_normalization_33 (BatchNo (None, 1024, 14, 14) 4096        add_10[0][0]                     \n",
            "__________________________________________________________________________________________________\n",
            "activation_33 (Activation)      (None, 1024, 14, 14) 0           batch_normalization_33[0][0]     \n",
            "__________________________________________________________________________________________________\n",
            "conv1x1_in_2_block4 (Conv2D)    (None, 512, 14, 14)  524288      activation_33[0][0]              \n",
            "__________________________________________________________________________________________________\n",
            "batch_normalization_34 (BatchNo (None, 512, 14, 14)  2048        conv1x1_in_2_block4[0][0]        \n",
            "__________________________________________________________________________________________________\n",
            "activation_34 (Activation)      (None, 512, 14, 14)  0           batch_normalization_34[0][0]     \n",
            "__________________________________________________________________________________________________\n",
            "conv3x3_2_block4 (Conv2D)       (None, 512, 14, 14)  73728       activation_34[0][0]              \n",
            "__________________________________________________________________________________________________\n",
            "batch_normalization_35 (BatchNo (None, 512, 14, 14)  2048        conv3x3_2_block4[0][0]           \n",
            "__________________________________________________________________________________________________\n",
            "activation_35 (Activation)      (None, 512, 14, 14)  0           batch_normalization_35[0][0]     \n",
            "__________________________________________________________________________________________________\n",
            "conv1x1_out_2_block4 (Conv2D)   (None, 1024, 14, 14) 525312      activation_35[0][0]              \n",
            "__________________________________________________________________________________________________\n",
            "squeeze_attention2d_11 (Squeeze (None, 1024, 14, 14) 132160      conv1x1_out_2_block4[0][0]       \n",
            "__________________________________________________________________________________________________\n",
            "add_11 (Add)                    (None, 1024, 14, 14) 0           add_10[0][0]                     \n",
            "                                                                 squeeze_attention2d_11[0][0]     \n",
            "__________________________________________________________________________________________________\n",
            "batch_normalization_36 (BatchNo (None, 1024, 14, 14) 4096        add_11[0][0]                     \n",
            "__________________________________________________________________________________________________\n",
            "activation_36 (Activation)      (None, 1024, 14, 14) 0           batch_normalization_36[0][0]     \n",
            "__________________________________________________________________________________________________\n",
            "conv1x1_in_2_block5 (Conv2D)    (None, 512, 14, 14)  524288      activation_36[0][0]              \n",
            "__________________________________________________________________________________________________\n",
            "batch_normalization_37 (BatchNo (None, 512, 14, 14)  2048        conv1x1_in_2_block5[0][0]        \n",
            "__________________________________________________________________________________________________\n",
            "activation_37 (Activation)      (None, 512, 14, 14)  0           batch_normalization_37[0][0]     \n",
            "__________________________________________________________________________________________________\n",
            "conv3x3_2_block5 (Conv2D)       (None, 512, 7, 7)    73728       activation_37[0][0]              \n",
            "__________________________________________________________________________________________________\n",
            "batch_normalization_38 (BatchNo (None, 512, 7, 7)    2048        conv3x3_2_block5[0][0]           \n",
            "__________________________________________________________________________________________________\n",
            "activation_38 (Activation)      (None, 512, 7, 7)    0           batch_normalization_38[0][0]     \n",
            "__________________________________________________________________________________________________\n",
            "conv1x1_out_2_block5 (Conv2D)   (None, 1024, 7, 7)   525312      activation_38[0][0]              \n",
            "__________________________________________________________________________________________________\n",
            "max_pooling2d_3 (MaxPooling2D)  (None, 1024, 7, 7)   0           add_11[0][0]                     \n",
            "__________________________________________________________________________________________________\n",
            "squeeze_attention2d_12 (Squeeze (None, 1024, 7, 7)   132160      conv1x1_out_2_block5[0][0]       \n",
            "__________________________________________________________________________________________________\n",
            "add_12 (Add)                    (None, 1024, 7, 7)   0           max_pooling2d_3[0][0]            \n",
            "                                                                 squeeze_attention2d_12[0][0]     \n",
            "__________________________________________________________________________________________________\n",
            "batch_normalization_39 (BatchNo (None, 1024, 7, 7)   4096        add_12[0][0]                     \n",
            "__________________________________________________________________________________________________\n",
            "activation_39 (Activation)      (None, 1024, 7, 7)   0           batch_normalization_39[0][0]     \n",
            "__________________________________________________________________________________________________\n",
            "conv1x1_in_3_block0 (Conv2D)    (None, 1024, 7, 7)   1048576     activation_39[0][0]              \n",
            "__________________________________________________________________________________________________\n",
            "batch_normalization_40 (BatchNo (None, 1024, 7, 7)   4096        conv1x1_in_3_block0[0][0]        \n",
            "__________________________________________________________________________________________________\n",
            "activation_40 (Activation)      (None, 1024, 7, 7)   0           batch_normalization_40[0][0]     \n",
            "__________________________________________________________________________________________________\n",
            "conv3x3_3_block0 (Conv2D)       (None, 1024, 7, 7)   294912      activation_40[0][0]              \n",
            "__________________________________________________________________________________________________\n",
            "batch_normalization_41 (BatchNo (None, 1024, 7, 7)   4096        conv3x3_3_block0[0][0]           \n",
            "__________________________________________________________________________________________________\n",
            "activation_41 (Activation)      (None, 1024, 7, 7)   0           batch_normalization_41[0][0]     \n",
            "__________________________________________________________________________________________________\n",
            "conv1x1_out_3_block0 (Conv2D)   (None, 2048, 7, 7)   2099200     activation_41[0][0]              \n",
            "__________________________________________________________________________________________________\n",
            "conv1x1_identity_3_block0 (Conv (None, 2048, 7, 7)   2099200     activation_39[0][0]              \n",
            "__________________________________________________________________________________________________\n",
            "squeeze_attention2d_13 (Squeeze (None, 2048, 7, 7)   526464      conv1x1_out_3_block0[0][0]       \n",
            "__________________________________________________________________________________________________\n",
            "add_13 (Add)                    (None, 2048, 7, 7)   0           conv1x1_identity_3_block0[0][0]  \n",
            "                                                                 squeeze_attention2d_13[0][0]     \n",
            "__________________________________________________________________________________________________\n",
            "batch_normalization_42 (BatchNo (None, 2048, 7, 7)   8192        add_13[0][0]                     \n",
            "__________________________________________________________________________________________________\n",
            "activation_42 (Activation)      (None, 2048, 7, 7)   0           batch_normalization_42[0][0]     \n",
            "__________________________________________________________________________________________________\n",
            "conv1x1_in_3_block1 (Conv2D)    (None, 1024, 7, 7)   2097152     activation_42[0][0]              \n",
            "__________________________________________________________________________________________________\n",
            "batch_normalization_43 (BatchNo (None, 1024, 7, 7)   4096        conv1x1_in_3_block1[0][0]        \n",
            "__________________________________________________________________________________________________\n",
            "activation_43 (Activation)      (None, 1024, 7, 7)   0           batch_normalization_43[0][0]     \n",
            "__________________________________________________________________________________________________\n",
            "conv3x3_3_block1 (Conv2D)       (None, 1024, 7, 7)   294912      activation_43[0][0]              \n",
            "__________________________________________________________________________________________________\n",
            "batch_normalization_44 (BatchNo (None, 1024, 7, 7)   4096        conv3x3_3_block1[0][0]           \n",
            "__________________________________________________________________________________________________\n",
            "activation_44 (Activation)      (None, 1024, 7, 7)   0           batch_normalization_44[0][0]     \n",
            "__________________________________________________________________________________________________\n",
            "conv1x1_out_3_block1 (Conv2D)   (None, 2048, 7, 7)   2099200     activation_44[0][0]              \n",
            "__________________________________________________________________________________________________\n",
            "squeeze_attention2d_14 (Squeeze (None, 2048, 7, 7)   526464      conv1x1_out_3_block1[0][0]       \n",
            "__________________________________________________________________________________________________\n",
            "add_14 (Add)                    (None, 2048, 7, 7)   0           add_13[0][0]                     \n",
            "                                                                 squeeze_attention2d_14[0][0]     \n",
            "__________________________________________________________________________________________________\n",
            "batch_normalization_45 (BatchNo (None, 2048, 7, 7)   8192        add_14[0][0]                     \n",
            "__________________________________________________________________________________________________\n",
            "activation_45 (Activation)      (None, 2048, 7, 7)   0           batch_normalization_45[0][0]     \n",
            "__________________________________________________________________________________________________\n",
            "conv1x1_in_3_block2 (Conv2D)    (None, 1024, 7, 7)   2097152     activation_45[0][0]              \n",
            "__________________________________________________________________________________________________\n",
            "batch_normalization_46 (BatchNo (None, 1024, 7, 7)   4096        conv1x1_in_3_block2[0][0]        \n",
            "__________________________________________________________________________________________________\n",
            "activation_46 (Activation)      (None, 1024, 7, 7)   0           batch_normalization_46[0][0]     \n",
            "__________________________________________________________________________________________________\n",
            "conv3x3_3_block2 (Conv2D)       (None, 1024, 7, 7)   294912      activation_46[0][0]              \n",
            "__________________________________________________________________________________________________\n",
            "batch_normalization_47 (BatchNo (None, 1024, 7, 7)   4096        conv3x3_3_block2[0][0]           \n",
            "__________________________________________________________________________________________________\n",
            "activation_47 (Activation)      (None, 1024, 7, 7)   0           batch_normalization_47[0][0]     \n",
            "__________________________________________________________________________________________________\n",
            "conv1x1_out_3_block2 (Conv2D)   (None, 2048, 7, 7)   2099200     activation_47[0][0]              \n",
            "__________________________________________________________________________________________________\n",
            "squeeze_attention2d_15 (Squeeze (None, 2048, 7, 7)   526464      conv1x1_out_3_block2[0][0]       \n",
            "__________________________________________________________________________________________________\n",
            "add_15 (Add)                    (None, 2048, 7, 7)   0           add_14[0][0]                     \n",
            "                                                                 squeeze_attention2d_15[0][0]     \n",
            "__________________________________________________________________________________________________\n",
            "batch_normalization_48 (BatchNo (None, 2048, 7, 7)   8192        add_15[0][0]                     \n",
            "__________________________________________________________________________________________________\n",
            "activation_48 (Activation)      (None, 2048, 7, 7)   0           batch_normalization_48[0][0]     \n",
            "__________________________________________________________________________________________________\n",
            "global_average_pooling2d_16 (Gl (None, 2048)         0           activation_48[0][0]              \n",
            "__________________________________________________________________________________________________\n",
            "dense (Dense)                   (None, 10)           20490       global_average_pooling2d_16[0][0]\n",
            "__________________________________________________________________________________________________\n",
            "softmax (Softmax)               (None, 10)           0           dense[0][0]                      \n",
            "==================================================================================================\n",
            "Total params: 25,603,258\n",
            "Trainable params: 25,542,714\n",
            "Non-trainable params: 60,544\n",
            "__________________________________________________________________________________________________\n"
          ],
          "name": "stdout"
        }
      ]
    },
    {
      "cell_type": "code",
      "metadata": {
        "id": "S5lVqcbLtB6T"
      },
      "source": [
        "if CONFIG[\"optimizer\"] == 'adamw':\n",
        "    opt = tfa.optimizers.AdamW(learning_rate=CONFIG[\"lr\"], weight_decay=CONFIG[\"weight_decay\"])\n",
        "opt = tf.keras.mixed_precision.LossScaleOptimizer(opt)"
      ],
      "execution_count": 30,
      "outputs": []
    },
    {
      "cell_type": "code",
      "metadata": {
        "id": "gdmXP4uftDqd"
      },
      "source": [
        "if CONFIG[\"loss_function\"] == 'cce':\n",
        "    loss_function = tf.keras.losses.SparseCategoricalCrossentropy()"
      ],
      "execution_count": 31,
      "outputs": []
    },
    {
      "cell_type": "code",
      "metadata": {
        "id": "IYx3tOeMsxuQ"
      },
      "source": [
        "wandb_cb = WandbCallback(monitor='val_accuracy', mode='max', generator=val_ds)"
      ],
      "execution_count": 32,
      "outputs": []
    },
    {
      "cell_type": "code",
      "metadata": {
        "id": "0eAiHQBctE4F"
      },
      "source": [
        "model.compile(optimizer=opt, loss=loss_function, metrics=['accuracy'])"
      ],
      "execution_count": 33,
      "outputs": []
    },
    {
      "cell_type": "code",
      "metadata": {
        "colab": {
          "base_uri": "https://localhost:8080/"
        },
        "id": "_napcMLcie5A",
        "outputId": "b357c20d-024b-4b61-af36-a46d830bfcc0"
      },
      "source": [
        "history = model.fit(train_ds,\n",
        "                    epochs=100,\n",
        "                    validation_data=val_ds,\n",
        "                    workers=4,\n",
        "                    use_multiprocessing=True,\n",
        "                    callbacks=[wandb_cb])"
      ],
      "execution_count": null,
      "outputs": [
        {
          "output_type": "stream",
          "text": [
            "Epoch 1/100\n",
            "50/50 [==============================] - 169s 2s/step - loss: 2.3030 - accuracy: 0.2974 - val_loss: 2.5757 - val_accuracy: 0.1017\n",
            "Epoch 2/100\n",
            "50/50 [==============================] - 111s 2s/step - loss: 1.6831 - accuracy: 0.4279 - val_loss: 3.1691 - val_accuracy: 0.1017\n",
            "Epoch 3/100\n",
            "50/50 [==============================] - 111s 2s/step - loss: 1.5002 - accuracy: 0.4959 - val_loss: 3.7371 - val_accuracy: 0.1017\n",
            "Epoch 4/100\n",
            "50/50 [==============================] - 111s 2s/step - loss: 1.3353 - accuracy: 0.5573 - val_loss: 4.0571 - val_accuracy: 0.1518\n",
            "Epoch 5/100\n",
            "50/50 [==============================] - 111s 2s/step - loss: 1.2107 - accuracy: 0.5958 - val_loss: 3.7905 - val_accuracy: 0.1501\n",
            "Epoch 6/100\n",
            "50/50 [==============================] - 111s 2s/step - loss: 1.1193 - accuracy: 0.6284 - val_loss: 3.2284 - val_accuracy: 0.1944\n",
            "Epoch 7/100\n",
            "50/50 [==============================] - 111s 2s/step - loss: 1.0518 - accuracy: 0.6549 - val_loss: 2.9851 - val_accuracy: 0.2864\n",
            "Epoch 8/100\n",
            "50/50 [==============================] - 112s 2s/step - loss: 0.9865 - accuracy: 0.6677 - val_loss: 2.8153 - val_accuracy: 0.3781\n",
            "Epoch 9/100\n",
            "50/50 [==============================] - 110s 2s/step - loss: 0.9401 - accuracy: 0.6907 - val_loss: 1.8405 - val_accuracy: 0.5139\n",
            "Epoch 10/100\n",
            "42/50 [========================>.....] - ETA: 16s - loss: 0.9066 - accuracy: 0.7043"
          ],
          "name": "stdout"
        }
      ]
    },
    {
      "cell_type": "code",
      "metadata": {
        "id": "Yogrb2QebwWW"
      },
      "source": [
        "run.finish()"
      ],
      "execution_count": null,
      "outputs": []
    },
    {
      "cell_type": "code",
      "metadata": {
        "id": "sO3Vo8gbt84z"
      },
      "source": [
        "# decisive_depth\n",
        "# x = block(args)(x)\n",
        "# gp = globalpool(x)\n",
        "# gamma = dense(1)(gp) # sigmoid or simply relu\n",
        "# next_block = block(args)\n",
        "# def call(args):         # or process in batch and mask with 0\n",
        "#     x, next_block, gamma = args\n",
        "#     if gamma > 0.5:\n",
        "#         x = next_block(x)\n",
        "#     else:\n",
        "#         x = pool(x) (if stride>1 else x) or pointwise(x)\n",
        "# x = tf.map_fn(call, (x, next_block, gamma))\n",
        "# x = block(args)(x)"
      ],
      "execution_count": null,
      "outputs": []
    }
  ]
}